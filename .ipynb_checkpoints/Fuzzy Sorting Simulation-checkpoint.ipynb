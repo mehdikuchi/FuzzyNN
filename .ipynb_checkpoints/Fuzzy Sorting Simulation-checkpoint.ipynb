{
 "cells": [
  {
   "cell_type": "markdown",
   "metadata": {},
   "source": [
    "# Simulation of soft computing course's project\n",
    "#### Author: Mahdi Tanbakuchi             \n"
   ]
  },
  {
   "cell_type": "markdown",
   "metadata": {},
   "source": [
    "<b> First required libraries are imported to the workspace </b>"
   ]
  },
  {
   "cell_type": "code",
   "execution_count": 50,
   "metadata": {},
   "outputs": [],
   "source": [
    "import numpy as np\n",
    "import random \n",
    "import matplotlib.pyplot as plt\n",
    "from itertools import permutations"
   ]
  },
  {
   "cell_type": "markdown",
   "metadata": {},
   "source": [
    "<i> Now lets define the model to generate our data which can be later used for evaluating the idea proposed in the abstract</i><br>\n",
    "Below the Fr represents the acceptable frequnecies for the normal case while the Fw is representetive for the abnormal case. scale is used to generate samples from the frequency ranges randomly"
   ]
  },
  {
   "cell_type": "code",
   "execution_count": 51,
   "metadata": {},
   "outputs": [],
   "source": [
    "Fr = np.linspace(0,7,30)\n",
    "Fr = np.concatenate((Fr,np.linspace(11,15,30)))\n",
    "Fw = np.linspace(8,10,30)\n",
    "Fr = np.random.permutation(Fr)\n",
    "Fw = np.random.permutation(Fw)\n",
    "scale = np.linspace(1,100,100)\n",
    "scale = np.random.permutation(scale)"
   ]
  },
  {
   "cell_type": "markdown",
   "metadata": {},
   "source": [
    "Now lets define experimental settings:\n"
   ]
  },
  {
   "cell_type": "code",
   "execution_count": 52,
   "metadata": {},
   "outputs": [],
   "source": [
    "fs = 32       # in hertz    \n",
    "duration=8   # in seconds\n",
    "ch = 8       # Number of channels"
   ]
  },
  {
   "cell_type": "markdown",
   "metadata": {},
   "source": [
    "Now that all the ingredients of the generator is made ready it is time to define the generator itself: <br>\n",
    "The generator works as follows:\n",
    "1. uses cosine function with the given frequency \n",
    "2. uses the wegith to superpose all the given frequencies \n",
    "<br>\n",
    "\n",
    "The sampling frequency should also be given to the code (fs=256 hz by default)"
   ]
  },
  {
   "cell_type": "code",
   "execution_count": 53,
   "metadata": {},
   "outputs": [],
   "source": [
    "def datagen(freq,coef,fs=32,duration=8):    \n",
    "    t = np.arange(0,duration,1/fs)\n",
    "    y = np.zeros(t.shape)\n",
    "    if(np.linalg.norm(coef)!=1):\n",
    "        coefnorm = coef/np.linalg.norm(coef)\n",
    "    for i,j in zip(freq,coefnorm):\n",
    "        y+=j*np.cos(2*np.pi*i*t)\n",
    "    return y\n",
    "        \n",
    "    "
   ]
  },
  {
   "cell_type": "markdown",
   "metadata": {},
   "source": [
    "Now parameter selection must be done in order to simulate the data for evaluation.<br> \n",
    "Here the following assumtions are made:\n",
    "1. Only 5 components for each signal are used no more and no less\n",
    "2. The two scenarios are assumed to be destinguishable in frequency bands \n",
    "3. The whole dataset size is set to 10000\n",
    "4. the class in the training data set is imbalanced as is the case in real scenarios (80% normal and 20% abnormal case)"
   ]
  },
  {
   "cell_type": "code",
   "execution_count": 54,
   "metadata": {},
   "outputs": [],
   "source": [
    "N = 5 \n",
    "datasetsize = 10000\n",
    "clr = 0.2\n",
    "t = np.arange(0,duration,1/fs)\n",
    "Frd = permutations(Fr,N)\n",
    "Fwd = permutations(Fw,N)\n",
    "scale1=permutations(scale,N)\n",
    "scale = np.random.permutation(scale)\n",
    "scale2=permutations(scale,N)\n",
    "posdatasize = np.int32(datasetsize*(1-clr))\n",
    "negdatasize = np.int32(datasetsize*clr)\n",
    "posdata = []\n",
    "negdata = []\n",
    "for i in range(posdatasize):\n",
    "    posdata.append(datagen(next(Frd),next(scale1)))\n",
    "for i in range(negdatasize):\n",
    "    negdata.append(datagen(next(Fwd),next(scale2)))\n"
   ]
  },
  {
   "cell_type": "markdown",
   "metadata": {},
   "source": [
    "Let's see one of our subject samples (one channel of a subject) "
   ]
  },
  {
   "cell_type": "code",
   "execution_count": 55,
   "metadata": {},
   "outputs": [
    {
     "data": {
      "text/plain": [
       "Text(0.5, 1.0, 'Abnormal case')"
      ]
     },
     "execution_count": 55,
     "metadata": {},
     "output_type": "execute_result"
    },
    {
     "data": {
      "image/png": "[encoded data removed]",
      "text/plain": [
       "<Figure size 432x288 with 2 Axes>"
      ]
     },
     "metadata": {
      "needs_background": "light"
     },
     "output_type": "display_data"
    }
   ],
   "source": [
    "a1 = plt.subplot(121)\n",
    "plt.plot(t,posdata[0])\n",
    "a1.set_title(\"Normal Case\")\n",
    "a2 = plt.subplot(122)\n",
    "plt.plot(t,negdata[0])\n",
    "a2.set_title(\"Abnormal case\")\n"
   ]
  },
  {
   "cell_type": "markdown",
   "metadata": {},
   "source": [
    "In order to simulate wake labelling procedure as that happens in the real scenarios, we use the data produced in the previous stpes and sample from each ch times to obtain a ch-channel EEG signal sample data of duration length. Samples having at least one data from negdata are considered as abnormal case in the new training dataset. <br>\n",
    "Below the normal EEG data is produced."
   ]
  },
  {
   "cell_type": "code",
   "execution_count": 113,
   "metadata": {},
   "outputs": [],
   "source": [
    "weakpositer = permutations(posdata,ch) \n",
    "posdataweak = np.zeros((posdatasize,ch,*t.shape))\n",
    "for i in range(posdatasize):\n",
    "    posdataweak[i]=np.array(next(weakpositer))"
   ]
  },
  {
   "cell_type": "markdown",
   "metadata": {},
   "source": [
    "Below the abnormal EEG data is produced. First we decide how many channels are consistent with abnormal conditions afterwards we decide on which channel the abnormal EEG sample signal is to be appeared."
   ]
  },
  {
   "cell_type": "code",
   "execution_count": 100,
   "metadata": {},
   "outputs": [],
   "source": [
    "nums = random.choices(range(1,4),k=negdatasize)\n",
    "positions = [random.sample(range(0,8),k=i) for i in nums]\n",
    "posdata2 = iter(np.random.permutation(posdata))\n",
    "negdata2 = iter(np.random.permutation(negdata))\n",
    "negdataweak=[]\n",
    "negdata3=np.zeros((negdatasize,ch,*t.shape))\n",
    "index = 0\n",
    "for pos in positions:\n",
    "    for i in range(8):\n",
    "        if(i in pos):\n",
    "            try:\n",
    "                negdata3[index,i,:] = next(negdata2)\n",
    "            except StopIteration:\n",
    "                negdata2 = iter(np.random.permutation(negdata))\n",
    "                negdata3[index,i,:] = next(negdata2)\n",
    "        else:\n",
    "            try:\n",
    "                negdata3[index,i,:] = next(posdata2)\n",
    "            except StopIteration:\n",
    "                posdata2 = iter(np.random.permutation(posdata))\n",
    "                negdata3[index,i,:] = next(posdata2)\n",
    "    index+=1\n",
    "            \n",
    "negdataweak = negdata3"
   ]
  },
  {
   "cell_type": "markdown",
   "metadata": {},
   "source": [
    "Now we have produced the synthetic data conforming with the weak labels as that mentioned in the article. Let's train the proposed deep FCN with the procedure outlined in the paper. "
   ]
  },
  {
   "cell_type": "code",
   "execution_count": 58,
   "metadata": {},
   "outputs": [],
   "source": [
    "import tensorflow as tf\n",
    "from tensorflow import keras\n"
   ]
  },
  {
   "cell_type": "code",
   "execution_count": 121,
   "metadata": {},
   "outputs": [
    {
     "data": {
      "text/plain": [
       "array([[ 2.02437392,  0.54448521,  0.85983054, ..., -0.19292774,\n",
       "         0.75602078,  0.44115235],\n",
       "       [ 2.03392492,  0.4180233 , -0.16201607, ..., -0.46485579,\n",
       "        -0.08131114,  0.48656752],\n",
       "       [ 2.11452524,  0.75704306,  0.61300351, ..., -0.66283676,\n",
       "         0.33493985,  0.49579429],\n",
       "       ...,\n",
       "       [ 2.14158196,  0.05720051,  0.62259169, ..., -0.52407632,\n",
       "         1.08199445,  0.44476416],\n",
       "       [ 2.10851815,  0.54623968,  0.56993917, ...,  0.17996211,\n",
       "         0.83296255,  0.23854936],\n",
       "       [ 1.9265198 ,  0.38107425,  0.71614219, ..., -0.06215369,\n",
       "         0.81602302,  0.50002495]])"
      ]
     },
     "execution_count": 121,
     "metadata": {},
     "output_type": "execute_result"
    }
   ],
   "source": [
    "# posdataweak = np.array(posdataweak)\n",
    "# negdataweakk = np.array(negdataweak)\n",
    "# np.all(negdataweak[1]==negdataweak[10])\n",
    "# np.all(posdataweak[2]==posdataweak[2])\n",
    "# negdataweak\n",
    "# posdataweak"
   ]
  },
  {
   "cell_type": "code",
   "execution_count": 11,
   "metadata": {},
   "outputs": [],
   "source": [
    "class myclass:\n",
    "    def __init__(self,a=10,b=5):\n",
    "        self.a= a\n",
    "        self.b = b\n",
    "    def __call__(self):\n",
    "        return self.a+self.b\n",
    "        "
   ]
  },
  {
   "cell_type": "code",
   "execution_count": 79,
   "metadata": {},
   "outputs": [
    {
     "data": {
      "text/plain": [
       "array([[1., 1., 1.]])"
      ]
     },
     "execution_count": 79,
     "metadata": {},
     "output_type": "execute_result"
    }
   ],
   "source": [
    "a = np.ones((1,3))\n",
    "b = np.ones((3,))*2\n",
    "c = np.ones((3,))*3\n",
    "d = [a,b,c]\n",
    "dd = np.array(d)\n",
    "a\n",
    "np.all()"
   ]
  },
  {
   "cell_type": "code",
   "execution_count": 110,
   "metadata": {},
   "outputs": [
    {
     "ename": "SyntaxError",
     "evalue": "can't use starred expression here (<ipython-input-110-6fa71ba4d180>, line 4)",
     "output_type": "error",
     "traceback": [
      "\u001b[1;36m  File \u001b[1;32m\"<ipython-input-110-6fa71ba4d180>\"\u001b[1;36m, line \u001b[1;32m4\u001b[0m\n\u001b[1;31mSyntaxError\u001b[0m\u001b[1;31m:\u001b[0m can't use starred expression here\n"
     ]
    }
   ],
   "source": [
    "*t.shape"
   ]
  }
 ],
 "metadata": {
  "kernelspec": {
   "display_name": "Python 3",
   "language": "python",
   "name": "python3"
  },
  "language_info": {
   "codemirror_mode": {
    "name": "ipython",
    "version": 3
   },
   "file_extension": ".py",
   "mimetype": "text/x-python",
   "name": "python",
   "nbconvert_exporter": "python",
   "pygments_lexer": "ipython3",
   "version": "3.7.4"
  }
 },
 "nbformat": 4,
 "nbformat_minor": 2
}
