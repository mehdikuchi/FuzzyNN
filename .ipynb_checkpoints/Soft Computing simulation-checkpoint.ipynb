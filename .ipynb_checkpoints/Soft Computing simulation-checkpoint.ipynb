{
 "cells": [
  {
   "cell_type": "markdown",
   "metadata": {},
   "source": [
    "# Simulation of soft computing course's project\n",
    "#### Author: Mahdi Tanbakuchi              SID: 9816408046\n"
   ]
  },
  {
   "cell_type": "markdown",
   "metadata": {},
   "source": [
    "<b> First required libraries are imported to the workspace </b>"
   ]
  },
  {
   "cell_type": "code",
   "execution_count": 52,
   "metadata": {},
   "outputs": [],
   "source": [
    "import numpy as np\n",
    "import random \n",
    "import matplotlib.pyplot as plt"
   ]
  },
  {
   "cell_type": "markdown",
   "metadata": {},
   "source": [
    "<i> Now lets define the model to generate our data which can be later used for evaluating the idea proposed in the abstract</i><br>\n",
    "Below the Fr represents the acceptable frequnecies for the normal case while the Fw is representetive for the abnormal case. scale is used to generate samples from the frequency ranges randomly"
   ]
  },
  {
   "cell_type": "code",
   "execution_count": 17,
   "metadata": {},
   "outputs": [],
   "source": [
    "Fr = np.linspace(0,10,30)\n",
    "Fr = np.concatenate((Fr,np.linspace(15,30,30)))\n",
    "Fw = np.linspace(10.1,14.9,30)\n",
    "Fr = np.random.permutation(Fr)\n",
    "Fw = np.random.permutation(Fw)\n",
    "scale = np.linspace(1,100,100)\n",
    "scale = np.random.permutation(scale)"
   ]
  },
  {
   "cell_type": "markdown",
   "metadata": {},
   "source": [
    "Now parameter selection must be done in order to simulate the data for evaluation "
   ]
  },
  {
   "cell_type": "code",
   "execution_count": 35,
   "metadata": {},
   "outputs": [
    {
     "data": {
      "text/plain": [
       "array([[0.42057938, 0.11737099, 0.68466411, 0.44992213, 0.3716748 ],\n",
       "       [0.75394641, 0.6228253 , 0.13112112, 0.12292605, 0.10653591],\n",
       "       [0.43300188, 0.15588068, 0.64950282, 0.50228218, 0.33774146],\n",
       "       [0.5744033 , 0.20181737, 0.16300634, 0.76069626, 0.15524413],\n",
       "       [0.61564808, 0.39019949, 0.63299028, 0.24279079, 0.0953821 ],\n",
       "       [0.17914964, 0.38658607, 0.0660025 , 0.50916214, 0.74488536],\n",
       "       [0.37547911, 0.05689077, 0.56890774, 0.54615143, 0.48357158],\n",
       "       [0.2379659 , 0.26771164, 0.48336824, 0.6469698 , 0.46849538],\n",
       "       [0.01830698, 0.50039085, 0.5553118 , 0.39054896, 0.53700482],\n",
       "       [0.24966102, 0.66214444, 0.06512896, 0.43419307, 0.55359617],\n",
       "       [0.85045957, 0.01828945, 0.04572363, 0.47552578, 0.21947344],\n",
       "       [0.40113784, 0.42153468, 0.53031783, 0.40793679, 0.46232836],\n",
       "       [0.56914174, 0.2303669 , 0.35910134, 0.6707742 , 0.21004041],\n",
       "       [0.0721039 , 0.6409236 , 0.66495823, 0.29642716, 0.2323348 ],\n",
       "       [0.25460101, 0.05819452, 0.16003492, 0.65468831, 0.69105988],\n",
       "       [0.25125771, 0.51012928, 0.71570377, 0.2284161 , 0.33501027],\n",
       "       [0.24604583, 0.54130083, 0.75782116, 0.2657295 , 0.03936733],\n",
       "       [0.32106791, 0.55332981, 0.38938024, 0.66262952, 0.00683123],\n",
       "       [0.12535024, 0.42977225, 0.37605072, 0.79686938, 0.152211  ],\n",
       "       [0.32395676, 0.4760181 , 0.56857718, 0.45618401, 0.3702363 ]])"
      ]
     },
     "execution_count": 35,
     "metadata": {},
     "output_type": "execute_result"
    }
   ],
   "source": [
    "N = 5 \n",
    "Fr = np.reshape(Fr,(-1,N))\n",
    "scale=scale.reshape((-1,N))\n",
    "normscale = np.zeros(scale.shape)\n",
    "index = 0\n",
    "for data in scale:\n",
    "    normscale[index,:] = data/np.linalg.norm(data)\n",
    "    index+=1\n",
    "normscale\n"
   ]
  },
  {
   "cell_type": "markdown",
   "metadata": {},
   "source": [
    "Now that all the ingredients of the generator is made ready it is time to define the generator itself: <br>\n",
    "The generator works as follows:\n",
    "<list>\n",
    "    <li> uses cosine function with the given frequency </li>\n",
    "    <li> uses the wegith to superpose all the given frequencies </li>\n",
    "</list>\n",
    "The sampling frequency should also be given to the code (fs=256 hz by default)"
   ]
  },
  {
   "cell_type": "code",
   "execution_count": 56,
   "metadata": {},
   "outputs": [],
   "source": [
    "def datagen(freq,coef,fs=256,duration=10):    \n",
    "    t = np.linspace(0,duration-1,fs*duration)\n",
    "    y = np.zeros(t.shape)\n",
    "    if(np.linalg.norm(coef)!=1):\n",
    "        coefnorm = coef/np.linalg.norm(coef)\n",
    "    for i,j in zip(freq,coefnorm):\n",
    "        y+=j*np.cos(2*np.pi*i*t)\n",
    "    return y\n",
    "        \n",
    "    "
   ]
  },
  {
   "cell_type": "code",
   "execution_count": 61,
   "metadata": {},
   "outputs": [
    {
     "data": {
      "text/plain": [
       "[<matplotlib.lines.Line2D at 0x17c49c61898>]"
      ]
     },
     "execution_count": 61,
     "metadata": {},
     "output_type": "execute_result"
    },
    {
     "data": {
      "image/png": "[encoded data removed]",
      "text/plain": [
       "<Figure size 432x288 with 1 Axes>"
      ]
     },
     "metadata": {
      "needs_background": "light"
     },
     "output_type": "display_data"
    }
   ],
   "source": [
    "a = datagen([1,20,3],[2,1,1])\n",
    "plt.plot(a)"
   ]
  },
  {
   "cell_type": "code",
   "execution_count": null,
   "metadata": {},
   "outputs": [],
   "source": []
  }
 ],
 "metadata": {
  "kernelspec": {
   "display_name": "Python 3",
   "language": "python",
   "name": "python3"
  },
  "language_info": {
   "codemirror_mode": {
    "name": "ipython",
    "version": 3
   },
   "file_extension": ".py",
   "mimetype": "text/x-python",
   "name": "python",
   "nbconvert_exporter": "python",
   "pygments_lexer": "ipython3",
   "version": "3.6.6"
  }
 },
 "nbformat": 4,
 "nbformat_minor": 2
}
