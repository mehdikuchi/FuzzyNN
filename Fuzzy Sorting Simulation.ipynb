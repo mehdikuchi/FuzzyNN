{
 "cells": [
  {
   "cell_type": "markdown",
   "metadata": {},
   "source": [
    "# Simulation of soft computing course's project\n",
    "#### Author: Mahdi Tanbakuchi             \n"
   ]
  },
  {
   "cell_type": "markdown",
   "metadata": {},
   "source": [
    "<b> First required libraries are imported to the workspace </b>"
   ]
  },
  {
   "cell_type": "code",
   "execution_count": 3,
   "metadata": {},
   "outputs": [],
   "source": [
    "import numpy as np\n",
    "import random \n",
    "import matplotlib.pyplot as plt\n",
    "from itertools import permutations"
   ]
  },
  {
   "cell_type": "markdown",
   "metadata": {},
   "source": [
    "<i> Now lets define the model to generate our data which can be later used for evaluating the idea proposed in the abstract</i><br>\n",
    "Below the Fr represents the acceptable frequnecies for the normal case while the Fw is representetive for the abnormal case. scale is used to generate samples from the frequency ranges randomly"
   ]
  },
  {
   "cell_type": "code",
   "execution_count": 29,
   "metadata": {},
   "outputs": [],
   "source": [
    "random.seed(0)\n",
    "Fr = np.linspace(0,7,30)\n",
    "Fr = np.concatenate((Fr,np.linspace(11,15,30)))\n",
    "Fw = np.linspace(8,10,30)\n",
    "Fr = np.random.permutation(Fr)\n",
    "Fw = np.random.permutation(Fw)\n",
    "scale = np.linspace(1,100,100)\n",
    "scale = np.random.permutation(scale)"
   ]
  },
  {
   "cell_type": "markdown",
   "metadata": {},
   "source": [
    "Now lets define experimental settings:\n"
   ]
  },
  {
   "cell_type": "code",
   "execution_count": 30,
   "metadata": {},
   "outputs": [],
   "source": [
    "fs = 32       # in hertz    \n",
    "duration=8   # in seconds\n",
    "ch = 8       # Number of channels"
   ]
  },
  {
   "cell_type": "markdown",
   "metadata": {},
   "source": [
    "Now that all the ingredients of the generator is made ready it is time to define the generator itself: <br>\n",
    "The generator works as follows:\n",
    "1. uses cosine function with the given frequency \n",
    "2. uses the wegith to superpose all the given frequencies \n",
    "<br>\n",
    "\n",
    "The sampling frequency should also be given to the code (fs=32 hz by default)"
   ]
  },
  {
   "cell_type": "code",
   "execution_count": 31,
   "metadata": {},
   "outputs": [],
   "source": [
    "def datagen(freq,coef,fs=32,duration=8):    \n",
    "    t = np.arange(0,duration,1/fs)\n",
    "    y = np.zeros(t.shape)\n",
    "    if(np.linalg.norm(coef)!=1):\n",
    "        coefnorm = coef/np.linalg.norm(coef)\n",
    "    for i,j in zip(freq,coefnorm):\n",
    "        y+=j*np.cos(2*np.pi*i*t)\n",
    "    return y\n",
    "        \n",
    "    "
   ]
  },
  {
   "cell_type": "markdown",
   "metadata": {},
   "source": [
    "Now parameter selection must be done in order to simulate the data for evaluation.<br> \n",
    "Here the following assumtions are made:\n",
    "1. Only 5 components for each signal are used no more and no less\n",
    "2. The two scenarios are assumed to be destinguishable in frequency bands \n",
    "3. The whole dataset size is set to 10000\n",
    "4. the class in the training data set is imbalanced as is the case in real scenarios (80% normal and 20% abnormal case)"
   ]
  },
  {
   "cell_type": "code",
   "execution_count": 32,
   "metadata": {},
   "outputs": [],
   "source": [
    "N = 5 \n",
    "datasetsize = 10000\n",
    "clr = 0.2\n",
    "t = np.arange(0,duration,1/fs)\n",
    "Frd = permutations(Fr,N)\n",
    "Fwd = permutations(Fw,N)\n",
    "scale1=permutations(scale,N)\n",
    "scale = np.random.permutation(scale)\n",
    "scale2=permutations(scale,N)\n",
    "posdatasize = np.int32(datasetsize*(1-clr))\n",
    "negdatasize = np.int32(datasetsize*clr)\n",
    "posdata = []\n",
    "negdata = []\n",
    "for i in range(posdatasize):\n",
    "    posdata.append(datagen(next(Frd),next(scale1)))\n",
    "for i in range(negdatasize):\n",
    "    negdata.append(datagen(next(Fwd),next(scale2)))\n"
   ]
  },
  {
   "cell_type": "markdown",
   "metadata": {},
   "source": [
    "Let's see one of our subject samples (one channel of a subject) "
   ]
  },
  {
   "cell_type": "code",
   "execution_count": 33,
   "metadata": {},
   "outputs": [
    {
     "data": {
      "text/plain": [
       "Text(0.5, 1.0, 'Abnormal case')"
      ]
     },
     "execution_count": 33,
     "metadata": {},
     "output_type": "execute_result"
    },
    {
     "data": {
      "image/png": "[encoded data removed]",
      "text/plain": [
       "<Figure size 432x288 with 2 Axes>"
      ]
     },
     "metadata": {
      "needs_background": "light"
     },
     "output_type": "display_data"
    }
   ],
   "source": [
    "a1 = plt.subplot(121)\n",
    "plt.plot(t,posdata[0])\n",
    "a1.set_title(\"Normal Case\")\n",
    "a2 = plt.subplot(122)\n",
    "plt.plot(t,negdata[0])\n",
    "a2.set_title(\"Abnormal case\")\n"
   ]
  },
  {
   "cell_type": "markdown",
   "metadata": {},
   "source": [
    "In order to simulate wake labelling procedure as that happens in the real scenarios, we use the data produced in the previous stpes and sample from each ch times to obtain a ch-channel EEG signal sample data of duration length. Samples having at least one data from negdata are considered as abnormal case in the new training dataset. <br>\n",
    "Below the normal EEG data is produced."
   ]
  },
  {
   "cell_type": "code",
   "execution_count": 34,
   "metadata": {},
   "outputs": [],
   "source": [
    "weakpositer = permutations(posdata,ch) \n",
    "posdataweak = np.zeros((posdatasize,ch,*t.shape))\n",
    "classid = np.zeros((posdatasize))\n",
    "for i in range(posdatasize):\n",
    "    posdataweak[i]=np.array(next(weakpositer))"
   ]
  },
  {
   "cell_type": "markdown",
   "metadata": {},
   "source": [
    "Below the abnormal EEG data is produced. First we decide how many channels are consistent with abnormal conditions afterwards we decide on which channel the abnormal EEG sample signal is to be appeared."
   ]
  },
  {
   "cell_type": "code",
   "execution_count": 35,
   "metadata": {},
   "outputs": [],
   "source": [
    "nums = random.choices(range(1,4),k=negdatasize)\n",
    "positions = [random.sample(range(0,8),k=i) for i in nums]\n",
    "posdata2 = iter(np.random.permutation(posdata))\n",
    "negdata2 = iter(np.random.permutation(negdata))\n",
    "negdataweak=[]\n",
    "negdata3=np.zeros((negdatasize,ch,*t.shape))\n",
    "classid = np.concatenate((classid,np.ones((negdatasize))))\n",
    "index = 0\n",
    "w0 = 1/posdatasize\n",
    "w1 = 1/negdatasize\n",
    "for pos in positions:\n",
    "    for i in range(8):\n",
    "        if(i in pos):\n",
    "            try:\n",
    "                negdata3[index,i,:] = next(negdata2)\n",
    "            except StopIteration:\n",
    "                negdata2 = iter(np.random.permutation(negdata))\n",
    "                negdata3[index,i,:] = next(negdata2)\n",
    "        else:\n",
    "            try:\n",
    "                negdata3[index,i,:] = next(posdata2)\n",
    "            except StopIteration:\n",
    "                posdata2 = iter(np.random.permutation(posdata))\n",
    "                negdata3[index,i,:] = next(posdata2)\n",
    "    index+=1\n",
    "            \n",
    "negdataweak = negdata3\n",
    "datasetweak = np.concatenate((posdataweak,negdataweak))\n",
    "datasetweak = np.expand_dims(datasetweak,-1)"
   ]
  },
  {
   "cell_type": "markdown",
   "metadata": {},
   "source": [
    "Now we have produced the synthetic data conforming with the weak labels as that mentioned in the article; its time to train the proposed deep FCN with the procedure outlined in the paper. "
   ]
  },
  {
   "cell_type": "code",
   "execution_count": 4,
   "metadata": {},
   "outputs": [],
   "source": [
    "import tensorflow as tf\n",
    "from tensorflow import keras\n",
    "from tensorflow.keras import layers\n",
    "from sklearn.model_selection import train_test_split"
   ]
  },
  {
   "cell_type": "code",
   "execution_count": 28,
   "metadata": {},
   "outputs": [
    {
     "name": "stdout",
     "output_type": "stream",
     "text": [
      "Model: \"sequential_1\"\n",
      "_________________________________________________________________\n",
      "Layer (type)                 Output Shape              Param #   \n",
      "=================================================================\n",
      "conv2d_10 (Conv2D)           (None, 8, 254, 32)        128       \n",
      "_________________________________________________________________\n",
      "conv2d_11 (Conv2D)           (None, 8, 252, 32)        3104      \n",
      "_________________________________________________________________\n",
      "conv2d_12 (Conv2D)           (None, 8, 250, 32)        3104      \n",
      "_________________________________________________________________\n",
      "batch_normalization_3 (Batch (None, 8, 250, 32)        128       \n",
      "_________________________________________________________________\n",
      "average_pooling2d_4 (Average (None, 8, 83, 32)         0         \n",
      "_________________________________________________________________\n",
      "conv2d_13 (Conv2D)           (None, 8, 81, 32)         3104      \n",
      "_________________________________________________________________\n",
      "conv2d_14 (Conv2D)           (None, 8, 79, 32)         3104      \n",
      "_________________________________________________________________\n",
      "conv2d_15 (Conv2D)           (None, 8, 77, 32)         3104      \n",
      "_________________________________________________________________\n",
      "batch_normalization_4 (Batch (None, 8, 77, 32)         128       \n",
      "_________________________________________________________________\n",
      "average_pooling2d_5 (Average (None, 8, 25, 32)         0         \n",
      "_________________________________________________________________\n",
      "conv2d_16 (Conv2D)           (None, 8, 23, 32)         3104      \n",
      "_________________________________________________________________\n",
      "conv2d_17 (Conv2D)           (None, 8, 21, 32)         3104      \n",
      "_________________________________________________________________\n",
      "conv2d_18 (Conv2D)           (None, 8, 19, 32)         3104      \n",
      "_________________________________________________________________\n",
      "batch_normalization_5 (Batch (None, 8, 19, 32)         128       \n",
      "_________________________________________________________________\n",
      "average_pooling2d_6 (Average (None, 8, 6, 32)          0         \n",
      "_________________________________________________________________\n",
      "conv2d_19 (Conv2D)           (None, 8, 4, 2)           194       \n",
      "_________________________________________________________________\n",
      "average_pooling2d_7 (Average (None, 8, 1, 2)           0         \n",
      "_________________________________________________________________\n",
      "max_pooling2d_1 (MaxPooling2 (None, 1, 1, 2)           0         \n",
      "_________________________________________________________________\n",
      "flatten_1 (Flatten)          (None, 2)                 0         \n",
      "_________________________________________________________________\n",
      "softmax_1 (Softmax)          (None, 2)                 0         \n",
      "=================================================================\n",
      "Total params: 25,538\n",
      "Trainable params: 25,346\n",
      "Non-trainable params: 192\n",
      "_________________________________________________________________\n",
      "INFO:tensorflow:Assets written to: Raw_Model\\assets\n"
     ]
    }
   ],
   "source": [
    "dummy = np.expand_dims(posdataweak,-1)\n",
    "input_shape = dummy.shape[1:]\n",
    "\n",
    "model = keras.Sequential(\n",
    "    [\n",
    "        # Feature extraction block\n",
    "        keras.Input(shape=input_shape),\n",
    "        layers.Conv2D(32, kernel_size=(1,3), activation=\"relu\"),\n",
    "        layers.Conv2D(32, kernel_size=(1,3), activation=\"relu\"),\n",
    "        layers.Conv2D(32, kernel_size=(1,3), activation=\"relu\"),\n",
    "        layers.BatchNormalization(),\n",
    "        layers.AveragePooling2D(pool_size=(1,4),strides=(1,3)),\n",
    "        layers.Conv2D(32, kernel_size=(1,3), activation=\"relu\"),\n",
    "        layers.Conv2D(32, kernel_size=(1,3), activation=\"relu\"),\n",
    "        layers.Conv2D(32, kernel_size=(1,3), activation=\"relu\"),\n",
    "        layers.BatchNormalization(),\n",
    "        layers.AveragePooling2D(pool_size=(1,4),strides=(1,3)),\n",
    "        layers.Conv2D(32, kernel_size=(1,3), activation=\"relu\"),\n",
    "        layers.Conv2D(32, kernel_size=(1,3), activation=\"relu\"),\n",
    "        layers.Conv2D(32, kernel_size=(1,3), activation=\"relu\"),\n",
    "        layers.BatchNormalization(),\n",
    "        layers.AveragePooling2D(pool_size=(1,4),strides=(1,3)),\n",
    "        # Classification Block\n",
    "        layers.Conv2D(2, kernel_size=(1,3), activation=\"relu\"),\n",
    "        layers.AveragePooling2D(pool_size=(1,4),strides=(1,3)),\n",
    "        layers.MaxPooling2D(pool_size=(ch,1)),\n",
    "        layers.Flatten(),\n",
    "        layers.Softmax()\n",
    "#         layers.MaxPooling2D(pool_size=(2, 2)),\n",
    "#         layers.Conv2D(64, kernel_size=(3, 3), activation=\"relu\"),\n",
    "#         layers.MaxPooling2D(pool_size=(2, 2)),\n",
    "#         layers.Flatten(),\n",
    "#         layers.Dropout(0.5),\n",
    "#         layers.Dense(num_classes, activation=\"softmax\"),\n",
    "    ]\n",
    ")\n",
    "model.summary()\n",
    "model.save(\"Raw_Model\")"
   ]
  },
  {
   "cell_type": "markdown",
   "metadata": {},
   "source": [
    "<b>Now that the model is created it should be trained using the training data</b>"
   ]
  },
  {
   "cell_type": "code",
   "execution_count": 48,
   "metadata": {},
   "outputs": [
    {
     "name": "stdout",
     "output_type": "stream",
     "text": [
      "WARNING:tensorflow:sample_weight modes were coerced from\n",
      "  ...\n",
      "    to  \n",
      "  ['...']\n",
      "WARNING:tensorflow:sample_weight modes were coerced from\n",
      "  ...\n",
      "    to  \n",
      "  ['...']\n",
      "Train on 7200 samples, validate on 800 samples\n",
      "Epoch 1/1500\n",
      "7200/7200 [==============================] - 90s 12ms/sample - loss: 1.4985e-04 - accuracy: 0.2221 - AUC: 0.2446 - val_loss: 1.3213e-04 - val_accuracy: 0.5000 - val_AUC: 0.5000\n",
      "Epoch 2/1500\n",
      "7200/7200 [==============================] - 87s 12ms/sample - loss: 1.4769e-04 - accuracy: 0.2249 - AUC: 0.2599 - val_loss: 1.3213e-04 - val_accuracy: 0.5000 - val_AUC: 0.5000\n",
      "Epoch 3/1500\n",
      "7200/7200 [==============================] - 85s 12ms/sample - loss: 1.4523e-04 - accuracy: 0.2304 - AUC: 0.2780 - val_loss: 1.3213e-04 - val_accuracy: 0.5000 - val_AUC: 0.5000\n",
      "Epoch 4/1500\n",
      "7200/7200 [==============================] - 85s 12ms/sample - loss: 1.4269e-04 - accuracy: 0.2346 - AUC: 0.2960 - val_loss: 1.3213e-04 - val_accuracy: 0.5000 - val_AUC: 0.5000\n",
      "Epoch 5/1500\n",
      "7200/7200 [==============================] - 85s 12ms/sample - loss: 1.4046e-04 - accuracy: 0.2401 - AUC: 0.3149 - val_loss: 1.3213e-04 - val_accuracy: 0.5000 - val_AUC: 0.5000\n",
      "Epoch 6/1500\n",
      "7200/7200 [==============================] - 85s 12ms/sample - loss: 1.3875e-04 - accuracy: 0.2414 - AUC: 0.3289 - val_loss: 1.3213e-04 - val_accuracy: 0.5000 - val_AUC: 0.5000\n",
      "Epoch 7/1500\n",
      "7200/7200 [==============================] - 85s 12ms/sample - loss: 1.3677e-04 - accuracy: 0.2439 - AUC: 0.3435 - val_loss: 1.3213e-04 - val_accuracy: 0.5000 - val_AUC: 0.5000\n",
      "Epoch 8/1500\n",
      "7200/7200 [==============================] - 84s 12ms/sample - loss: 1.3503e-04 - accuracy: 0.2456 - AUC: 0.3593 - val_loss: 1.3213e-04 - val_accuracy: 0.5000 - val_AUC: 0.5000\n",
      "Epoch 9/1500\n",
      "7200/7200 [==============================] - 84s 12ms/sample - loss: 1.3340e-04 - accuracy: 0.3747 - AUC: 0.3904 - val_loss: 1.3213e-04 - val_accuracy: 0.5000 - val_AUC: 0.5000\n",
      "Epoch 10/1500\n",
      "7200/7200 [==============================] - 85s 12ms/sample - loss: 1.3177e-04 - accuracy: 0.4504 - AUC: 0.4929 - val_loss: 1.3213e-04 - val_accuracy: 0.5000 - val_AUC: 0.5000\n",
      "Epoch 11/1500\n",
      "7200/7200 [==============================] - 84s 12ms/sample - loss: 1.2997e-04 - accuracy: 0.7100 - AUC: 0.6190 - val_loss: 1.3213e-04 - val_accuracy: 0.5000 - val_AUC: 0.5000\n",
      "Epoch 12/1500\n",
      "7200/7200 [==============================] - 85s 12ms/sample - loss: 1.2818e-04 - accuracy: 0.7415 - AUC: 0.6688 - val_loss: 1.3213e-04 - val_accuracy: 0.5000 - val_AUC: 0.5000\n",
      "Epoch 13/1500\n",
      "7200/7200 [==============================] - 84s 12ms/sample - loss: 1.2664e-04 - accuracy: 0.7689 - AUC: 0.6876 - val_loss: 1.3213e-04 - val_accuracy: 0.5000 - val_AUC: 0.5000\n",
      "Epoch 14/1500\n",
      "7200/7200 [==============================] - 86s 12ms/sample - loss: 1.2536e-04 - accuracy: 0.7742 - AUC: 0.7004 - val_loss: 1.3213e-04 - val_accuracy: 0.5000 - val_AUC: 0.5000\n",
      "Epoch 15/1500\n",
      "7200/7200 [==============================] - 87s 12ms/sample - loss: 1.2361e-04 - accuracy: 0.7825 - AUC: 0.7182 - val_loss: 1.3213e-04 - val_accuracy: 0.5000 - val_AUC: 0.5000\n",
      "Epoch 16/1500\n",
      "7200/7200 [==============================] - 86s 12ms/sample - loss: 1.2223e-04 - accuracy: 0.7885 - AUC: 0.7324 - val_loss: 1.3213e-04 - val_accuracy: 0.5006 - val_AUC: 0.5012\n",
      "Epoch 17/1500\n",
      "7200/7200 [==============================] - 86s 12ms/sample - loss: 1.2072e-04 - accuracy: 0.7939 - AUC: 0.7468 - val_loss: 1.3217e-04 - val_accuracy: 0.4975 - val_AUC: 0.5000\n",
      "Epoch 18/1500\n",
      "7200/7200 [==============================] - 86s 12ms/sample - loss: 1.1930e-04 - accuracy: 0.8001 - AUC: 0.7576 - val_loss: 1.3247e-04 - val_accuracy: 0.4988 - val_AUC: 0.4951\n",
      "Epoch 19/1500\n",
      "7200/7200 [==============================] - 85s 12ms/sample - loss: 1.1793e-04 - accuracy: 0.8071 - AUC: 0.7712 - val_loss: 1.3315e-04 - val_accuracy: 0.5006 - val_AUC: 0.4987\n",
      "Epoch 20/1500\n",
      "7200/7200 [==============================] - 85s 12ms/sample - loss: 1.1644e-04 - accuracy: 0.8138 - AUC: 0.7823 - val_loss: 1.3432e-04 - val_accuracy: 0.4975 - val_AUC: 0.5035\n",
      "Epoch 21/1500\n",
      "7200/7200 [==============================] - 85s 12ms/sample - loss: 1.1489e-04 - accuracy: 0.8189 - AUC: 0.7959 - val_loss: 1.3590e-04 - val_accuracy: 0.4981 - val_AUC: 0.4942\n",
      "Epoch 22/1500\n",
      "7200/7200 [==============================] - 84s 12ms/sample - loss: 1.1355e-04 - accuracy: 0.8242 - AUC: 0.8071 - val_loss: 1.3749e-04 - val_accuracy: 0.5081 - val_AUC: 0.5101\n",
      "Epoch 23/1500\n",
      "7200/7200 [==============================] - 85s 12ms/sample - loss: 1.1186e-04 - accuracy: 0.8292 - AUC: 0.8188 - val_loss: 1.3854e-04 - val_accuracy: 0.5356 - val_AUC: 0.5479\n",
      "Epoch 24/1500\n",
      "7200/7200 [==============================] - 85s 12ms/sample - loss: 1.1043e-04 - accuracy: 0.8369 - AUC: 0.8288 - val_loss: 1.3829e-04 - val_accuracy: 0.5550 - val_AUC: 0.5728\n",
      "Epoch 25/1500\n",
      "7200/7200 [==============================] - 85s 12ms/sample - loss: 1.0919e-04 - accuracy: 0.8407 - AUC: 0.8367 - val_loss: 1.3663e-04 - val_accuracy: 0.5975 - val_AUC: 0.6162\n",
      "Epoch 26/1500\n",
      "7200/7200 [==============================] - 85s 12ms/sample - loss: 1.0771e-04 - accuracy: 0.8474 - AUC: 0.8474 - val_loss: 1.3371e-04 - val_accuracy: 0.8475 - val_AUC: 0.6610\n",
      "Epoch 27/1500\n",
      "7200/7200 [==============================] - 86s 12ms/sample - loss: 1.0629e-04 - accuracy: 0.8508 - AUC: 0.8551 - val_loss: 1.3014e-04 - val_accuracy: 0.8425 - val_AUC: 0.7940\n",
      "Epoch 28/1500\n",
      "7200/7200 [==============================] - 86s 12ms/sample - loss: 1.0508e-04 - accuracy: 0.8554 - AUC: 0.8614 - val_loss: 1.2522e-04 - val_accuracy: 0.8675 - val_AUC: 0.8418\n",
      "Epoch 29/1500\n",
      "7200/7200 [==============================] - 85s 12ms/sample - loss: 1.0389e-04 - accuracy: 0.8578 - AUC: 0.8690 - val_loss: 1.1951e-04 - val_accuracy: 0.8825 - val_AUC: 0.8734\n",
      "Epoch 30/1500\n",
      "7200/7200 [==============================] - 86s 12ms/sample - loss: 1.0266e-04 - accuracy: 0.8622 - AUC: 0.8740 - val_loss: 1.1493e-04 - val_accuracy: 0.8925 - val_AUC: 0.8903\n",
      "Epoch 31/1500\n",
      "7200/7200 [==============================] - 86s 12ms/sample - loss: 1.0169e-04 - accuracy: 0.8651 - AUC: 0.8770 - val_loss: 1.1094e-04 - val_accuracy: 0.8950 - val_AUC: 0.8990\n",
      "Epoch 32/1500\n",
      "7200/7200 [==============================] - 86s 12ms/sample - loss: 1.0045e-04 - accuracy: 0.8703 - AUC: 0.8836 - val_loss: 1.0713e-04 - val_accuracy: 0.8988 - val_AUC: 0.9082\n",
      "Epoch 33/1500\n",
      "7200/7200 [==============================] - 86s 12ms/sample - loss: 9.9123e-05 - accuracy: 0.8726 - AUC: 0.8893 - val_loss: 1.0401e-04 - val_accuracy: 0.9000 - val_AUC: 0.9158\n",
      "Epoch 34/1500\n",
      "7200/7200 [==============================] - 86s 12ms/sample - loss: 9.8083e-05 - accuracy: 0.8763 - AUC: 0.8940 - val_loss: 1.0132e-04 - val_accuracy: 0.8900 - val_AUC: 0.9190\n",
      "Epoch 35/1500\n",
      "7200/7200 [==============================] - 86s 12ms/sample - loss: 9.7102e-05 - accuracy: 0.8806 - AUC: 0.8974 - val_loss: 9.8756e-05 - val_accuracy: 0.8900 - val_AUC: 0.9224\n",
      "Epoch 36/1500\n",
      "7200/7200 [==============================] - 85s 12ms/sample - loss: 9.6056e-05 - accuracy: 0.8835 - AUC: 0.9028 - val_loss: 9.6526e-05 - val_accuracy: 0.8938 - val_AUC: 0.9243\n",
      "Epoch 37/1500\n",
      "7200/7200 [==============================] - 85s 12ms/sample - loss: 9.4973e-05 - accuracy: 0.8850 - AUC: 0.9066 - val_loss: 9.4564e-05 - val_accuracy: 0.8950 - val_AUC: 0.9285\n",
      "Epoch 38/1500\n",
      "7200/7200 [==============================] - 84s 12ms/sample - loss: 9.4057e-05 - accuracy: 0.8894 - AUC: 0.9104 - val_loss: 9.2839e-05 - val_accuracy: 0.8975 - val_AUC: 0.9299\n",
      "Epoch 39/1500\n",
      "7200/7200 [==============================] - 84s 12ms/sample - loss: 9.3056e-05 - accuracy: 0.8924 - AUC: 0.9147 - val_loss: 9.1287e-05 - val_accuracy: 0.8975 - val_AUC: 0.9326\n",
      "Epoch 40/1500\n",
      "7200/7200 [==============================] - 85s 12ms/sample - loss: 9.2138e-05 - accuracy: 0.8953 - AUC: 0.9177 - val_loss: 8.9927e-05 - val_accuracy: 0.8963 - val_AUC: 0.9332\n",
      "Epoch 41/1500\n",
      "7200/7200 [==============================] - 85s 12ms/sample - loss: 9.0951e-05 - accuracy: 0.8949 - AUC: 0.9220 - val_loss: 8.8672e-05 - val_accuracy: 0.9013 - val_AUC: 0.9369\n",
      "Epoch 42/1500\n",
      "7200/7200 [==============================] - 84s 12ms/sample - loss: 8.9905e-05 - accuracy: 0.8990 - AUC: 0.9249 - val_loss: 8.7514e-05 - val_accuracy: 0.9013 - val_AUC: 0.9384\n"
     ]
    },
    {
     "name": "stdout",
     "output_type": "stream",
     "text": [
      "Epoch 43/1500\n",
      "7200/7200 [==============================] - 85s 12ms/sample - loss: 8.9195e-05 - accuracy: 0.9011 - AUC: 0.9281 - val_loss: 8.6447e-05 - val_accuracy: 0.9025 - val_AUC: 0.9391\n",
      "Epoch 44/1500\n",
      "7200/7200 [==============================] - 86s 12ms/sample - loss: 8.8402e-05 - accuracy: 0.9033 - AUC: 0.9288 - val_loss: 8.5472e-05 - val_accuracy: 0.9038 - val_AUC: 0.9398\n",
      "Epoch 45/1500\n",
      "7200/7200 [==============================] - 86s 12ms/sample - loss: 8.7310e-05 - accuracy: 0.9051 - AUC: 0.9320 - val_loss: 8.4532e-05 - val_accuracy: 0.9038 - val_AUC: 0.9413\n",
      "Epoch 46/1500\n",
      "7200/7200 [==============================] - 86s 12ms/sample - loss: 8.6253e-05 - accuracy: 0.9075 - AUC: 0.9345 - val_loss: 8.3620e-05 - val_accuracy: 0.9050 - val_AUC: 0.9442\n",
      "Epoch 47/1500\n",
      "7200/7200 [==============================] - 86s 12ms/sample - loss: 8.5332e-05 - accuracy: 0.9096 - AUC: 0.9374 - val_loss: 8.2732e-05 - val_accuracy: 0.9038 - val_AUC: 0.9448\n",
      "Epoch 48/1500\n",
      "7200/7200 [==============================] - 86s 12ms/sample - loss: 8.4501e-05 - accuracy: 0.9125 - AUC: 0.9390 - val_loss: 8.1883e-05 - val_accuracy: 0.9062 - val_AUC: 0.9471\n",
      "Epoch 49/1500\n",
      "7200/7200 [==============================] - 85s 12ms/sample - loss: 8.3699e-05 - accuracy: 0.9139 - AUC: 0.9410 - val_loss: 8.1061e-05 - val_accuracy: 0.9075 - val_AUC: 0.9479\n",
      "Epoch 50/1500\n",
      "7200/7200 [==============================] - 85s 12ms/sample - loss: 8.2997e-05 - accuracy: 0.9161 - AUC: 0.9435 - val_loss: 8.0235e-05 - val_accuracy: 0.9125 - val_AUC: 0.9486\n",
      "Epoch 51/1500\n",
      "7200/7200 [==============================] - 85s 12ms/sample - loss: 8.2016e-05 - accuracy: 0.9164 - AUC: 0.9446 - val_loss: 7.9439e-05 - val_accuracy: 0.9137 - val_AUC: 0.9494\n",
      "Epoch 52/1500\n",
      "7200/7200 [==============================] - 85s 12ms/sample - loss: 8.1425e-05 - accuracy: 0.9176 - AUC: 0.9448 - val_loss: 7.8646e-05 - val_accuracy: 0.9187 - val_AUC: 0.9508\n",
      "Epoch 53/1500\n",
      "7200/7200 [==============================] - 86s 12ms/sample - loss: 8.0443e-05 - accuracy: 0.9219 - AUC: 0.9468 - val_loss: 7.7883e-05 - val_accuracy: 0.9200 - val_AUC: 0.9523\n",
      "Epoch 54/1500\n",
      "7200/7200 [==============================] - 85s 12ms/sample - loss: 7.9513e-05 - accuracy: 0.9237 - AUC: 0.9490 - val_loss: 7.7106e-05 - val_accuracy: 0.9225 - val_AUC: 0.9537\n",
      "Epoch 55/1500\n",
      "7200/7200 [==============================] - 85s 12ms/sample - loss: 7.8800e-05 - accuracy: 0.9240 - AUC: 0.9505 - val_loss: 7.6374e-05 - val_accuracy: 0.9275 - val_AUC: 0.9551\n",
      "Epoch 56/1500\n",
      "7200/7200 [==============================] - 85s 12ms/sample - loss: 7.7718e-05 - accuracy: 0.9274 - AUC: 0.9529 - val_loss: 7.5638e-05 - val_accuracy: 0.9312 - val_AUC: 0.9557\n",
      "Epoch 57/1500\n",
      "7200/7200 [==============================] - 86s 12ms/sample - loss: 7.7190e-05 - accuracy: 0.9285 - AUC: 0.9543 - val_loss: 7.4910e-05 - val_accuracy: 0.9350 - val_AUC: 0.9563\n",
      "Epoch 58/1500\n",
      "7200/7200 [==============================] - 86s 12ms/sample - loss: 7.6345e-05 - accuracy: 0.9292 - AUC: 0.9557 - val_loss: 7.4183e-05 - val_accuracy: 0.9350 - val_AUC: 0.9568\n",
      "Epoch 59/1500\n",
      "7200/7200 [==============================] - 86s 12ms/sample - loss: 7.5541e-05 - accuracy: 0.9329 - AUC: 0.9574 - val_loss: 7.3482e-05 - val_accuracy: 0.9350 - val_AUC: 0.9581\n",
      "Epoch 60/1500\n",
      "7200/7200 [==============================] - 85s 12ms/sample - loss: 7.5127e-05 - accuracy: 0.9340 - AUC: 0.9579 - val_loss: 7.2797e-05 - val_accuracy: 0.9375 - val_AUC: 0.9594\n",
      "Epoch 61/1500\n",
      "7200/7200 [==============================] - 84s 12ms/sample - loss: 7.3940e-05 - accuracy: 0.9360 - AUC: 0.9601 - val_loss: 7.2109e-05 - val_accuracy: 0.9388 - val_AUC: 0.9599\n",
      "Epoch 62/1500\n",
      "7200/7200 [==============================] - 84s 12ms/sample - loss: 7.3205e-05 - accuracy: 0.9367 - AUC: 0.9615 - val_loss: 7.1443e-05 - val_accuracy: 0.9388 - val_AUC: 0.9603\n",
      "Epoch 63/1500\n",
      "7200/7200 [==============================] - 84s 12ms/sample - loss: 7.2787e-05 - accuracy: 0.9371 - AUC: 0.9617 - val_loss: 7.0807e-05 - val_accuracy: 0.9413 - val_AUC: 0.9606\n",
      "Epoch 64/1500\n",
      "7200/7200 [==============================] - 84s 12ms/sample - loss: 7.1789e-05 - accuracy: 0.9404 - AUC: 0.9640 - val_loss: 7.0177e-05 - val_accuracy: 0.9425 - val_AUC: 0.9641\n",
      "Epoch 65/1500\n",
      "7200/7200 [==============================] - 86s 12ms/sample - loss: 7.1206e-05 - accuracy: 0.9408 - AUC: 0.9651 - val_loss: 6.9548e-05 - val_accuracy: 0.9425 - val_AUC: 0.9644\n",
      "Epoch 66/1500\n",
      "7200/7200 [==============================] - 86s 12ms/sample - loss: 7.0651e-05 - accuracy: 0.9404 - AUC: 0.9646 - val_loss: 6.8929e-05 - val_accuracy: 0.9438 - val_AUC: 0.9647\n",
      "Epoch 67/1500\n",
      "7200/7200 [==============================] - 86s 12ms/sample - loss: 6.9794e-05 - accuracy: 0.9438 - AUC: 0.9672 - val_loss: 6.8346e-05 - val_accuracy: 0.9463 - val_AUC: 0.9666\n",
      "Epoch 68/1500\n",
      "7200/7200 [==============================] - 85s 12ms/sample - loss: 6.9357e-05 - accuracy: 0.9443 - AUC: 0.9675 - val_loss: 6.7764e-05 - val_accuracy: 0.9463 - val_AUC: 0.9671\n",
      "Epoch 69/1500\n",
      "7200/7200 [==============================] - 84s 12ms/sample - loss: 6.8637e-05 - accuracy: 0.9446 - AUC: 0.9674 - val_loss: 6.7212e-05 - val_accuracy: 0.9500 - val_AUC: 0.9682\n",
      "Epoch 70/1500\n",
      "7200/7200 [==============================] - 85s 12ms/sample - loss: 6.8183e-05 - accuracy: 0.9464 - AUC: 0.9686 - val_loss: 6.6663e-05 - val_accuracy: 0.9513 - val_AUC: 0.9685\n",
      "Epoch 71/1500\n",
      "7200/7200 [==============================] - 84s 12ms/sample - loss: 6.7561e-05 - accuracy: 0.9467 - AUC: 0.9700 - val_loss: 6.6124e-05 - val_accuracy: 0.9525 - val_AUC: 0.9703\n",
      "Epoch 72/1500\n",
      "7200/7200 [==============================] - 84s 12ms/sample - loss: 6.7019e-05 - accuracy: 0.9475 - AUC: 0.9705 - val_loss: 6.5606e-05 - val_accuracy: 0.9525 - val_AUC: 0.9705\n",
      "Epoch 73/1500\n",
      "7200/7200 [==============================] - 84s 12ms/sample - loss: 6.6262e-05 - accuracy: 0.9486 - AUC: 0.9708 - val_loss: 6.5095e-05 - val_accuracy: 0.9525 - val_AUC: 0.9717\n",
      "Epoch 74/1500\n",
      "7200/7200 [==============================] - 85s 12ms/sample - loss: 6.5737e-05 - accuracy: 0.9503 - AUC: 0.9713 - val_loss: 6.4582e-05 - val_accuracy: 0.9538 - val_AUC: 0.9750\n",
      "Epoch 75/1500\n",
      "7200/7200 [==============================] - 85s 12ms/sample - loss: 6.5354e-05 - accuracy: 0.9521 - AUC: 0.9723 - val_loss: 6.4092e-05 - val_accuracy: 0.9538 - val_AUC: 0.9761\n",
      "Epoch 76/1500\n",
      "7200/7200 [==============================] - 85s 12ms/sample - loss: 6.4675e-05 - accuracy: 0.9521 - AUC: 0.9722 - val_loss: 6.3597e-05 - val_accuracy: 0.9550 - val_AUC: 0.9779\n",
      "Epoch 77/1500\n",
      "7200/7200 [==============================] - 85s 12ms/sample - loss: 6.4352e-05 - accuracy: 0.9510 - AUC: 0.9732 - val_loss: 6.3113e-05 - val_accuracy: 0.9563 - val_AUC: 0.9798\n",
      "Epoch 78/1500\n",
      "7200/7200 [==============================] - 86s 12ms/sample - loss: 6.3699e-05 - accuracy: 0.9544 - AUC: 0.9738 - val_loss: 6.2628e-05 - val_accuracy: 0.9563 - val_AUC: 0.9809\n",
      "Epoch 79/1500\n",
      "7200/7200 [==============================] - 86s 12ms/sample - loss: 6.3166e-05 - accuracy: 0.9540 - AUC: 0.9749 - val_loss: 6.2153e-05 - val_accuracy: 0.9563 - val_AUC: 0.9812\n",
      "Epoch 80/1500\n",
      "7200/7200 [==============================] - 86s 12ms/sample - loss: 6.2758e-05 - accuracy: 0.9550 - AUC: 0.9744 - val_loss: 6.1686e-05 - val_accuracy: 0.9563 - val_AUC: 0.9814\n",
      "Epoch 81/1500\n",
      "7200/7200 [==============================] - 86s 12ms/sample - loss: 6.2306e-05 - accuracy: 0.9563 - AUC: 0.9764 - val_loss: 6.1231e-05 - val_accuracy: 0.9575 - val_AUC: 0.9817\n",
      "Epoch 82/1500\n",
      "7200/7200 [==============================] - 86s 12ms/sample - loss: 6.1782e-05 - accuracy: 0.9560 - AUC: 0.9759 - val_loss: 6.0783e-05 - val_accuracy: 0.9588 - val_AUC: 0.9827\n",
      "Epoch 83/1500\n",
      "7200/7200 [==============================] - 88s 12ms/sample - loss: 6.1245e-05 - accuracy: 0.9574 - AUC: 0.9767 - val_loss: 6.0354e-05 - val_accuracy: 0.9600 - val_AUC: 0.9829\n",
      "Epoch 84/1500\n",
      "7200/7200 [==============================] - 87s 12ms/sample - loss: 6.0790e-05 - accuracy: 0.9586 - AUC: 0.9778 - val_loss: 5.9916e-05 - val_accuracy: 0.9600 - val_AUC: 0.9840\n",
      "Epoch 85/1500\n",
      "7200/7200 [==============================] - 86s 12ms/sample - loss: 6.0344e-05 - accuracy: 0.9575 - AUC: 0.9782 - val_loss: 5.9500e-05 - val_accuracy: 0.9600 - val_AUC: 0.9842\n"
     ]
    },
    {
     "name": "stdout",
     "output_type": "stream",
     "text": [
      "Epoch 86/1500\n",
      "7200/7200 [==============================] - 85s 12ms/sample - loss: 5.9829e-05 - accuracy: 0.9594 - AUC: 0.9788 - val_loss: 5.9066e-05 - val_accuracy: 0.9600 - val_AUC: 0.9844\n",
      "Epoch 87/1500\n",
      "7200/7200 [==============================] - 84s 12ms/sample - loss: 5.9304e-05 - accuracy: 0.9594 - AUC: 0.9793 - val_loss: 5.8643e-05 - val_accuracy: 0.9588 - val_AUC: 0.9846\n",
      "Epoch 88/1500\n",
      "7200/7200 [==============================] - 84s 12ms/sample - loss: 5.9033e-05 - accuracy: 0.9596 - AUC: 0.9791 - val_loss: 5.8233e-05 - val_accuracy: 0.9600 - val_AUC: 0.9848\n",
      "Epoch 89/1500\n",
      "7200/7200 [==============================] - 85s 12ms/sample - loss: 5.8664e-05 - accuracy: 0.9599 - AUC: 0.9801 - val_loss: 5.7832e-05 - val_accuracy: 0.9625 - val_AUC: 0.9850\n",
      "Epoch 90/1500\n",
      "7200/7200 [==============================] - 85s 12ms/sample - loss: 5.8258e-05 - accuracy: 0.9615 - AUC: 0.9800 - val_loss: 5.7444e-05 - val_accuracy: 0.9650 - val_AUC: 0.9851\n",
      "Epoch 91/1500\n",
      "7200/7200 [==============================] - 85s 12ms/sample - loss: 5.7877e-05 - accuracy: 0.9604 - AUC: 0.9814 - val_loss: 5.7044e-05 - val_accuracy: 0.9650 - val_AUC: 0.9853\n",
      "Epoch 92/1500\n",
      "7200/7200 [==============================] - 85s 12ms/sample - loss: 5.7392e-05 - accuracy: 0.9617 - AUC: 0.9812 - val_loss: 5.6669e-05 - val_accuracy: 0.9650 - val_AUC: 0.9855\n",
      "Epoch 93/1500\n",
      "7200/7200 [==============================] - 84s 12ms/sample - loss: 5.6965e-05 - accuracy: 0.9619 - AUC: 0.9816 - val_loss: 5.6300e-05 - val_accuracy: 0.9650 - val_AUC: 0.9856\n",
      "Epoch 94/1500\n",
      "7200/7200 [==============================] - 85s 12ms/sample - loss: 5.6569e-05 - accuracy: 0.9619 - AUC: 0.9825 - val_loss: 5.5920e-05 - val_accuracy: 0.9650 - val_AUC: 0.9858\n",
      "Epoch 95/1500\n",
      "7200/7200 [==============================] - 85s 12ms/sample - loss: 5.6388e-05 - accuracy: 0.9613 - AUC: 0.9824 - val_loss: 5.5548e-05 - val_accuracy: 0.9650 - val_AUC: 0.9859\n",
      "Epoch 96/1500\n",
      "7200/7200 [==============================] - 85s 12ms/sample - loss: 5.5970e-05 - accuracy: 0.9626 - AUC: 0.9830 - val_loss: 5.5179e-05 - val_accuracy: 0.9650 - val_AUC: 0.9861\n",
      "Epoch 97/1500\n",
      "7200/7200 [==============================] - 85s 12ms/sample - loss: 5.5488e-05 - accuracy: 0.9632 - AUC: 0.9836 - val_loss: 5.4815e-05 - val_accuracy: 0.9650 - val_AUC: 0.9862\n",
      "Epoch 98/1500\n",
      "7200/7200 [==============================] - 84s 12ms/sample - loss: 5.5088e-05 - accuracy: 0.9636 - AUC: 0.9842 - val_loss: 5.4462e-05 - val_accuracy: 0.9638 - val_AUC: 0.9863\n",
      "Epoch 99/1500\n",
      "7200/7200 [==============================] - 85s 12ms/sample - loss: 5.4954e-05 - accuracy: 0.9636 - AUC: 0.9839 - val_loss: 5.4110e-05 - val_accuracy: 0.9663 - val_AUC: 0.9865\n",
      "Epoch 100/1500\n",
      "7200/7200 [==============================] - 85s 12ms/sample - loss: 5.4483e-05 - accuracy: 0.9638 - AUC: 0.9846 - val_loss: 5.3767e-05 - val_accuracy: 0.9663 - val_AUC: 0.9866\n",
      "Epoch 101/1500\n",
      "7200/7200 [==============================] - 85s 12ms/sample - loss: 5.4079e-05 - accuracy: 0.9643 - AUC: 0.9853 - val_loss: 5.3421e-05 - val_accuracy: 0.9663 - val_AUC: 0.9867\n",
      "Epoch 102/1500\n",
      "7200/7200 [==============================] - 85s 12ms/sample - loss: 5.3596e-05 - accuracy: 0.9667 - AUC: 0.9856 - val_loss: 5.3081e-05 - val_accuracy: 0.9663 - val_AUC: 0.9867\n",
      "Epoch 103/1500\n",
      "7200/7200 [==============================] - 86s 12ms/sample - loss: 5.3193e-05 - accuracy: 0.9660 - AUC: 0.9861 - val_loss: 5.2743e-05 - val_accuracy: 0.9663 - val_AUC: 0.9868\n",
      "Epoch 104/1500\n",
      "7200/7200 [==============================] - 84s 12ms/sample - loss: 5.2936e-05 - accuracy: 0.9664 - AUC: 0.9861 - val_loss: 5.2409e-05 - val_accuracy: 0.9663 - val_AUC: 0.9869\n",
      "Epoch 105/1500\n",
      "7200/7200 [==============================] - 85s 12ms/sample - loss: 5.2546e-05 - accuracy: 0.9671 - AUC: 0.9868 - val_loss: 5.2090e-05 - val_accuracy: 0.9663 - val_AUC: 0.9870\n",
      "Epoch 106/1500\n",
      "7200/7200 [==============================] - 85s 12ms/sample - loss: 5.2243e-05 - accuracy: 0.9669 - AUC: 0.9860 - val_loss: 5.1770e-05 - val_accuracy: 0.9663 - val_AUC: 0.9871\n",
      "Epoch 107/1500\n",
      "7200/7200 [==============================] - 84s 12ms/sample - loss: 5.1838e-05 - accuracy: 0.9675 - AUC: 0.9875 - val_loss: 5.1462e-05 - val_accuracy: 0.9663 - val_AUC: 0.9872\n",
      "Epoch 108/1500\n",
      "7200/7200 [==============================] - 84s 12ms/sample - loss: 5.1506e-05 - accuracy: 0.9674 - AUC: 0.9873 - val_loss: 5.1147e-05 - val_accuracy: 0.9675 - val_AUC: 0.9872\n",
      "Epoch 109/1500\n",
      "7200/7200 [==============================] - 85s 12ms/sample - loss: 5.1360e-05 - accuracy: 0.9676 - AUC: 0.9879 - val_loss: 5.0831e-05 - val_accuracy: 0.9688 - val_AUC: 0.9873\n",
      "Epoch 110/1500\n",
      "7200/7200 [==============================] - 86s 12ms/sample - loss: 5.1057e-05 - accuracy: 0.9685 - AUC: 0.9884 - val_loss: 5.0520e-05 - val_accuracy: 0.9688 - val_AUC: 0.9874\n",
      "Epoch 111/1500\n",
      "7200/7200 [==============================] - 86s 12ms/sample - loss: 5.0593e-05 - accuracy: 0.9679 - AUC: 0.9882 - val_loss: 5.0219e-05 - val_accuracy: 0.9688 - val_AUC: 0.9882\n",
      "Epoch 112/1500\n",
      "7200/7200 [==============================] - 85s 12ms/sample - loss: 5.0351e-05 - accuracy: 0.9683 - AUC: 0.9882 - val_loss: 4.9935e-05 - val_accuracy: 0.9688 - val_AUC: 0.9883\n",
      "Epoch 113/1500\n",
      "7200/7200 [==============================] - 85s 12ms/sample - loss: 5.0170e-05 - accuracy: 0.9686 - AUC: 0.9887 - val_loss: 4.9657e-05 - val_accuracy: 0.9688 - val_AUC: 0.9899\n",
      "Epoch 114/1500\n",
      "7200/7200 [==============================] - 85s 12ms/sample - loss: 4.9905e-05 - accuracy: 0.9689 - AUC: 0.9891 - val_loss: 4.9387e-05 - val_accuracy: 0.9688 - val_AUC: 0.9908\n",
      "Epoch 115/1500\n",
      "7200/7200 [==============================] - 85s 12ms/sample - loss: 4.9400e-05 - accuracy: 0.9696 - AUC: 0.9899 - val_loss: 4.9114e-05 - val_accuracy: 0.9688 - val_AUC: 0.9909\n",
      "Epoch 116/1500\n",
      "7200/7200 [==============================] - 86s 12ms/sample - loss: 4.9286e-05 - accuracy: 0.9696 - AUC: 0.9898 - val_loss: 4.8846e-05 - val_accuracy: 0.9688 - val_AUC: 0.9910\n",
      "Epoch 117/1500\n",
      "7200/7200 [==============================] - 86s 12ms/sample - loss: 4.8976e-05 - accuracy: 0.9703 - AUC: 0.9899 - val_loss: 4.8568e-05 - val_accuracy: 0.9688 - val_AUC: 0.9911\n",
      "Epoch 118/1500\n",
      "7200/7200 [==============================] - 84s 12ms/sample - loss: 4.8734e-05 - accuracy: 0.9701 - AUC: 0.9904 - val_loss: 4.8302e-05 - val_accuracy: 0.9688 - val_AUC: 0.9912\n",
      "Epoch 119/1500\n",
      "7200/7200 [==============================] - 85s 12ms/sample - loss: 4.8326e-05 - accuracy: 0.9711 - AUC: 0.9898 - val_loss: 4.8016e-05 - val_accuracy: 0.9700 - val_AUC: 0.9913\n",
      "Epoch 120/1500\n",
      "7200/7200 [==============================] - 85s 12ms/sample - loss: 4.8220e-05 - accuracy: 0.9710 - AUC: 0.9909 - val_loss: 4.7740e-05 - val_accuracy: 0.9712 - val_AUC: 0.9913\n",
      "Epoch 121/1500\n",
      "7200/7200 [==============================] - 85s 12ms/sample - loss: 4.7823e-05 - accuracy: 0.9714 - AUC: 0.9911 - val_loss: 4.7472e-05 - val_accuracy: 0.9712 - val_AUC: 0.9915\n",
      "Epoch 122/1500\n",
      "7200/7200 [==============================] - 85s 12ms/sample - loss: 4.7683e-05 - accuracy: 0.9718 - AUC: 0.9906 - val_loss: 4.7216e-05 - val_accuracy: 0.9712 - val_AUC: 0.9915\n",
      "Epoch 123/1500\n",
      "7200/7200 [==============================] - 85s 12ms/sample - loss: 4.7359e-05 - accuracy: 0.9715 - AUC: 0.9912 - val_loss: 4.6954e-05 - val_accuracy: 0.9712 - val_AUC: 0.9916\n",
      "Epoch 124/1500\n",
      "7200/7200 [==============================] - 86s 12ms/sample - loss: 4.7196e-05 - accuracy: 0.9715 - AUC: 0.9912 - val_loss: 4.6695e-05 - val_accuracy: 0.9712 - val_AUC: 0.9917\n",
      "Epoch 125/1500\n",
      "7200/7200 [==============================] - 85s 12ms/sample - loss: 4.6872e-05 - accuracy: 0.9717 - AUC: 0.9919 - val_loss: 4.6432e-05 - val_accuracy: 0.9712 - val_AUC: 0.9917\n"
     ]
    },
    {
     "data": {
      "text/plain": [
       "<tensorflow.python.keras.callbacks.History at 0x1a814e541c8>"
      ]
     },
     "execution_count": 48,
     "metadata": {},
     "output_type": "execute_result"
    }
   ],
   "source": [
    "batch_size = 300\n",
    "epochs = 1500\n",
    "num_classes = 2\n",
    "model = keras.models.load_model(\"Raw_Model\")\n",
    "ylabel = keras.utils.to_categorical(classid, num_classes)\n",
    "X_train,X_test,Y_train,Y_test = train_test_split(datasetweak,ylabel,test_size = 0.2 , random_state=2)\n",
    "sgd = tf.keras.optimizers.SGD(\n",
    "    learning_rate=0.001, momentum=0.9, nesterov=True, name=\"SGD\"\n",
    ")\n",
    "model.compile(loss=\"binary_crossentropy\",optimizer=sgd,metrics=[\"accuracy\",\"AUC\"])\n",
    "callback = tf.keras.callbacks.EarlyStopping(monitor='accuracy', patience=3)\n",
    "\n",
    "class_weight = {0: w0, 1: w1}\n",
    "weaklabel = model.fit(X_train, Y_train, batch_size=batch_size, epochs=epochs, validation_split=0.1,callbacks=[callback],class_weight=class_weight)"
   ]
  },
  {
   "cell_type": "code",
   "execution_count": 174,
   "metadata": {},
   "outputs": [
    {
     "name": "stdout",
     "output_type": "stream",
     "text": [
      "INFO:tensorflow:Assets written to: Unsorted_dataset\\assets\n"
     ]
    }
   ],
   "source": [
    "model.save(\"Unsorted_dataset\")"
   ]
  },
  {
   "cell_type": "code",
   "execution_count": 128,
   "metadata": {},
   "outputs": [
    {
     "data": {
      "text/plain": [
       "(8, 256)"
      ]
     },
     "execution_count": 128,
     "metadata": {},
     "output_type": "execute_result"
    }
   ],
   "source": [
    "# posdataweak = np.array(posdataweak)\n",
    "# negdataweakk = np.array(negdataweak)\n",
    "# np.all(negdataweak[1]==negdataweak[10])\n",
    "# np.all(posdataweak[2]==posdataweak[2])\n",
    "# negdataweak\n",
    "# posdataweak\n",
    "input_shape"
   ]
  },
  {
   "cell_type": "markdown",
   "metadata": {},
   "source": [
    "## Test section "
   ]
  },
  {
   "cell_type": "code",
   "execution_count": 122,
   "metadata": {},
   "outputs": [
    {
     "data": {
      "text/plain": [
       "7"
      ]
     },
     "execution_count": 122,
     "metadata": {},
     "output_type": "execute_result"
    }
   ],
   "source": [
    "class myclass:\n",
    "    def __init__(self,a=10,b=5):\n",
    "        self.a= a\n",
    "        self.b = b\n",
    "    def __call__(self):\n",
    "        return self.a+self.b\n",
    "        \n",
    "a = myclass(2)\n",
    "a()"
   ]
  },
  {
   "cell_type": "code",
   "execution_count": 79,
   "metadata": {},
   "outputs": [
    {
     "data": {
      "text/plain": [
       "array([[1., 1., 1.]])"
      ]
     },
     "execution_count": 79,
     "metadata": {},
     "output_type": "execute_result"
    }
   ],
   "source": [
    "a = np.ones((1,3))\n",
    "b = np.ones((3,))*2\n",
    "c = np.ones((3,))*3\n",
    "d = [a,b,c]\n",
    "dd = np.array(d)\n",
    "a\n",
    "np.all()"
   ]
  },
  {
   "cell_type": "code",
   "execution_count": 65,
   "metadata": {},
   "outputs": [
    {
     "name": "stdout",
     "output_type": "stream",
     "text": [
      "[[1 2]\n",
      " [2 3]\n",
      " [3 4]]\n",
      "(3, 2)\n",
      "[[[1]\n",
      "  [2]]\n",
      "\n",
      " [[2]\n",
      "  [3]]\n",
      "\n",
      " [[3]\n",
      "  [4]]]\n",
      "(3, 2, 1)\n"
     ]
    },
    {
     "data": {
      "text/plain": [
       "array([6405., 1595.], dtype=float32)"
      ]
     },
     "execution_count": 65,
     "metadata": {},
     "output_type": "execute_result"
    }
   ],
   "source": [
    "a=np.array([[1,2],[2,3],[3,4]])\n",
    "print(a)\n",
    "print(a.shape)\n",
    "a=np.expand_dims(a,-1)\n",
    "print(a)\n",
    "print(a.shape)\n",
    "# input_shape[::-1]\n",
    "# np.expand_dims()\n",
    "dummy.shape\n",
    "# yy = keras.utils.to_categorical([1,0,1,1,0,0],num_classes=2)\n",
    "# yy\n",
    "Y_train.sum(0)\n"
   ]
  },
  {
   "cell_type": "code",
   "execution_count": 80,
   "metadata": {},
   "outputs": [],
   "source": [
    "import skfuzzy as fuzz\n",
    "from skfuzzy import control as ctrl\n",
    "\n",
    "# New Antecedent/Consequent objects hold universe variables and membership\n",
    "# functions\n",
    "freq = ctrl.Antecedent(np.arange(0, 16, 1/100), 'freq')\n",
    "Power = ctrl.Antecedent(np.arange(0,100,1/10),\"Power\")\n",
    "Siezure=ctrl.Consequent(np.arange(0, 2, 1/100), 'Siezure')\n",
    "\n",
    "freq[\"Low\"] = fuzz.gaussmf(freq.universe,0,5)\n",
    "freq[\"Mid\"] = fuzz.gaussmf(freq.universe,9,0.5)\n",
    "freq[\"High\"] = fuzz.gaussmf(freq.universe,15,2.5)\n",
    "\n",
    "Power[\"lims\"] = fuzz.trapmf(Power.universe,[0,10,100,100])\n",
    "\n",
    "Siezure[\"Low\"] = fuzz.gaussmf(Siezure.universe,0,0.1)\n",
    "Siezure[\"High\"] = fuzz.gaussmf(Siezure.universe,1,0.1)\n",
    "# Auto-membership function population is possible with .automf(3, 5, or 7)\n",
    "# quality.automf(3)\n",
    "# service.automf(3)\n",
    "\n",
    "# # Custom membership functions can be built interactively with a familiar,\n",
    "# # Pythonic API\n",
    "# tip['low'] = fuzz.trimf(tip.universe, [0, 0, 13])\n",
    "# tip['medium'] = fuzz.trimf(tip.universe, [0, 13, 25])\n",
    "# tip['high'] = fuzz.trimf(tip.universe, [13, 25, 25])"
   ]
  },
  {
   "cell_type": "code",
   "execution_count": 82,
   "metadata": {},
   "outputs": [
    {
     "name": "stdout",
     "output_type": "stream",
     "text": [
      "0.20058641842697342\n"
     ]
    }
   ],
   "source": [
    "rule1 = ctrl.Rule(freq['Low'] | freq['High'] & Power['lims'],Siezure['Low'])\n",
    "rule2 = ctrl.Rule(freq['Mid'] & Power['lims'], Siezure['High'])\n",
    "Siezureness_ctrl = ctrl.ControlSystem([rule1,rule2])\n",
    "Siezureness = ctrl.ControlSystemSimulation(Siezureness_ctrl)\n",
    "Siezureness.inputs({'freq':8,'Power':.1})\n",
    "Siezureness.compute()\n",
    "print(Siezureness.output['Siezure'])"
   ]
  },
  {
   "cell_type": "code",
   "execution_count": 33,
   "metadata": {},
   "outputs": [
    {
     "name": "stderr",
     "output_type": "stream",
     "text": [
      "C:\\eng_softs\\Anaconda3\\lib\\site-packages\\skfuzzy\\control\\fuzzyvariable.py:122: UserWarning: Matplotlib is currently using module://ipykernel.pylab.backend_inline, which is a non-GUI backend, so cannot show the figure.\n",
      "  fig.show()\n"
     ]
    },
    {
     "data": {
      "image/png": "[encoded data removed]",
      "text/plain": [
       "<Figure size 432x288 with 1 Axes>"
      ]
     },
     "metadata": {
      "needs_background": "light"
     },
     "output_type": "display_data"
    }
   ],
   "source": [
    "freq.view()"
   ]
  },
  {
   "cell_type": "code",
   "execution_count": 34,
   "metadata": {},
   "outputs": [
    {
     "name": "stderr",
     "output_type": "stream",
     "text": [
      "C:\\eng_softs\\Anaconda3\\lib\\site-packages\\skfuzzy\\control\\fuzzyvariable.py:122: UserWarning: Matplotlib is currently using module://ipykernel.pylab.backend_inline, which is a non-GUI backend, so cannot show the figure.\n",
      "  fig.show()\n"
     ]
    },
    {
     "data": {
      "image/png": "[encoded data removed]",
      "text/plain": [
       "<Figure size 432x288 with 1 Axes>"
      ]
     },
     "metadata": {
      "needs_background": "light"
     },
     "output_type": "display_data"
    }
   ],
   "source": [
    "ax = Siezure.view()\n"
   ]
  },
  {
   "cell_type": "code",
   "execution_count": 75,
   "metadata": {},
   "outputs": [
    {
     "name": "stderr",
     "output_type": "stream",
     "text": [
      "C:\\eng_softs\\Anaconda3\\lib\\site-packages\\skfuzzy\\control\\fuzzyvariable.py:122: UserWarning: Matplotlib is currently using module://ipykernel.pylab.backend_inline, which is a non-GUI backend, so cannot show the figure.\n",
      "  fig.show()\n"
     ]
    },
    {
     "data": {
      "image/png": "[encoded data removed]",
      "text/plain": [
       "<Figure size 432x288 with 1 Axes>"
      ]
     },
     "metadata": {
      "needs_background": "light"
     },
     "output_type": "display_data"
    }
   ],
   "source": [
    "Power.view()"
   ]
  },
  {
   "cell_type": "markdown",
   "metadata": {},
   "source": [
    "Now with the defined fuzzy rules we order the channels of the EEG based on their siezureness values. The following function takes as input a ch-channel EEG signal with the corrseponding fs and reorder its channel based on the siezureness"
   ]
  },
  {
   "cell_type": "code",
   "execution_count": 202,
   "metadata": {},
   "outputs": [],
   "source": [
    "def sortdata(EEGdata,fs):\n",
    "    siezuremeasure = np.zeros((EEGdata.shape[0]))\n",
    "    sortedEEGdata = np.zeros(EEGdata.shape)    \n",
    "    for k in range(EEGdata.shape[0]):\n",
    "        fftdata = np.fft.fft(EEGdata[k,:])\n",
    "        for i in range(int(fftdata.shape[0]/2)):\n",
    "            Siezureness.inputs({'freq':i*fs/fftdata.shape[0],'Power':np.abs(fftdata[i])})\n",
    "            Siezureness.compute()\n",
    "            siezuremeasure[k] += Siezureness.output['Siezure']>0.8\n",
    "    sort = np.sort(siezuremeasure)[::-1]    \n",
    "    for k in range(sort.shape[0]):\n",
    "        h = sort[k]==siezuremeasure        \n",
    "        sortedEEGdata[k,:] = EEGdata[np.where(h)[0][0],:]\n",
    "    return sortedEEGdata\n",
    "def sortdataset(dataset,fs):\n",
    "    sorteddataset = np.zeros(dataset.shape)\n",
    "    for i in range(dataset.shape[0]):\n",
    "        sorteddataset[i] = sortdata(dataset[i],fs)\n",
    "    return sorteddataset"
   ]
  },
  {
   "cell_type": "markdown",
   "metadata": {},
   "source": [
    "Now lets reorder all the training dataset based on their seizureness values using the function defined above"
   ]
  },
  {
   "cell_type": "code",
   "execution_count": 203,
   "metadata": {},
   "outputs": [],
   "source": [
    "orderdposdataweak = sortdataset(posdataweak,fs)"
   ]
  },
  {
   "cell_type": "code",
   "execution_count": 5,
   "metadata": {},
   "outputs": [],
   "source": [
    "import pickle"
   ]
  },
  {
   "cell_type": "code",
   "execution_count": 153,
   "metadata": {},
   "outputs": [],
   "source": [
    "with open(\"posdatasetsorted\",\"wb\") as file:\n",
    "    pickle.dump(orderdposdataweak,file)\n"
   ]
  },
  {
   "cell_type": "code",
   "execution_count": 25,
   "metadata": {},
   "outputs": [],
   "source": [
    "with open(\"posdatasetsorted\",\"rb\") as file:\n",
    "    orderdposdataweak = pickle.load(file) "
   ]
  },
  {
   "cell_type": "markdown",
   "metadata": {},
   "source": [
    "Now let's check the model on this ordered dataset."
   ]
  },
  {
   "cell_type": "code",
   "execution_count": 150,
   "metadata": {},
   "outputs": [
    {
     "data": {
      "text/plain": [
       "(8000, 8, 256)"
      ]
     },
     "execution_count": 150,
     "metadata": {},
     "output_type": "execute_result"
    }
   ],
   "source": [
    "datasetweak.shape\n",
    "ylabel.shape\n",
    "orderdposdataweak.shape"
   ]
  },
  {
   "cell_type": "code",
   "execution_count": 151,
   "metadata": {},
   "outputs": [],
   "source": [
    "orederednegdataweak = sortdataset(negdataweak,fs)"
   ]
  },
  {
   "cell_type": "code",
   "execution_count": 155,
   "metadata": {},
   "outputs": [],
   "source": [
    "with open(\"negdatasetsorted\",\"wb\") as file:\n",
    "    pickle.dump(orederednegdataweak,file)"
   ]
  },
  {
   "cell_type": "code",
   "execution_count": 26,
   "metadata": {},
   "outputs": [],
   "source": [
    "with open(\"negdatasetsorted\",\"rb\") as file:\n",
    "    orederednegdataweak = pickle.load(file)\n",
    "# negdatass == orederednegdataweak"
   ]
  },
  {
   "cell_type": "code",
   "execution_count": 27,
   "metadata": {},
   "outputs": [
    {
     "data": {
      "text/plain": [
       "(10000, 8, 256, 1)"
      ]
     },
     "execution_count": 27,
     "metadata": {},
     "output_type": "execute_result"
    }
   ],
   "source": [
    "datasetweakordered = np.concatenate((orderdposdataweak,orederednegdataweak))\n",
    "datasetweakordered = np.expand_dims(datasetweakordered,-1)\n",
    "datasetweakordered.shape"
   ]
  },
  {
   "cell_type": "code",
   "execution_count": 36,
   "metadata": {},
   "outputs": [
    {
     "name": "stdout",
     "output_type": "stream",
     "text": [
      "WARNING:tensorflow:sample_weight modes were coerced from\n",
      "  ...\n",
      "    to  \n",
      "  ['...']\n",
      "WARNING:tensorflow:sample_weight modes were coerced from\n",
      "  ...\n",
      "    to  \n",
      "  ['...']\n",
      "Train on 7200 samples, validate on 800 samples\n",
      "Epoch 1/1500\n",
      "7200/7200 [==============================] - 89s 12ms/sample - loss: 1.7050e-04 - accuracy: 0.0386 - AUC: 0.0383\n"
     ]
    },
    {
     "ename": "KeyboardInterrupt",
     "evalue": "",
     "output_type": "error",
     "traceback": [
      "\u001b[1;31m---------------------------------------------------------------------------\u001b[0m",
      "\u001b[1;31mKeyboardInterrupt\u001b[0m                         Traceback (most recent call last)",
      "\u001b[1;32m<ipython-input-36-9502602cfbcf>\u001b[0m in \u001b[0;36m<module>\u001b[1;34m\u001b[0m\n\u001b[0;32m     12\u001b[0m \u001b[1;33m\u001b[0m\u001b[0m\n\u001b[0;32m     13\u001b[0m \u001b[0mclass_weight\u001b[0m \u001b[1;33m=\u001b[0m \u001b[1;33m{\u001b[0m\u001b[1;36m0\u001b[0m\u001b[1;33m:\u001b[0m \u001b[0mw0\u001b[0m\u001b[1;33m,\u001b[0m \u001b[1;36m1\u001b[0m\u001b[1;33m:\u001b[0m \u001b[0mw1\u001b[0m\u001b[1;33m}\u001b[0m\u001b[1;33m\u001b[0m\u001b[1;33m\u001b[0m\u001b[0m\n\u001b[1;32m---> 14\u001b[1;33m \u001b[0mfuzzyordered\u001b[0m \u001b[1;33m=\u001b[0m \u001b[0mmodel\u001b[0m\u001b[1;33m.\u001b[0m\u001b[0mfit\u001b[0m\u001b[1;33m(\u001b[0m\u001b[0mX_train\u001b[0m\u001b[1;33m,\u001b[0m \u001b[0mY_train\u001b[0m\u001b[1;33m,\u001b[0m \u001b[0mbatch_size\u001b[0m\u001b[1;33m=\u001b[0m\u001b[0mbatch_size\u001b[0m\u001b[1;33m,\u001b[0m \u001b[0mepochs\u001b[0m\u001b[1;33m=\u001b[0m\u001b[0mepochs\u001b[0m\u001b[1;33m,\u001b[0m \u001b[0mvalidation_split\u001b[0m\u001b[1;33m=\u001b[0m\u001b[1;36m0.1\u001b[0m\u001b[1;33m,\u001b[0m\u001b[0mcallbacks\u001b[0m\u001b[1;33m=\u001b[0m\u001b[1;33m[\u001b[0m\u001b[0mcallback\u001b[0m\u001b[1;33m]\u001b[0m\u001b[1;33m,\u001b[0m\u001b[0mclass_weight\u001b[0m\u001b[1;33m=\u001b[0m\u001b[0mclass_weight\u001b[0m\u001b[1;33m)\u001b[0m\u001b[1;33m\u001b[0m\u001b[1;33m\u001b[0m\u001b[0m\n\u001b[0m",
      "\u001b[1;32mC:\\eng_softs\\Anaconda3\\lib\\site-packages\\tensorflow_core\\python\\keras\\engine\\training.py\u001b[0m in \u001b[0;36mfit\u001b[1;34m(self, x, y, batch_size, epochs, verbose, callbacks, validation_split, validation_data, shuffle, class_weight, sample_weight, initial_epoch, steps_per_epoch, validation_steps, validation_freq, max_queue_size, workers, use_multiprocessing, **kwargs)\u001b[0m\n\u001b[0;32m    817\u001b[0m         \u001b[0mmax_queue_size\u001b[0m\u001b[1;33m=\u001b[0m\u001b[0mmax_queue_size\u001b[0m\u001b[1;33m,\u001b[0m\u001b[1;33m\u001b[0m\u001b[1;33m\u001b[0m\u001b[0m\n\u001b[0;32m    818\u001b[0m         \u001b[0mworkers\u001b[0m\u001b[1;33m=\u001b[0m\u001b[0mworkers\u001b[0m\u001b[1;33m,\u001b[0m\u001b[1;33m\u001b[0m\u001b[1;33m\u001b[0m\u001b[0m\n\u001b[1;32m--> 819\u001b[1;33m         use_multiprocessing=use_multiprocessing)\n\u001b[0m\u001b[0;32m    820\u001b[0m \u001b[1;33m\u001b[0m\u001b[0m\n\u001b[0;32m    821\u001b[0m   def evaluate(self,\n",
      "\u001b[1;32mC:\\eng_softs\\Anaconda3\\lib\\site-packages\\tensorflow_core\\python\\keras\\engine\\training_v2.py\u001b[0m in \u001b[0;36mfit\u001b[1;34m(self, model, x, y, batch_size, epochs, verbose, callbacks, validation_split, validation_data, shuffle, class_weight, sample_weight, initial_epoch, steps_per_epoch, validation_steps, validation_freq, max_queue_size, workers, use_multiprocessing, **kwargs)\u001b[0m\n\u001b[0;32m    340\u001b[0m                 \u001b[0mmode\u001b[0m\u001b[1;33m=\u001b[0m\u001b[0mModeKeys\u001b[0m\u001b[1;33m.\u001b[0m\u001b[0mTRAIN\u001b[0m\u001b[1;33m,\u001b[0m\u001b[1;33m\u001b[0m\u001b[1;33m\u001b[0m\u001b[0m\n\u001b[0;32m    341\u001b[0m                 \u001b[0mtraining_context\u001b[0m\u001b[1;33m=\u001b[0m\u001b[0mtraining_context\u001b[0m\u001b[1;33m,\u001b[0m\u001b[1;33m\u001b[0m\u001b[1;33m\u001b[0m\u001b[0m\n\u001b[1;32m--> 342\u001b[1;33m                 total_epochs=epochs)\n\u001b[0m\u001b[0;32m    343\u001b[0m             \u001b[0mcbks\u001b[0m\u001b[1;33m.\u001b[0m\u001b[0mmake_logs\u001b[0m\u001b[1;33m(\u001b[0m\u001b[0mmodel\u001b[0m\u001b[1;33m,\u001b[0m \u001b[0mepoch_logs\u001b[0m\u001b[1;33m,\u001b[0m \u001b[0mtraining_result\u001b[0m\u001b[1;33m,\u001b[0m \u001b[0mModeKeys\u001b[0m\u001b[1;33m.\u001b[0m\u001b[0mTRAIN\u001b[0m\u001b[1;33m)\u001b[0m\u001b[1;33m\u001b[0m\u001b[1;33m\u001b[0m\u001b[0m\n\u001b[0;32m    344\u001b[0m \u001b[1;33m\u001b[0m\u001b[0m\n",
      "\u001b[1;32mC:\\eng_softs\\Anaconda3\\lib\\site-packages\\tensorflow_core\\python\\keras\\engine\\training_v2.py\u001b[0m in \u001b[0;36mrun_one_epoch\u001b[1;34m(model, iterator, execution_function, dataset_size, batch_size, strategy, steps_per_epoch, num_samples, mode, training_context, total_epochs)\u001b[0m\n\u001b[0;32m    126\u001b[0m         step=step, mode=mode, size=current_batch_size) as batch_logs:\n\u001b[0;32m    127\u001b[0m       \u001b[1;32mtry\u001b[0m\u001b[1;33m:\u001b[0m\u001b[1;33m\u001b[0m\u001b[1;33m\u001b[0m\u001b[0m\n\u001b[1;32m--> 128\u001b[1;33m         \u001b[0mbatch_outs\u001b[0m \u001b[1;33m=\u001b[0m \u001b[0mexecution_function\u001b[0m\u001b[1;33m(\u001b[0m\u001b[0miterator\u001b[0m\u001b[1;33m)\u001b[0m\u001b[1;33m\u001b[0m\u001b[1;33m\u001b[0m\u001b[0m\n\u001b[0m\u001b[0;32m    129\u001b[0m       \u001b[1;32mexcept\u001b[0m \u001b[1;33m(\u001b[0m\u001b[0mStopIteration\u001b[0m\u001b[1;33m,\u001b[0m \u001b[0merrors\u001b[0m\u001b[1;33m.\u001b[0m\u001b[0mOutOfRangeError\u001b[0m\u001b[1;33m)\u001b[0m\u001b[1;33m:\u001b[0m\u001b[1;33m\u001b[0m\u001b[1;33m\u001b[0m\u001b[0m\n\u001b[0;32m    130\u001b[0m         \u001b[1;31m# TODO(kaftan): File bug about tf function and errors.OutOfRangeError?\u001b[0m\u001b[1;33m\u001b[0m\u001b[1;33m\u001b[0m\u001b[1;33m\u001b[0m\u001b[0m\n",
      "\u001b[1;32mC:\\eng_softs\\Anaconda3\\lib\\site-packages\\tensorflow_core\\python\\keras\\engine\\training_v2_utils.py\u001b[0m in \u001b[0;36mexecution_function\u001b[1;34m(input_fn)\u001b[0m\n\u001b[0;32m     96\u001b[0m     \u001b[1;31m# `numpy` translates Tensors to values in Eager mode.\u001b[0m\u001b[1;33m\u001b[0m\u001b[1;33m\u001b[0m\u001b[1;33m\u001b[0m\u001b[0m\n\u001b[0;32m     97\u001b[0m     return nest.map_structure(_non_none_constant_value,\n\u001b[1;32m---> 98\u001b[1;33m                               distributed_function(input_fn))\n\u001b[0m\u001b[0;32m     99\u001b[0m \u001b[1;33m\u001b[0m\u001b[0m\n\u001b[0;32m    100\u001b[0m   \u001b[1;32mreturn\u001b[0m \u001b[0mexecution_function\u001b[0m\u001b[1;33m\u001b[0m\u001b[1;33m\u001b[0m\u001b[0m\n",
      "\u001b[1;32mC:\\eng_softs\\Anaconda3\\lib\\site-packages\\tensorflow_core\\python\\eager\\def_function.py\u001b[0m in \u001b[0;36m__call__\u001b[1;34m(self, *args, **kwds)\u001b[0m\n\u001b[0;32m    566\u001b[0m         \u001b[0mxla_context\u001b[0m\u001b[1;33m.\u001b[0m\u001b[0mExit\u001b[0m\u001b[1;33m(\u001b[0m\u001b[1;33m)\u001b[0m\u001b[1;33m\u001b[0m\u001b[1;33m\u001b[0m\u001b[0m\n\u001b[0;32m    567\u001b[0m     \u001b[1;32melse\u001b[0m\u001b[1;33m:\u001b[0m\u001b[1;33m\u001b[0m\u001b[1;33m\u001b[0m\u001b[0m\n\u001b[1;32m--> 568\u001b[1;33m       \u001b[0mresult\u001b[0m \u001b[1;33m=\u001b[0m \u001b[0mself\u001b[0m\u001b[1;33m.\u001b[0m\u001b[0m_call\u001b[0m\u001b[1;33m(\u001b[0m\u001b[1;33m*\u001b[0m\u001b[0margs\u001b[0m\u001b[1;33m,\u001b[0m \u001b[1;33m**\u001b[0m\u001b[0mkwds\u001b[0m\u001b[1;33m)\u001b[0m\u001b[1;33m\u001b[0m\u001b[1;33m\u001b[0m\u001b[0m\n\u001b[0m\u001b[0;32m    569\u001b[0m \u001b[1;33m\u001b[0m\u001b[0m\n\u001b[0;32m    570\u001b[0m     \u001b[1;32mif\u001b[0m \u001b[0mtracing_count\u001b[0m \u001b[1;33m==\u001b[0m \u001b[0mself\u001b[0m\u001b[1;33m.\u001b[0m\u001b[0m_get_tracing_count\u001b[0m\u001b[1;33m(\u001b[0m\u001b[1;33m)\u001b[0m\u001b[1;33m:\u001b[0m\u001b[1;33m\u001b[0m\u001b[1;33m\u001b[0m\u001b[0m\n",
      "\u001b[1;32mC:\\eng_softs\\Anaconda3\\lib\\site-packages\\tensorflow_core\\python\\eager\\def_function.py\u001b[0m in \u001b[0;36m_call\u001b[1;34m(self, *args, **kwds)\u001b[0m\n\u001b[0;32m    597\u001b[0m       \u001b[1;31m# In this case we have created variables on the first call, so we run the\u001b[0m\u001b[1;33m\u001b[0m\u001b[1;33m\u001b[0m\u001b[1;33m\u001b[0m\u001b[0m\n\u001b[0;32m    598\u001b[0m       \u001b[1;31m# defunned version which is guaranteed to never create variables.\u001b[0m\u001b[1;33m\u001b[0m\u001b[1;33m\u001b[0m\u001b[1;33m\u001b[0m\u001b[0m\n\u001b[1;32m--> 599\u001b[1;33m       \u001b[1;32mreturn\u001b[0m \u001b[0mself\u001b[0m\u001b[1;33m.\u001b[0m\u001b[0m_stateless_fn\u001b[0m\u001b[1;33m(\u001b[0m\u001b[1;33m*\u001b[0m\u001b[0margs\u001b[0m\u001b[1;33m,\u001b[0m \u001b[1;33m**\u001b[0m\u001b[0mkwds\u001b[0m\u001b[1;33m)\u001b[0m  \u001b[1;31m# pylint: disable=not-callable\u001b[0m\u001b[1;33m\u001b[0m\u001b[1;33m\u001b[0m\u001b[0m\n\u001b[0m\u001b[0;32m    600\u001b[0m     \u001b[1;32melif\u001b[0m \u001b[0mself\u001b[0m\u001b[1;33m.\u001b[0m\u001b[0m_stateful_fn\u001b[0m \u001b[1;32mis\u001b[0m \u001b[1;32mnot\u001b[0m \u001b[1;32mNone\u001b[0m\u001b[1;33m:\u001b[0m\u001b[1;33m\u001b[0m\u001b[1;33m\u001b[0m\u001b[0m\n\u001b[0;32m    601\u001b[0m       \u001b[1;31m# Release the lock early so that multiple threads can perform the call\u001b[0m\u001b[1;33m\u001b[0m\u001b[1;33m\u001b[0m\u001b[1;33m\u001b[0m\u001b[0m\n",
      "\u001b[1;32mC:\\eng_softs\\Anaconda3\\lib\\site-packages\\tensorflow_core\\python\\eager\\function.py\u001b[0m in \u001b[0;36m__call__\u001b[1;34m(self, *args, **kwargs)\u001b[0m\n\u001b[0;32m   2361\u001b[0m     \u001b[1;32mwith\u001b[0m \u001b[0mself\u001b[0m\u001b[1;33m.\u001b[0m\u001b[0m_lock\u001b[0m\u001b[1;33m:\u001b[0m\u001b[1;33m\u001b[0m\u001b[1;33m\u001b[0m\u001b[0m\n\u001b[0;32m   2362\u001b[0m       \u001b[0mgraph_function\u001b[0m\u001b[1;33m,\u001b[0m \u001b[0margs\u001b[0m\u001b[1;33m,\u001b[0m \u001b[0mkwargs\u001b[0m \u001b[1;33m=\u001b[0m \u001b[0mself\u001b[0m\u001b[1;33m.\u001b[0m\u001b[0m_maybe_define_function\u001b[0m\u001b[1;33m(\u001b[0m\u001b[0margs\u001b[0m\u001b[1;33m,\u001b[0m \u001b[0mkwargs\u001b[0m\u001b[1;33m)\u001b[0m\u001b[1;33m\u001b[0m\u001b[1;33m\u001b[0m\u001b[0m\n\u001b[1;32m-> 2363\u001b[1;33m     \u001b[1;32mreturn\u001b[0m \u001b[0mgraph_function\u001b[0m\u001b[1;33m.\u001b[0m\u001b[0m_filtered_call\u001b[0m\u001b[1;33m(\u001b[0m\u001b[0margs\u001b[0m\u001b[1;33m,\u001b[0m \u001b[0mkwargs\u001b[0m\u001b[1;33m)\u001b[0m  \u001b[1;31m# pylint: disable=protected-access\u001b[0m\u001b[1;33m\u001b[0m\u001b[1;33m\u001b[0m\u001b[0m\n\u001b[0m\u001b[0;32m   2364\u001b[0m \u001b[1;33m\u001b[0m\u001b[0m\n\u001b[0;32m   2365\u001b[0m   \u001b[1;33m@\u001b[0m\u001b[0mproperty\u001b[0m\u001b[1;33m\u001b[0m\u001b[1;33m\u001b[0m\u001b[0m\n",
      "\u001b[1;32mC:\\eng_softs\\Anaconda3\\lib\\site-packages\\tensorflow_core\\python\\eager\\function.py\u001b[0m in \u001b[0;36m_filtered_call\u001b[1;34m(self, args, kwargs)\u001b[0m\n\u001b[0;32m   1609\u001b[0m          if isinstance(t, (ops.Tensor,\n\u001b[0;32m   1610\u001b[0m                            resource_variable_ops.BaseResourceVariable))),\n\u001b[1;32m-> 1611\u001b[1;33m         self.captured_inputs)\n\u001b[0m\u001b[0;32m   1612\u001b[0m \u001b[1;33m\u001b[0m\u001b[0m\n\u001b[0;32m   1613\u001b[0m   \u001b[1;32mdef\u001b[0m \u001b[0m_call_flat\u001b[0m\u001b[1;33m(\u001b[0m\u001b[0mself\u001b[0m\u001b[1;33m,\u001b[0m \u001b[0margs\u001b[0m\u001b[1;33m,\u001b[0m \u001b[0mcaptured_inputs\u001b[0m\u001b[1;33m,\u001b[0m \u001b[0mcancellation_manager\u001b[0m\u001b[1;33m=\u001b[0m\u001b[1;32mNone\u001b[0m\u001b[1;33m)\u001b[0m\u001b[1;33m:\u001b[0m\u001b[1;33m\u001b[0m\u001b[1;33m\u001b[0m\u001b[0m\n",
      "\u001b[1;32mC:\\eng_softs\\Anaconda3\\lib\\site-packages\\tensorflow_core\\python\\eager\\function.py\u001b[0m in \u001b[0;36m_call_flat\u001b[1;34m(self, args, captured_inputs, cancellation_manager)\u001b[0m\n\u001b[0;32m   1690\u001b[0m       \u001b[1;31m# No tape is watching; skip to running the function.\u001b[0m\u001b[1;33m\u001b[0m\u001b[1;33m\u001b[0m\u001b[1;33m\u001b[0m\u001b[0m\n\u001b[0;32m   1691\u001b[0m       return self._build_call_outputs(self._inference_function.call(\n\u001b[1;32m-> 1692\u001b[1;33m           ctx, args, cancellation_manager=cancellation_manager))\n\u001b[0m\u001b[0;32m   1693\u001b[0m     forward_backward = self._select_forward_and_backward_functions(\n\u001b[0;32m   1694\u001b[0m         \u001b[0margs\u001b[0m\u001b[1;33m,\u001b[0m\u001b[1;33m\u001b[0m\u001b[1;33m\u001b[0m\u001b[0m\n",
      "\u001b[1;32mC:\\eng_softs\\Anaconda3\\lib\\site-packages\\tensorflow_core\\python\\eager\\function.py\u001b[0m in \u001b[0;36mcall\u001b[1;34m(self, ctx, args, cancellation_manager)\u001b[0m\n\u001b[0;32m    543\u001b[0m               \u001b[0minputs\u001b[0m\u001b[1;33m=\u001b[0m\u001b[0margs\u001b[0m\u001b[1;33m,\u001b[0m\u001b[1;33m\u001b[0m\u001b[1;33m\u001b[0m\u001b[0m\n\u001b[0;32m    544\u001b[0m               \u001b[0mattrs\u001b[0m\u001b[1;33m=\u001b[0m\u001b[1;33m(\u001b[0m\u001b[1;34m\"executor_type\"\u001b[0m\u001b[1;33m,\u001b[0m \u001b[0mexecutor_type\u001b[0m\u001b[1;33m,\u001b[0m \u001b[1;34m\"config_proto\"\u001b[0m\u001b[1;33m,\u001b[0m \u001b[0mconfig\u001b[0m\u001b[1;33m)\u001b[0m\u001b[1;33m,\u001b[0m\u001b[1;33m\u001b[0m\u001b[1;33m\u001b[0m\u001b[0m\n\u001b[1;32m--> 545\u001b[1;33m               ctx=ctx)\n\u001b[0m\u001b[0;32m    546\u001b[0m         \u001b[1;32melse\u001b[0m\u001b[1;33m:\u001b[0m\u001b[1;33m\u001b[0m\u001b[1;33m\u001b[0m\u001b[0m\n\u001b[0;32m    547\u001b[0m           outputs = execute.execute_with_cancellation(\n",
      "\u001b[1;32mC:\\eng_softs\\Anaconda3\\lib\\site-packages\\tensorflow_core\\python\\eager\\execute.py\u001b[0m in \u001b[0;36mquick_execute\u001b[1;34m(op_name, num_outputs, inputs, attrs, ctx, name)\u001b[0m\n\u001b[0;32m     59\u001b[0m     tensors = pywrap_tensorflow.TFE_Py_Execute(ctx._handle, device_name,\n\u001b[0;32m     60\u001b[0m                                                \u001b[0mop_name\u001b[0m\u001b[1;33m,\u001b[0m \u001b[0minputs\u001b[0m\u001b[1;33m,\u001b[0m \u001b[0mattrs\u001b[0m\u001b[1;33m,\u001b[0m\u001b[1;33m\u001b[0m\u001b[1;33m\u001b[0m\u001b[0m\n\u001b[1;32m---> 61\u001b[1;33m                                                num_outputs)\n\u001b[0m\u001b[0;32m     62\u001b[0m   \u001b[1;32mexcept\u001b[0m \u001b[0mcore\u001b[0m\u001b[1;33m.\u001b[0m\u001b[0m_NotOkStatusException\u001b[0m \u001b[1;32mas\u001b[0m \u001b[0me\u001b[0m\u001b[1;33m:\u001b[0m\u001b[1;33m\u001b[0m\u001b[1;33m\u001b[0m\u001b[0m\n\u001b[0;32m     63\u001b[0m     \u001b[1;32mif\u001b[0m \u001b[0mname\u001b[0m \u001b[1;32mis\u001b[0m \u001b[1;32mnot\u001b[0m \u001b[1;32mNone\u001b[0m\u001b[1;33m:\u001b[0m\u001b[1;33m\u001b[0m\u001b[1;33m\u001b[0m\u001b[0m\n",
      "\u001b[1;31mKeyboardInterrupt\u001b[0m: "
     ]
    }
   ],
   "source": [
    "batch_size = 300\n",
    "epochs = 1500\n",
    "num_classes = 2\n",
    "model = keras.models.load_model(\"Raw_Model\")\n",
    "ylabel = keras.utils.to_categorical(classid, num_classes)\n",
    "X_train,X_test,Y_train,Y_test = train_test_split(datasetweakordered, ylabel,test_size = 0.2 , random_state=2)\n",
    "sgd = tf.keras.optimizers.SGD(\n",
    "    learning_rate=0.001, momentum=0.9, nesterov=True, name=\"SGD\"\n",
    ")\n",
    "model.compile(loss=\"binary_crossentropy\",optimizer=sgd,metrics=[\"accuracy\",\"AUC\"])\n",
    "callback = tf.keras.callbacks.EarlyStopping(monitor='accuracy', patience=3)\n",
    "\n",
    "class_weight = {0: w0, 1: w1}\n",
    "fuzzyordered = model.fit(X_train, Y_train, batch_size=batch_size, epochs=epochs, validation_split=0.1,callbacks=[callback],class_weight=class_weight)"
   ]
  },
  {
   "cell_type": "code",
   "execution_count": 176,
   "metadata": {},
   "outputs": [
    {
     "name": "stdout",
     "output_type": "stream",
     "text": [
      "INFO:tensorflow:Assets written to: sorteddataset\\assets\n"
     ]
    }
   ],
   "source": [
    "model.save(\"sorteddataset\")"
   ]
  },
  {
   "cell_type": "code",
   "execution_count": 38,
   "metadata": {},
   "outputs": [
    {
     "data": {
      "text/plain": [
       "(10000, 8, 256, 1)"
      ]
     },
     "execution_count": 38,
     "metadata": {},
     "output_type": "execute_result"
    }
   ],
   "source": [
    "# nums = random.choices(range(1,4),k=negdatasize)\n",
    "# positions = [random.sample(range(0,8),k=i) for i in nums]\n",
    "# posdata2 = iter(np.random.permutation(posdata))\n",
    "# negdata2 = iter(np.random.permutation(negdata))\n",
    "# negdataweak=[]\n",
    "negdata3sorted=np.zeros((negdatasize,ch,*t.shape))\n",
    "# classid = np.concatenate((classid,np.ones((negdatasize))))\n",
    "index = 0\n",
    "w0 = 1/posdatasize\n",
    "w1 = 1/negdatasize\n",
    "for pos in positions:\n",
    "    num = 0\n",
    "    for p in pos:\n",
    "        try:\n",
    "            negdata3sorted[index,num,:] = next(negdata2)\n",
    "            num+=1\n",
    "        except:\n",
    "            negdata2 = iter(np.random.permutation(negdata))\n",
    "            negdata3sorted[index,num,:] = next(negdata2)\n",
    "            num+=1\n",
    "    try:\n",
    "        negdata3sorted[index,num,:] = next(posdata2)\n",
    "        num+=1\n",
    "    except:\n",
    "        posdata2 = iter(np.random.permutation(posdata))\n",
    "        negdata3sorted[index,num,:] = next(posdata2)\n",
    "        num+=1\n",
    "    index+=1\n",
    "#     for i in range(8):\n",
    "#         if(i in pos):\n",
    "#             try:\n",
    "#                 negdata3[index,i,:] = next(negdata2)\n",
    "#             except StopIteration:\n",
    "#                 negdata2 = iter(np.random.permutation(negdata))\n",
    "#                 negdata3[index,i,:] = next(negdata2)\n",
    "#         else:\n",
    "#             try:\n",
    "#                 negdata3[index,i,:] = next(posdata2)\n",
    "#             except StopIteration:\n",
    "#                 posdata2 = iter(np.random.permutation(posdata))\n",
    "#                 negdata3[index,i,:] = next(posdata2)\n",
    "#     index+=1\n",
    "\n",
    "sorteddataset= np.expand_dims(np.concatenate((posdataweak,negdata3sorted)),-1)\n",
    "sorteddataset.shape\n"
   ]
  },
  {
   "cell_type": "code",
   "execution_count": 39,
   "metadata": {},
   "outputs": [
    {
     "data": {
      "text/plain": [
       "False"
      ]
     },
     "execution_count": 39,
     "metadata": {},
     "output_type": "execute_result"
    }
   ],
   "source": [
    "'negdatasetsorted' in dir()"
   ]
  },
  {
   "cell_type": "code",
   "execution_count": 51,
   "metadata": {},
   "outputs": [
    {
     "name": "stdout",
     "output_type": "stream",
     "text": [
      "WARNING:tensorflow:sample_weight modes were coerced from\n",
      "  ...\n",
      "    to  \n",
      "  ['...']\n",
      "WARNING:tensorflow:sample_weight modes were coerced from\n",
      "  ...\n",
      "    to  \n",
      "  ['...']\n",
      "Train on 7200 samples, validate on 800 samples\n",
      "Epoch 1/1500\n",
      "7200/7200 [==============================] - 88s 12ms/sample - loss: 1.6034e-04 - accuracy: 0.1776 - AUC: 0.1753 - val_loss: 1.3213e-04 - val_accuracy: 0.5000 - val_AUC: 0.5000\n",
      "Epoch 2/1500\n",
      "7200/7200 [==============================] - 85s 12ms/sample - loss: 1.5757e-04 - accuracy: 0.1807 - AUC: 0.1857 - val_loss: 1.3213e-04 - val_accuracy: 0.5000 - val_AUC: 0.5000\n",
      "Epoch 3/1500\n",
      "7200/7200 [==============================] - 86s 12ms/sample - loss: 1.5450e-04 - accuracy: 0.1864 - AUC: 0.1983 - val_loss: 1.3213e-04 - val_accuracy: 0.5000 - val_AUC: 0.5000\n",
      "Epoch 4/1500\n",
      "7200/7200 [==============================] - 85s 12ms/sample - loss: 1.5257e-04 - accuracy: 0.1875 - AUC: 0.2064 - val_loss: 1.3213e-04 - val_accuracy: 0.5000 - val_AUC: 0.5000\n",
      "Epoch 5/1500\n",
      "7200/7200 [==============================] - 86s 12ms/sample - loss: 1.5010e-04 - accuracy: 0.1907 - AUC: 0.2177 - val_loss: 1.3213e-04 - val_accuracy: 0.5000 - val_AUC: 0.5000\n",
      "Epoch 6/1500\n",
      "7200/7200 [==============================] - 85s 12ms/sample - loss: 1.4808e-04 - accuracy: 0.1958 - AUC: 0.2261 - val_loss: 1.3213e-04 - val_accuracy: 0.5000 - val_AUC: 0.5000\n",
      "Epoch 7/1500\n",
      "7200/7200 [==============================] - 86s 12ms/sample - loss: 1.4657e-04 - accuracy: 0.1967 - AUC: 0.2329 - val_loss: 1.3213e-04 - val_accuracy: 0.5000 - val_AUC: 0.5000\n",
      "Epoch 8/1500\n",
      "7200/7200 [==============================] - 86s 12ms/sample - loss: 1.4420e-04 - accuracy: 0.2018 - AUC: 0.2443 - val_loss: 1.3213e-04 - val_accuracy: 0.5000 - val_AUC: 0.5000\n",
      "Epoch 9/1500\n",
      "7200/7200 [==============================] - 86s 12ms/sample - loss: 1.4224e-04 - accuracy: 0.2046 - AUC: 0.2516 - val_loss: 1.3213e-04 - val_accuracy: 0.5000 - val_AUC: 0.5000\n",
      "Epoch 10/1500\n",
      "7200/7200 [==============================] - 86s 12ms/sample - loss: 1.4066e-04 - accuracy: 0.2044 - AUC: 0.2601 - val_loss: 1.3213e-04 - val_accuracy: 0.5000 - val_AUC: 0.5000\n",
      "Epoch 11/1500\n",
      "7200/7200 [==============================] - 86s 12ms/sample - loss: 1.3934e-04 - accuracy: 0.2071 - AUC: 0.2653 - val_loss: 1.3213e-04 - val_accuracy: 0.5000 - val_AUC: 0.5000\n",
      "Epoch 12/1500\n",
      "7200/7200 [==============================] - 85s 12ms/sample - loss: 1.3762e-04 - accuracy: 0.2083 - AUC: 0.2740 - val_loss: 1.3213e-04 - val_accuracy: 0.5000 - val_AUC: 0.5000\n",
      "Epoch 13/1500\n",
      "7200/7200 [==============================] - 85s 12ms/sample - loss: 1.3619e-04 - accuracy: 0.2106 - AUC: 0.2811 - val_loss: 1.3213e-04 - val_accuracy: 0.5000 - val_AUC: 0.5000\n",
      "Epoch 14/1500\n",
      "7200/7200 [==============================] - 85s 12ms/sample - loss: 1.3446e-04 - accuracy: 0.2147 - AUC: 0.2898 - val_loss: 1.3213e-04 - val_accuracy: 0.5000 - val_AUC: 0.5000\n",
      "Epoch 15/1500\n",
      "7200/7200 [==============================] - 86s 12ms/sample - loss: 1.3385e-04 - accuracy: 0.2154 - AUC: 0.2924 - val_loss: 1.3213e-04 - val_accuracy: 0.5000 - val_AUC: 0.5000\n",
      "Epoch 16/1500\n",
      "7200/7200 [==============================] - 86s 12ms/sample - loss: 1.3145e-04 - accuracy: 0.2194 - AUC: 0.3024 - val_loss: 1.3213e-04 - val_accuracy: 0.5000 - val_AUC: 0.5000\n",
      "Epoch 17/1500\n",
      "7200/7200 [==============================] - 86s 12ms/sample - loss: 1.3026e-04 - accuracy: 0.2197 - AUC: 0.3064 - val_loss: 1.3213e-04 - val_accuracy: 0.5000 - val_AUC: 0.5012\n",
      "Epoch 18/1500\n",
      "7200/7200 [==============================] - 85s 12ms/sample - loss: 1.2907e-04 - accuracy: 0.2212 - AUC: 0.3105 - val_loss: 1.3217e-04 - val_accuracy: 0.4969 - val_AUC: 0.4950\n",
      "Epoch 19/1500\n",
      "7200/7200 [==============================] - 86s 12ms/sample - loss: 1.2770e-04 - accuracy: 0.2232 - AUC: 0.3169 - val_loss: 1.3253e-04 - val_accuracy: 0.4781 - val_AUC: 0.4742\n",
      "Epoch 20/1500\n",
      "7200/7200 [==============================] - 85s 12ms/sample - loss: 1.2617e-04 - accuracy: 0.2249 - AUC: 0.3226 - val_loss: 1.3360e-04 - val_accuracy: 0.4694 - val_AUC: 0.4547\n",
      "Epoch 21/1500\n",
      "7200/7200 [==============================] - 86s 12ms/sample - loss: 1.2532e-04 - accuracy: 0.2268 - AUC: 0.3271 - val_loss: 1.3531e-04 - val_accuracy: 0.4775 - val_AUC: 0.4554\n",
      "Epoch 22/1500\n",
      "7200/7200 [==============================] - 87s 12ms/sample - loss: 1.2389e-04 - accuracy: 0.2267 - AUC: 0.3338 - val_loss: 1.3677e-04 - val_accuracy: 0.5050 - val_AUC: 0.4880\n",
      "Epoch 23/1500\n",
      "7200/7200 [==============================] - 85s 12ms/sample - loss: 1.2257e-04 - accuracy: 0.2297 - AUC: 0.3397 - val_loss: 1.3693e-04 - val_accuracy: 0.5412 - val_AUC: 0.5445\n",
      "Epoch 24/1500\n",
      "7200/7200 [==============================] - 85s 12ms/sample - loss: 1.2139e-04 - accuracy: 0.2315 - AUC: 0.3446 - val_loss: 1.3516e-04 - val_accuracy: 0.5881 - val_AUC: 0.6067\n",
      "Epoch 25/1500\n",
      "7200/7200 [==============================] - 85s 12ms/sample - loss: 1.2021e-04 - accuracy: 0.2321 - AUC: 0.3493 - val_loss: 1.3339e-04 - val_accuracy: 0.3025 - val_AUC: 0.3910\n",
      "Epoch 26/1500\n",
      "7200/7200 [==============================] - 85s 12ms/sample - loss: 1.1897e-04 - accuracy: 0.2349 - AUC: 0.3546 - val_loss: 1.3201e-04 - val_accuracy: 0.2700 - val_AUC: 0.3506\n",
      "Epoch 27/1500\n",
      "7200/7200 [==============================] - 85s 12ms/sample - loss: 1.1794e-04 - accuracy: 0.2347 - AUC: 0.3582 - val_loss: 1.2918e-04 - val_accuracy: 0.2738 - val_AUC: 0.3722\n",
      "Epoch 28/1500\n",
      "7200/7200 [==============================] - 85s 12ms/sample - loss: 1.1660e-04 - accuracy: 0.2365 - AUC: 0.3637 - val_loss: 1.2389e-04 - val_accuracy: 0.2887 - val_AUC: 0.4131\n",
      "Epoch 29/1500\n",
      "7200/7200 [==============================] - 85s 12ms/sample - loss: 1.1596e-04 - accuracy: 0.2378 - AUC: 0.3651 - val_loss: 1.1810e-04 - val_accuracy: 0.8562 - val_AUC: 0.7962\n",
      "Epoch 30/1500\n",
      "7200/7200 [==============================] - 85s 12ms/sample - loss: 1.1444e-04 - accuracy: 0.2386 - AUC: 0.3718 - val_loss: 1.1530e-04 - val_accuracy: 0.8562 - val_AUC: 0.7925\n",
      "Epoch 31/1500\n",
      "7200/7200 [==============================] - 85s 12ms/sample - loss: 1.1341e-04 - accuracy: 0.2404 - AUC: 0.3760 - val_loss: 1.1216e-04 - val_accuracy: 0.8500 - val_AUC: 0.7989\n",
      "Epoch 32/1500\n",
      "7200/7200 [==============================] - 85s 12ms/sample - loss: 1.1252e-04 - accuracy: 0.2401 - AUC: 0.3777 - val_loss: 1.0966e-04 - val_accuracy: 0.8487 - val_AUC: 0.7978\n",
      "Epoch 33/1500\n",
      "7200/7200 [==============================] - 86s 12ms/sample - loss: 1.1156e-04 - accuracy: 0.2421 - AUC: 0.3821 - val_loss: 1.0791e-04 - val_accuracy: 0.8487 - val_AUC: 0.7956\n",
      "Epoch 34/1500\n",
      "7200/7200 [==============================] - 85s 12ms/sample - loss: 1.1067e-04 - accuracy: 0.2421 - AUC: 0.3842 - val_loss: 1.0669e-04 - val_accuracy: 0.8450 - val_AUC: 0.7909\n",
      "Epoch 35/1500\n",
      "7200/7200 [==============================] - 86s 12ms/sample - loss: 1.0939e-04 - accuracy: 0.2442 - AUC: 0.3896 - val_loss: 1.0556e-04 - val_accuracy: 0.8413 - val_AUC: 0.7835\n",
      "Epoch 36/1500\n",
      "7200/7200 [==============================] - 86s 12ms/sample - loss: 1.0893e-04 - accuracy: 0.2444 - AUC: 0.3920 - val_loss: 1.0456e-04 - val_accuracy: 0.8413 - val_AUC: 0.7712\n",
      "Epoch 37/1500\n",
      "7200/7200 [==============================] - 86s 12ms/sample - loss: 1.0803e-04 - accuracy: 0.2450 - AUC: 0.3944 - val_loss: 1.0355e-04 - val_accuracy: 0.8400 - val_AUC: 0.7705\n",
      "Epoch 38/1500\n",
      "7200/7200 [==============================] - 86s 12ms/sample - loss: 1.0713e-04 - accuracy: 0.2457 - AUC: 0.3983 - val_loss: 1.0269e-04 - val_accuracy: 0.8413 - val_AUC: 0.7758\n",
      "Epoch 39/1500\n",
      "7200/7200 [==============================] - 86s 12ms/sample - loss: 1.0587e-04 - accuracy: 0.2461 - AUC: 0.4011 - val_loss: 1.0182e-04 - val_accuracy: 0.8388 - val_AUC: 0.7746\n",
      "Epoch 40/1500\n",
      "7200/7200 [==============================] - 86s 12ms/sample - loss: 1.0486e-04 - accuracy: 0.2488 - AUC: 0.4066 - val_loss: 1.0092e-04 - val_accuracy: 0.8375 - val_AUC: 0.7735\n",
      "Epoch 41/1500\n",
      "7200/7200 [==============================] - 85s 12ms/sample - loss: 1.0398e-04 - accuracy: 0.2482 - AUC: 0.4247 - val_loss: 1.0004e-04 - val_accuracy: 0.8388 - val_AUC: 0.7755\n",
      "Epoch 42/1500\n",
      "7200/7200 [==============================] - 85s 12ms/sample - loss: 1.0307e-04 - accuracy: 0.4882 - AUC: 0.4911 - val_loss: 9.9261e-05 - val_accuracy: 0.8400 - val_AUC: 0.7864\n"
     ]
    },
    {
     "name": "stdout",
     "output_type": "stream",
     "text": [
      "Epoch 43/1500\n",
      "7200/7200 [==============================] - 85s 12ms/sample - loss: 1.0208e-04 - accuracy: 0.5643 - AUC: 0.6067 - val_loss: 9.8557e-05 - val_accuracy: 0.8425 - val_AUC: 0.7908\n",
      "Epoch 44/1500\n",
      "7200/7200 [==============================] - 85s 12ms/sample - loss: 1.0090e-04 - accuracy: 0.7611 - AUC: 0.7019 - val_loss: 9.7811e-05 - val_accuracy: 0.8450 - val_AUC: 0.7944\n",
      "Epoch 45/1500\n",
      "7200/7200 [==============================] - 85s 12ms/sample - loss: 1.0001e-04 - accuracy: 0.7829 - AUC: 0.7546 - val_loss: 9.7042e-05 - val_accuracy: 0.8450 - val_AUC: 0.8033\n",
      "Epoch 46/1500\n",
      "7200/7200 [==============================] - 85s 12ms/sample - loss: 9.9220e-05 - accuracy: 0.7654 - AUC: 0.7368 - val_loss: 9.6280e-05 - val_accuracy: 0.8475 - val_AUC: 0.8071\n",
      "Epoch 47/1500\n",
      "7200/7200 [==============================] - 85s 12ms/sample - loss: 9.8274e-05 - accuracy: 0.8336 - AUC: 0.7796 - val_loss: 9.5511e-05 - val_accuracy: 0.8512 - val_AUC: 0.8184\n",
      "Epoch 48/1500\n",
      "7200/7200 [==============================] - 86s 12ms/sample - loss: 9.7248e-05 - accuracy: 0.8406 - AUC: 0.7911 - val_loss: 9.4726e-05 - val_accuracy: 0.8537 - val_AUC: 0.8207\n",
      "Epoch 49/1500\n",
      "7200/7200 [==============================] - 84s 12ms/sample - loss: 9.6668e-05 - accuracy: 0.8207 - AUC: 0.7922 - val_loss: 9.3946e-05 - val_accuracy: 0.8575 - val_AUC: 0.8343\n",
      "Epoch 50/1500\n",
      "7200/7200 [==============================] - 86s 12ms/sample - loss: 9.5397e-05 - accuracy: 0.8458 - AUC: 0.8063 - val_loss: 9.3180e-05 - val_accuracy: 0.8612 - val_AUC: 0.8373\n",
      "Epoch 51/1500\n",
      "7200/7200 [==============================] - 85s 12ms/sample - loss: 9.4714e-05 - accuracy: 0.8476 - AUC: 0.8126 - val_loss: 9.2403e-05 - val_accuracy: 0.8650 - val_AUC: 0.8442\n",
      "Epoch 52/1500\n",
      "7200/7200 [==============================] - 86s 12ms/sample - loss: 9.4457e-05 - accuracy: 0.8251 - AUC: 0.8140 - val_loss: 9.1650e-05 - val_accuracy: 0.8675 - val_AUC: 0.8481\n",
      "Epoch 53/1500\n",
      "7200/7200 [==============================] - 85s 12ms/sample - loss: 9.3083e-05 - accuracy: 0.8537 - AUC: 0.8277 - val_loss: 9.0884e-05 - val_accuracy: 0.8700 - val_AUC: 0.8597\n",
      "Epoch 54/1500\n",
      "7200/7200 [==============================] - 86s 12ms/sample - loss: 9.2608e-05 - accuracy: 0.8542 - AUC: 0.8295 - val_loss: 9.0133e-05 - val_accuracy: 0.8763 - val_AUC: 0.8619\n",
      "Epoch 55/1500\n",
      "7200/7200 [==============================] - 86s 12ms/sample - loss: 9.1810e-05 - accuracy: 0.8579 - AUC: 0.8364 - val_loss: 8.9382e-05 - val_accuracy: 0.8763 - val_AUC: 0.8681\n",
      "Epoch 56/1500\n",
      "7200/7200 [==============================] - 86s 12ms/sample - loss: 9.0794e-05 - accuracy: 0.8590 - AUC: 0.8455 - val_loss: 8.8662e-05 - val_accuracy: 0.8813 - val_AUC: 0.8703\n",
      "Epoch 57/1500\n",
      "7200/7200 [==============================] - 85s 12ms/sample - loss: 9.0145e-05 - accuracy: 0.8610 - AUC: 0.8489 - val_loss: 8.7975e-05 - val_accuracy: 0.8825 - val_AUC: 0.8757\n",
      "Epoch 58/1500\n",
      "7200/7200 [==============================] - 85s 12ms/sample - loss: 8.9555e-05 - accuracy: 0.8625 - AUC: 0.8532 - val_loss: 8.7308e-05 - val_accuracy: 0.8850 - val_AUC: 0.8779\n",
      "Epoch 59/1500\n",
      "7200/7200 [==============================] - 85s 12ms/sample - loss: 8.9511e-05 - accuracy: 0.8424 - AUC: 0.8515 - val_loss: 8.6657e-05 - val_accuracy: 0.8863 - val_AUC: 0.8823\n",
      "Epoch 60/1500\n",
      "7200/7200 [==============================] - 85s 12ms/sample - loss: 8.8123e-05 - accuracy: 0.8694 - AUC: 0.8624 - val_loss: 8.6024e-05 - val_accuracy: 0.8888 - val_AUC: 0.8837\n",
      "Epoch 61/1500\n",
      "7200/7200 [==============================] - 85s 12ms/sample - loss: 8.7243e-05 - accuracy: 0.8736 - AUC: 0.8686 - val_loss: 8.5377e-05 - val_accuracy: 0.8900 - val_AUC: 0.8844\n",
      "Epoch 62/1500\n",
      "7200/7200 [==============================] - 84s 12ms/sample - loss: 8.6608e-05 - accuracy: 0.8757 - AUC: 0.8724 - val_loss: 8.4750e-05 - val_accuracy: 0.8925 - val_AUC: 0.8873\n",
      "Epoch 63/1500\n",
      "7200/7200 [==============================] - 85s 12ms/sample - loss: 8.6493e-05 - accuracy: 0.8756 - AUC: 0.8721 - val_loss: 8.4143e-05 - val_accuracy: 0.8938 - val_AUC: 0.8893\n",
      "Epoch 64/1500\n",
      "7200/7200 [==============================] - 87s 12ms/sample - loss: 8.5803e-05 - accuracy: 0.8771 - AUC: 0.8778 - val_loss: 8.3560e-05 - val_accuracy: 0.8950 - val_AUC: 0.8938\n",
      "Epoch 65/1500\n",
      "7200/7200 [==============================] - 85s 12ms/sample - loss: 8.4949e-05 - accuracy: 0.8818 - AUC: 0.8841 - val_loss: 8.2981e-05 - val_accuracy: 0.8963 - val_AUC: 0.8944\n",
      "Epoch 66/1500\n",
      "7200/7200 [==============================] - 85s 12ms/sample - loss: 8.4131e-05 - accuracy: 0.8839 - AUC: 0.8902 - val_loss: 8.2384e-05 - val_accuracy: 0.8963 - val_AUC: 0.8971\n",
      "Epoch 67/1500\n",
      "7200/7200 [==============================] - 85s 12ms/sample - loss: 8.3431e-05 - accuracy: 0.8867 - AUC: 0.8949 - val_loss: 8.1800e-05 - val_accuracy: 0.8988 - val_AUC: 0.8991\n",
      "Epoch 68/1500\n",
      "7200/7200 [==============================] - 85s 12ms/sample - loss: 8.3620e-05 - accuracy: 0.8854 - AUC: 0.8919 - val_loss: 8.1239e-05 - val_accuracy: 0.9000 - val_AUC: 0.9003\n",
      "Epoch 69/1500\n",
      "7200/7200 [==============================] - 85s 12ms/sample - loss: 8.2964e-05 - accuracy: 0.8875 - AUC: 0.8962 - val_loss: 8.0702e-05 - val_accuracy: 0.9025 - val_AUC: 0.9038\n",
      "Epoch 70/1500\n",
      "7200/7200 [==============================] - 85s 12ms/sample - loss: 8.2279e-05 - accuracy: 0.8904 - AUC: 0.9000 - val_loss: 8.0138e-05 - val_accuracy: 0.9038 - val_AUC: 0.9051\n",
      "Epoch 71/1500\n",
      "7200/7200 [==============================] - 85s 12ms/sample - loss: 8.1651e-05 - accuracy: 0.8926 - AUC: 0.9037 - val_loss: 7.9577e-05 - val_accuracy: 0.9075 - val_AUC: 0.9102\n",
      "Epoch 72/1500\n",
      "7200/7200 [==============================] - 85s 12ms/sample - loss: 8.0939e-05 - accuracy: 0.8946 - AUC: 0.9068 - val_loss: 7.9029e-05 - val_accuracy: 0.9137 - val_AUC: 0.9121\n",
      "Epoch 73/1500\n",
      "7200/7200 [==============================] - 86s 12ms/sample - loss: 8.0515e-05 - accuracy: 0.8965 - AUC: 0.9090 - val_loss: 7.8497e-05 - val_accuracy: 0.9137 - val_AUC: 0.9134\n",
      "Epoch 74/1500\n",
      "7200/7200 [==============================] - 85s 12ms/sample - loss: 7.9690e-05 - accuracy: 0.8989 - AUC: 0.9124 - val_loss: 7.7970e-05 - val_accuracy: 0.9150 - val_AUC: 0.9191\n",
      "Epoch 75/1500\n",
      "7200/7200 [==============================] - 85s 12ms/sample - loss: 7.9121e-05 - accuracy: 0.9013 - AUC: 0.9150 - val_loss: 7.7458e-05 - val_accuracy: 0.9150 - val_AUC: 0.9204\n",
      "Epoch 76/1500\n",
      "7200/7200 [==============================] - 85s 12ms/sample - loss: 7.9154e-05 - accuracy: 0.9011 - AUC: 0.9145 - val_loss: 7.6983e-05 - val_accuracy: 0.9187 - val_AUC: 0.9215\n",
      "Epoch 77/1500\n",
      "7200/7200 [==============================] - 87s 12ms/sample - loss: 7.8257e-05 - accuracy: 0.9025 - AUC: 0.9183 - val_loss: 7.6513e-05 - val_accuracy: 0.9187 - val_AUC: 0.9219\n",
      "Epoch 78/1500\n",
      "7200/7200 [==============================] - 87s 12ms/sample - loss: 7.8006e-05 - accuracy: 0.9025 - AUC: 0.9209 - val_loss: 7.6042e-05 - val_accuracy: 0.9212 - val_AUC: 0.9231\n",
      "Epoch 79/1500\n",
      "7200/7200 [==============================] - 86s 12ms/sample - loss: 7.7489e-05 - accuracy: 0.9040 - AUC: 0.9236 - val_loss: 7.5585e-05 - val_accuracy: 0.9212 - val_AUC: 0.9234\n",
      "Epoch 80/1500\n",
      "7200/7200 [==============================] - 87s 12ms/sample - loss: 7.6506e-05 - accuracy: 0.9078 - AUC: 0.9272 - val_loss: 7.5127e-05 - val_accuracy: 0.9212 - val_AUC: 0.9275\n",
      "Epoch 81/1500\n",
      "7200/7200 [==============================] - 86s 12ms/sample - loss: 7.6738e-05 - accuracy: 0.9072 - AUC: 0.9263 - val_loss: 7.4693e-05 - val_accuracy: 0.9212 - val_AUC: 0.9286\n",
      "Epoch 82/1500\n",
      "7200/7200 [==============================] - 86s 12ms/sample - loss: 7.6229e-05 - accuracy: 0.9079 - AUC: 0.9285 - val_loss: 7.4259e-05 - val_accuracy: 0.9225 - val_AUC: 0.9305\n",
      "Epoch 83/1500\n",
      "7200/7200 [==============================] - 86s 12ms/sample - loss: 7.5779e-05 - accuracy: 0.9092 - AUC: 0.9305 - val_loss: 7.3823e-05 - val_accuracy: 0.9225 - val_AUC: 0.9324\n",
      "Epoch 84/1500\n",
      "7200/7200 [==============================] - 86s 12ms/sample - loss: 7.5327e-05 - accuracy: 0.9114 - AUC: 0.9310 - val_loss: 7.3401e-05 - val_accuracy: 0.9225 - val_AUC: 0.9326\n",
      "Epoch 85/1500\n",
      "7200/7200 [==============================] - 85s 12ms/sample - loss: 7.4621e-05 - accuracy: 0.9142 - AUC: 0.9353 - val_loss: 7.2981e-05 - val_accuracy: 0.9225 - val_AUC: 0.9330\n"
     ]
    },
    {
     "name": "stdout",
     "output_type": "stream",
     "text": [
      "Epoch 86/1500\n",
      "7200/7200 [==============================] - 86s 12ms/sample - loss: 7.4004e-05 - accuracy: 0.9140 - AUC: 0.9377 - val_loss: 7.2567e-05 - val_accuracy: 0.9237 - val_AUC: 0.9355\n",
      "Epoch 87/1500\n",
      "7200/7200 [==============================] - 86s 12ms/sample - loss: 7.4301e-05 - accuracy: 0.9133 - AUC: 0.9365 - val_loss: 7.2168e-05 - val_accuracy: 0.9250 - val_AUC: 0.9373\n",
      "Epoch 88/1500\n",
      "7200/7200 [==============================] - 86s 12ms/sample - loss: 7.3389e-05 - accuracy: 0.9172 - AUC: 0.9406 - val_loss: 7.1771e-05 - val_accuracy: 0.9250 - val_AUC: 0.9376\n",
      "Epoch 89/1500\n",
      "7200/7200 [==============================] - 86s 12ms/sample - loss: 7.2696e-05 - accuracy: 0.9186 - AUC: 0.9433 - val_loss: 7.1378e-05 - val_accuracy: 0.9262 - val_AUC: 0.9379\n",
      "Epoch 90/1500\n",
      "7200/7200 [==============================] - 86s 12ms/sample - loss: 7.2895e-05 - accuracy: 0.9176 - AUC: 0.9418 - val_loss: 7.0998e-05 - val_accuracy: 0.9287 - val_AUC: 0.9420\n",
      "Epoch 91/1500\n",
      "7200/7200 [==============================] - 85s 12ms/sample - loss: 7.2556e-05 - accuracy: 0.9181 - AUC: 0.9439 - val_loss: 7.0613e-05 - val_accuracy: 0.9300 - val_AUC: 0.9423\n",
      "Epoch 92/1500\n",
      "7200/7200 [==============================] - 85s 12ms/sample - loss: 7.1462e-05 - accuracy: 0.9218 - AUC: 0.9467 - val_loss: 7.0211e-05 - val_accuracy: 0.9300 - val_AUC: 0.9433\n",
      "Epoch 93/1500\n",
      "7200/7200 [==============================] - 86s 12ms/sample - loss: 7.1239e-05 - accuracy: 0.9221 - AUC: 0.9477 - val_loss: 6.9813e-05 - val_accuracy: 0.9300 - val_AUC: 0.9467\n",
      "Epoch 94/1500\n",
      "7200/7200 [==============================] - 86s 12ms/sample - loss: 7.1043e-05 - accuracy: 0.9239 - AUC: 0.9477 - val_loss: 6.9421e-05 - val_accuracy: 0.9300 - val_AUC: 0.9500\n",
      "Epoch 95/1500\n",
      "7200/7200 [==============================] - 86s 12ms/sample - loss: 7.0418e-05 - accuracy: 0.9258 - AUC: 0.9496 - val_loss: 6.9027e-05 - val_accuracy: 0.9312 - val_AUC: 0.9519\n",
      "Epoch 96/1500\n",
      "7200/7200 [==============================] - 86s 12ms/sample - loss: 7.0227e-05 - accuracy: 0.9256 - AUC: 0.9503 - val_loss: 6.8652e-05 - val_accuracy: 0.9312 - val_AUC: 0.9560\n",
      "Epoch 97/1500\n",
      "7200/7200 [==============================] - 85s 12ms/sample - loss: 6.9574e-05 - accuracy: 0.9261 - AUC: 0.9524 - val_loss: 6.8277e-05 - val_accuracy: 0.9325 - val_AUC: 0.9570\n",
      "Epoch 98/1500\n",
      "7200/7200 [==============================] - 86s 12ms/sample - loss: 6.9543e-05 - accuracy: 0.9265 - AUC: 0.9528 - val_loss: 6.7917e-05 - val_accuracy: 0.9337 - val_AUC: 0.9573\n",
      "Epoch 99/1500\n",
      "7200/7200 [==============================] - 86s 12ms/sample - loss: 6.8638e-05 - accuracy: 0.9303 - AUC: 0.9559 - val_loss: 6.7546e-05 - val_accuracy: 0.9350 - val_AUC: 0.9584\n",
      "Epoch 100/1500\n",
      "7200/7200 [==============================] - 85s 12ms/sample - loss: 6.8765e-05 - accuracy: 0.9299 - AUC: 0.9558 - val_loss: 6.7188e-05 - val_accuracy: 0.9362 - val_AUC: 0.9617\n",
      "Epoch 101/1500\n",
      "7200/7200 [==============================] - 86s 12ms/sample - loss: 6.8058e-05 - accuracy: 0.9329 - AUC: 0.9579 - val_loss: 6.6797e-05 - val_accuracy: 0.9362 - val_AUC: 0.9635\n",
      "Epoch 102/1500\n",
      "7200/7200 [==============================] - 84s 12ms/sample - loss: 6.7744e-05 - accuracy: 0.9340 - AUC: 0.9584 - val_loss: 6.6342e-05 - val_accuracy: 0.9375 - val_AUC: 0.9639\n",
      "Epoch 103/1500\n",
      "7200/7200 [==============================] - 85s 12ms/sample - loss: 6.7270e-05 - accuracy: 0.9344 - AUC: 0.9606 - val_loss: 6.5862e-05 - val_accuracy: 0.9375 - val_AUC: 0.9658\n",
      "Epoch 104/1500\n",
      "7200/7200 [==============================] - 85s 12ms/sample - loss: 6.6973e-05 - accuracy: 0.9358 - AUC: 0.9612 - val_loss: 6.5349e-05 - val_accuracy: 0.9375 - val_AUC: 0.9663\n",
      "Epoch 105/1500\n",
      "7200/7200 [==============================] - 85s 12ms/sample - loss: 6.6422e-05 - accuracy: 0.9376 - AUC: 0.9626 - val_loss: 6.4824e-05 - val_accuracy: 0.9375 - val_AUC: 0.9683\n",
      "Epoch 106/1500\n",
      "7200/7200 [==============================] - 85s 12ms/sample - loss: 6.5880e-05 - accuracy: 0.9382 - AUC: 0.9646 - val_loss: 6.4303e-05 - val_accuracy: 0.9375 - val_AUC: 0.9687\n",
      "Epoch 107/1500\n",
      "7200/7200 [==============================] - 86s 12ms/sample - loss: 6.5073e-05 - accuracy: 0.9403 - AUC: 0.9657 - val_loss: 6.3777e-05 - val_accuracy: 0.9375 - val_AUC: 0.9715\n",
      "Epoch 108/1500\n",
      "7200/7200 [==============================] - 86s 12ms/sample - loss: 6.5100e-05 - accuracy: 0.9400 - AUC: 0.9662 - val_loss: 6.3271e-05 - val_accuracy: 0.9375 - val_AUC: 0.9719\n",
      "Epoch 109/1500\n",
      "7200/7200 [==============================] - 91s 13ms/sample - loss: 6.4484e-05 - accuracy: 0.9421 - AUC: 0.9675 - val_loss: 6.2783e-05 - val_accuracy: 0.9375 - val_AUC: 0.9730\n",
      "Epoch 110/1500\n",
      "7200/7200 [==============================] - 86s 12ms/sample - loss: 6.3723e-05 - accuracy: 0.9432 - AUC: 0.9691 - val_loss: 6.2303e-05 - val_accuracy: 0.9388 - val_AUC: 0.9742\n",
      "Epoch 111/1500\n",
      "7200/7200 [==============================] - 85s 12ms/sample - loss: 6.3030e-05 - accuracy: 0.9444 - AUC: 0.9710 - val_loss: 6.1811e-05 - val_accuracy: 0.9400 - val_AUC: 0.9760\n",
      "Epoch 112/1500\n",
      "7200/7200 [==============================] - 85s 12ms/sample - loss: 6.2568e-05 - accuracy: 0.9450 - AUC: 0.9721 - val_loss: 6.1298e-05 - val_accuracy: 0.9425 - val_AUC: 0.9779\n",
      "Epoch 113/1500\n",
      "7200/7200 [==============================] - 86s 12ms/sample - loss: 6.2318e-05 - accuracy: 0.9458 - AUC: 0.9720 - val_loss: 6.0797e-05 - val_accuracy: 0.9450 - val_AUC: 0.9791\n",
      "Epoch 114/1500\n",
      "7200/7200 [==============================] - 85s 12ms/sample - loss: 6.1805e-05 - accuracy: 0.9474 - AUC: 0.9732 - val_loss: 6.0290e-05 - val_accuracy: 0.9475 - val_AUC: 0.9795\n",
      "Epoch 115/1500\n",
      "7200/7200 [==============================] - 85s 12ms/sample - loss: 6.1274e-05 - accuracy: 0.9478 - AUC: 0.9742 - val_loss: 5.9796e-05 - val_accuracy: 0.9488 - val_AUC: 0.9813\n",
      "Epoch 116/1500\n",
      "7200/7200 [==============================] - 85s 12ms/sample - loss: 6.0566e-05 - accuracy: 0.9499 - AUC: 0.9753 - val_loss: 5.9293e-05 - val_accuracy: 0.9500 - val_AUC: 0.9832\n",
      "Epoch 117/1500\n",
      "7200/7200 [==============================] - 86s 12ms/sample - loss: 6.0652e-05 - accuracy: 0.9501 - AUC: 0.9752 - val_loss: 5.8800e-05 - val_accuracy: 0.9525 - val_AUC: 0.9851\n",
      "Epoch 118/1500\n",
      "7200/7200 [==============================] - 85s 12ms/sample - loss: 5.9517e-05 - accuracy: 0.9528 - AUC: 0.9771 - val_loss: 5.8321e-05 - val_accuracy: 0.9525 - val_AUC: 0.9862\n",
      "Epoch 119/1500\n",
      "7200/7200 [==============================] - 85s 12ms/sample - loss: 5.9077e-05 - accuracy: 0.9547 - AUC: 0.9777 - val_loss: 5.7867e-05 - val_accuracy: 0.9538 - val_AUC: 0.9865\n",
      "Epoch 120/1500\n",
      "7200/7200 [==============================] - 85s 12ms/sample - loss: 5.9765e-05 - accuracy: 0.9539 - AUC: 0.9769 - val_loss: 5.7441e-05 - val_accuracy: 0.9538 - val_AUC: 0.9867\n",
      "Epoch 121/1500\n",
      "7200/7200 [==============================] - 85s 12ms/sample - loss: 5.8391e-05 - accuracy: 0.9550 - AUC: 0.9785 - val_loss: 5.6993e-05 - val_accuracy: 0.9538 - val_AUC: 0.9871\n",
      "Epoch 122/1500\n",
      "7200/7200 [==============================] - 86s 12ms/sample - loss: 5.7953e-05 - accuracy: 0.9564 - AUC: 0.9793 - val_loss: 5.6544e-05 - val_accuracy: 0.9550 - val_AUC: 0.9874\n",
      "Epoch 123/1500\n",
      "7200/7200 [==============================] - 86s 12ms/sample - loss: 5.7548e-05 - accuracy: 0.9590 - AUC: 0.9803 - val_loss: 5.6097e-05 - val_accuracy: 0.9563 - val_AUC: 0.9876\n",
      "Epoch 124/1500\n",
      "7200/7200 [==============================] - 85s 12ms/sample - loss: 5.6877e-05 - accuracy: 0.9589 - AUC: 0.9815 - val_loss: 5.5667e-05 - val_accuracy: 0.9575 - val_AUC: 0.9886\n",
      "Epoch 125/1500\n",
      "7200/7200 [==============================] - 85s 12ms/sample - loss: 5.6555e-05 - accuracy: 0.9596 - AUC: 0.9823 - val_loss: 5.5257e-05 - val_accuracy: 0.9575 - val_AUC: 0.9895\n",
      "Epoch 126/1500\n",
      "7200/7200 [==============================] - 85s 12ms/sample - loss: 5.6146e-05 - accuracy: 0.9603 - AUC: 0.9827 - val_loss: 5.4837e-05 - val_accuracy: 0.9575 - val_AUC: 0.9897\n",
      "Epoch 127/1500\n",
      "7200/7200 [==============================] - 86s 12ms/sample - loss: 5.5574e-05 - accuracy: 0.9614 - AUC: 0.9831 - val_loss: 5.4437e-05 - val_accuracy: 0.9575 - val_AUC: 0.9900\n",
      "Epoch 128/1500\n",
      "7200/7200 [==============================] - 85s 12ms/sample - loss: 5.5476e-05 - accuracy: 0.9618 - AUC: 0.9831 - val_loss: 5.4039e-05 - val_accuracy: 0.9588 - val_AUC: 0.9903\n"
     ]
    },
    {
     "name": "stdout",
     "output_type": "stream",
     "text": [
      "Epoch 129/1500\n",
      "7200/7200 [==============================] - 84s 12ms/sample - loss: 5.4513e-05 - accuracy: 0.9632 - AUC: 0.9844 - val_loss: 5.3632e-05 - val_accuracy: 0.9600 - val_AUC: 0.9912\n",
      "Epoch 130/1500\n",
      "7200/7200 [==============================] - 85s 12ms/sample - loss: 5.4746e-05 - accuracy: 0.9629 - AUC: 0.9846 - val_loss: 5.3264e-05 - val_accuracy: 0.9613 - val_AUC: 0.9913\n",
      "Epoch 131/1500\n",
      "7200/7200 [==============================] - 85s 12ms/sample - loss: 5.4306e-05 - accuracy: 0.9649 - AUC: 0.9844 - val_loss: 5.2869e-05 - val_accuracy: 0.9650 - val_AUC: 0.9923\n",
      "Epoch 132/1500\n",
      "7200/7200 [==============================] - 85s 12ms/sample - loss: 5.3730e-05 - accuracy: 0.9663 - AUC: 0.9864 - val_loss: 5.2495e-05 - val_accuracy: 0.9675 - val_AUC: 0.9924\n",
      "Epoch 133/1500\n",
      "7200/7200 [==============================] - 85s 12ms/sample - loss: 5.3276e-05 - accuracy: 0.9674 - AUC: 0.9866 - val_loss: 5.2119e-05 - val_accuracy: 0.9675 - val_AUC: 0.9926\n",
      "Epoch 134/1500\n",
      "7200/7200 [==============================] - 85s 12ms/sample - loss: 5.3213e-05 - accuracy: 0.9672 - AUC: 0.9865 - val_loss: 5.1742e-05 - val_accuracy: 0.9675 - val_AUC: 0.9928\n",
      "Epoch 135/1500\n",
      "7200/7200 [==============================] - 85s 12ms/sample - loss: 5.2428e-05 - accuracy: 0.9679 - AUC: 0.9870 - val_loss: 5.1370e-05 - val_accuracy: 0.9675 - val_AUC: 0.9930\n",
      "Epoch 136/1500\n",
      "7200/7200 [==============================] - 86s 12ms/sample - loss: 5.1988e-05 - accuracy: 0.9685 - AUC: 0.9883 - val_loss: 5.1008e-05 - val_accuracy: 0.9675 - val_AUC: 0.9931\n",
      "Epoch 137/1500\n",
      "7200/7200 [==============================] - 85s 12ms/sample - loss: 5.1985e-05 - accuracy: 0.9697 - AUC: 0.9885 - val_loss: 5.0638e-05 - val_accuracy: 0.9675 - val_AUC: 0.9933\n",
      "Epoch 138/1500\n",
      "7200/7200 [==============================] - 86s 12ms/sample - loss: 5.1594e-05 - accuracy: 0.9699 - AUC: 0.9886 - val_loss: 5.0286e-05 - val_accuracy: 0.9688 - val_AUC: 0.9934\n",
      "Epoch 139/1500\n",
      "7200/7200 [==============================] - 86s 12ms/sample - loss: 5.0564e-05 - accuracy: 0.9714 - AUC: 0.9899 - val_loss: 4.9928e-05 - val_accuracy: 0.9688 - val_AUC: 0.9935\n",
      "Epoch 140/1500\n",
      "7200/7200 [==============================] - 86s 12ms/sample - loss: 5.0856e-05 - accuracy: 0.9708 - AUC: 0.9894 - val_loss: 4.9588e-05 - val_accuracy: 0.9688 - val_AUC: 0.9936\n",
      "Epoch 141/1500\n",
      "7200/7200 [==============================] - 86s 12ms/sample - loss: 4.9980e-05 - accuracy: 0.9719 - AUC: 0.9907 - val_loss: 4.9251e-05 - val_accuracy: 0.9688 - val_AUC: 0.9937\n",
      "Epoch 142/1500\n",
      "7200/7200 [==============================] - 85s 12ms/sample - loss: 4.9883e-05 - accuracy: 0.9732 - AUC: 0.9904 - val_loss: 4.8901e-05 - val_accuracy: 0.9712 - val_AUC: 0.9953\n",
      "Epoch 143/1500\n",
      "7200/7200 [==============================] - 85s 12ms/sample - loss: 4.9379e-05 - accuracy: 0.9733 - AUC: 0.9913 - val_loss: 4.8548e-05 - val_accuracy: 0.9725 - val_AUC: 0.9955\n",
      "Epoch 144/1500\n",
      "7200/7200 [==============================] - 85s 12ms/sample - loss: 4.9597e-05 - accuracy: 0.9729 - AUC: 0.9909 - val_loss: 4.8192e-05 - val_accuracy: 0.9725 - val_AUC: 0.9956\n",
      "Epoch 145/1500\n",
      "7200/7200 [==============================] - 85s 12ms/sample - loss: 4.8526e-05 - accuracy: 0.9743 - AUC: 0.9923 - val_loss: 4.7855e-05 - val_accuracy: 0.9725 - val_AUC: 0.9958\n",
      "Epoch 146/1500\n",
      "7200/7200 [==============================] - 86s 12ms/sample - loss: 4.8520e-05 - accuracy: 0.9746 - AUC: 0.9922 - val_loss: 4.7523e-05 - val_accuracy: 0.9725 - val_AUC: 0.9959\n",
      "Epoch 147/1500\n",
      "7200/7200 [==============================] - 85s 12ms/sample - loss: 4.8271e-05 - accuracy: 0.9757 - AUC: 0.9925 - val_loss: 4.7189e-05 - val_accuracy: 0.9725 - val_AUC: 0.9960\n",
      "Epoch 148/1500\n",
      "7200/7200 [==============================] - 85s 12ms/sample - loss: 4.7959e-05 - accuracy: 0.9753 - AUC: 0.9927 - val_loss: 4.6868e-05 - val_accuracy: 0.9737 - val_AUC: 0.9961\n",
      "Epoch 149/1500\n",
      "7200/7200 [==============================] - 85s 12ms/sample - loss: 4.8022e-05 - accuracy: 0.9760 - AUC: 0.9930 - val_loss: 4.6542e-05 - val_accuracy: 0.9750 - val_AUC: 0.9962\n",
      "Epoch 150/1500\n",
      "7200/7200 [==============================] - 85s 12ms/sample - loss: 4.7171e-05 - accuracy: 0.9774 - AUC: 0.9934 - val_loss: 4.6221e-05 - val_accuracy: 0.9750 - val_AUC: 0.9978\n",
      "Epoch 151/1500\n",
      "7200/7200 [==============================] - 85s 12ms/sample - loss: 4.6922e-05 - accuracy: 0.9778 - AUC: 0.9935 - val_loss: 4.5928e-05 - val_accuracy: 0.9750 - val_AUC: 0.9979\n",
      "Epoch 152/1500\n",
      "7200/7200 [==============================] - 86s 12ms/sample - loss: 4.7229e-05 - accuracy: 0.9768 - AUC: 0.9935 - val_loss: 4.5639e-05 - val_accuracy: 0.9762 - val_AUC: 0.9980\n",
      "Epoch 153/1500\n",
      "7200/7200 [==============================] - 85s 12ms/sample - loss: 4.6086e-05 - accuracy: 0.9785 - AUC: 0.9944 - val_loss: 4.5358e-05 - val_accuracy: 0.9775 - val_AUC: 0.9981\n",
      "Epoch 154/1500\n",
      "7200/7200 [==============================] - 86s 12ms/sample - loss: 4.6325e-05 - accuracy: 0.9776 - AUC: 0.9939 - val_loss: 4.5082e-05 - val_accuracy: 0.9775 - val_AUC: 0.9982\n",
      "Epoch 155/1500\n",
      "7200/7200 [==============================] - 86s 12ms/sample - loss: 4.6031e-05 - accuracy: 0.9793 - AUC: 0.9943 - val_loss: 4.4808e-05 - val_accuracy: 0.9775 - val_AUC: 0.9983\n",
      "Epoch 156/1500\n",
      "7200/7200 [==============================] - 86s 12ms/sample - loss: 4.5266e-05 - accuracy: 0.9793 - AUC: 0.9949 - val_loss: 4.4540e-05 - val_accuracy: 0.9775 - val_AUC: 0.9984\n",
      "Epoch 157/1500\n",
      "7200/7200 [==============================] - 86s 12ms/sample - loss: 4.5146e-05 - accuracy: 0.9793 - AUC: 0.9949 - val_loss: 4.4266e-05 - val_accuracy: 0.9787 - val_AUC: 0.9985\n",
      "Epoch 158/1500\n",
      "7200/7200 [==============================] - 85s 12ms/sample - loss: 4.4809e-05 - accuracy: 0.9806 - AUC: 0.9954 - val_loss: 4.4016e-05 - val_accuracy: 0.9787 - val_AUC: 0.9985\n",
      "Epoch 159/1500\n",
      "7200/7200 [==============================] - 85s 12ms/sample - loss: 4.4950e-05 - accuracy: 0.9803 - AUC: 0.9953 - val_loss: 4.3765e-05 - val_accuracy: 0.9787 - val_AUC: 0.9986\n",
      "Epoch 160/1500\n",
      "7200/7200 [==============================] - 85s 12ms/sample - loss: 4.4476e-05 - accuracy: 0.9806 - AUC: 0.9953 - val_loss: 4.3508e-05 - val_accuracy: 0.9787 - val_AUC: 0.9986\n",
      "Epoch 161/1500\n",
      "7200/7200 [==============================] - 86s 12ms/sample - loss: 4.4064e-05 - accuracy: 0.9812 - AUC: 0.9957 - val_loss: 4.3262e-05 - val_accuracy: 0.9787 - val_AUC: 0.9987\n",
      "Epoch 162/1500\n",
      "7200/7200 [==============================] - 85s 12ms/sample - loss: 4.3698e-05 - accuracy: 0.9812 - AUC: 0.9957 - val_loss: 4.3029e-05 - val_accuracy: 0.9812 - val_AUC: 0.9988\n",
      "Epoch 163/1500\n",
      "7200/7200 [==============================] - 85s 12ms/sample - loss: 4.3630e-05 - accuracy: 0.9818 - AUC: 0.9958 - val_loss: 4.2783e-05 - val_accuracy: 0.9837 - val_AUC: 0.9988\n",
      "Epoch 164/1500\n",
      "7200/7200 [==============================] - 85s 12ms/sample - loss: 4.3765e-05 - accuracy: 0.9817 - AUC: 0.9954 - val_loss: 4.2553e-05 - val_accuracy: 0.9837 - val_AUC: 0.9989\n",
      "Epoch 165/1500\n",
      "7200/7200 [==============================] - 86s 12ms/sample - loss: 4.3316e-05 - accuracy: 0.9815 - AUC: 0.9960 - val_loss: 4.2326e-05 - val_accuracy: 0.9850 - val_AUC: 0.9989\n",
      "Epoch 166/1500\n",
      "7200/7200 [==============================] - 86s 12ms/sample - loss: 4.3018e-05 - accuracy: 0.9822 - AUC: 0.9963 - val_loss: 4.2097e-05 - val_accuracy: 0.9850 - val_AUC: 0.9990\n",
      "Epoch 167/1500\n",
      "7200/7200 [==============================] - 86s 12ms/sample - loss: 4.2946e-05 - accuracy: 0.9821 - AUC: 0.9960 - val_loss: 4.1870e-05 - val_accuracy: 0.9850 - val_AUC: 0.9990\n",
      "Epoch 168/1500\n",
      "7200/7200 [==============================] - 86s 12ms/sample - loss: 4.2427e-05 - accuracy: 0.9825 - AUC: 0.9965 - val_loss: 4.1634e-05 - val_accuracy: 0.9862 - val_AUC: 0.9991\n",
      "Epoch 169/1500\n",
      "7200/7200 [==============================] - 86s 12ms/sample - loss: 4.2550e-05 - accuracy: 0.9828 - AUC: 0.9963 - val_loss: 4.1393e-05 - val_accuracy: 0.9875 - val_AUC: 0.9991\n",
      "Epoch 170/1500\n",
      "7200/7200 [==============================] - 86s 12ms/sample - loss: 4.2229e-05 - accuracy: 0.9832 - AUC: 0.9964 - val_loss: 4.1162e-05 - val_accuracy: 0.9875 - val_AUC: 0.9992\n",
      "Epoch 171/1500\n",
      "7200/7200 [==============================] - 86s 12ms/sample - loss: 4.2093e-05 - accuracy: 0.9832 - AUC: 0.9966 - val_loss: 4.0937e-05 - val_accuracy: 0.9912 - val_AUC: 0.9992\n"
     ]
    },
    {
     "name": "stdout",
     "output_type": "stream",
     "text": [
      "Epoch 172/1500\n",
      "7200/7200 [==============================] - 86s 12ms/sample - loss: 4.1222e-05 - accuracy: 0.9837 - AUC: 0.9971 - val_loss: 4.0716e-05 - val_accuracy: 0.9925 - val_AUC: 0.9993\n",
      "Epoch 173/1500\n",
      "7200/7200 [==============================] - 85s 12ms/sample - loss: 4.1400e-05 - accuracy: 0.9843 - AUC: 0.9970 - val_loss: 4.0502e-05 - val_accuracy: 0.9925 - val_AUC: 0.9993\n",
      "Epoch 174/1500\n",
      "7200/7200 [==============================] - 85s 12ms/sample - loss: 4.1821e-05 - accuracy: 0.9829 - AUC: 0.9968 - val_loss: 4.0292e-05 - val_accuracy: 0.9925 - val_AUC: 0.9993\n",
      "Epoch 175/1500\n",
      "7200/7200 [==============================] - 86s 12ms/sample - loss: 4.1088e-05 - accuracy: 0.9846 - AUC: 0.9971 - val_loss: 4.0079e-05 - val_accuracy: 0.9925 - val_AUC: 0.9994\n",
      "Epoch 176/1500\n",
      "7200/7200 [==============================] - 86s 12ms/sample - loss: 4.1049e-05 - accuracy: 0.9846 - AUC: 0.9971 - val_loss: 3.9865e-05 - val_accuracy: 0.9925 - val_AUC: 0.9994\n",
      "Epoch 177/1500\n",
      "7200/7200 [==============================] - 87s 12ms/sample - loss: 4.0609e-05 - accuracy: 0.9850 - AUC: 0.9972 - val_loss: 3.9656e-05 - val_accuracy: 0.9925 - val_AUC: 0.9994\n",
      "Epoch 178/1500\n",
      "7200/7200 [==============================] - 86s 12ms/sample - loss: 4.0324e-05 - accuracy: 0.9849 - AUC: 0.9973 - val_loss: 3.9454e-05 - val_accuracy: 0.9925 - val_AUC: 0.9994\n",
      "Epoch 179/1500\n",
      "7200/7200 [==============================] - 85s 12ms/sample - loss: 3.9861e-05 - accuracy: 0.9850 - AUC: 0.9975 - val_loss: 3.9263e-05 - val_accuracy: 0.9925 - val_AUC: 0.9995\n",
      "Epoch 180/1500\n",
      "7200/7200 [==============================] - 86s 12ms/sample - loss: 3.9890e-05 - accuracy: 0.9856 - AUC: 0.9975 - val_loss: 3.9075e-05 - val_accuracy: 0.9925 - val_AUC: 0.9995\n",
      "Epoch 181/1500\n",
      "7200/7200 [==============================] - 85s 12ms/sample - loss: 3.9801e-05 - accuracy: 0.9858 - AUC: 0.9975 - val_loss: 3.8888e-05 - val_accuracy: 0.9925 - val_AUC: 0.9995\n",
      "Epoch 182/1500\n",
      "7200/7200 [==============================] - 86s 12ms/sample - loss: 3.9415e-05 - accuracy: 0.9854 - AUC: 0.9976 - val_loss: 3.8703e-05 - val_accuracy: 0.9925 - val_AUC: 0.9995\n",
      "Epoch 183/1500\n",
      "7200/7200 [==============================] - 86s 12ms/sample - loss: 3.9591e-05 - accuracy: 0.9850 - AUC: 0.9976 - val_loss: 3.8513e-05 - val_accuracy: 0.9925 - val_AUC: 0.9996\n",
      "Epoch 184/1500\n",
      "7200/7200 [==============================] - 86s 12ms/sample - loss: 3.9289e-05 - accuracy: 0.9860 - AUC: 0.9977 - val_loss: 3.8333e-05 - val_accuracy: 0.9925 - val_AUC: 0.9996\n",
      "Epoch 185/1500\n",
      "7200/7200 [==============================] - 86s 12ms/sample - loss: 3.8718e-05 - accuracy: 0.9858 - AUC: 0.9978 - val_loss: 3.8156e-05 - val_accuracy: 0.9925 - val_AUC: 0.9996\n",
      "Epoch 186/1500\n",
      "7200/7200 [==============================] - 86s 12ms/sample - loss: 3.8865e-05 - accuracy: 0.9861 - AUC: 0.9977 - val_loss: 3.7969e-05 - val_accuracy: 0.9925 - val_AUC: 0.9996\n",
      "Epoch 187/1500\n",
      "7200/7200 [==============================] - 86s 12ms/sample - loss: 3.8694e-05 - accuracy: 0.9867 - AUC: 0.9979 - val_loss: 3.7792e-05 - val_accuracy: 0.9925 - val_AUC: 0.9996\n",
      "Epoch 188/1500\n",
      "7200/7200 [==============================] - 86s 12ms/sample - loss: 3.8579e-05 - accuracy: 0.9862 - AUC: 0.9980 - val_loss: 3.7626e-05 - val_accuracy: 0.9925 - val_AUC: 0.9997\n",
      "Epoch 189/1500\n",
      "7200/7200 [==============================] - 85s 12ms/sample - loss: 3.8266e-05 - accuracy: 0.9872 - AUC: 0.9979 - val_loss: 3.7460e-05 - val_accuracy: 0.9925 - val_AUC: 0.9997\n",
      "Epoch 190/1500\n",
      "7200/7200 [==============================] - 85s 12ms/sample - loss: 3.8054e-05 - accuracy: 0.9868 - AUC: 0.9979 - val_loss: 3.7294e-05 - val_accuracy: 0.9925 - val_AUC: 0.9997\n",
      "Epoch 191/1500\n",
      "7200/7200 [==============================] - 86s 12ms/sample - loss: 3.8362e-05 - accuracy: 0.9865 - AUC: 0.9980 - val_loss: 3.7122e-05 - val_accuracy: 0.9937 - val_AUC: 0.9997\n",
      "Epoch 192/1500\n",
      "7200/7200 [==============================] - 85s 12ms/sample - loss: 3.7900e-05 - accuracy: 0.9876 - AUC: 0.9980 - val_loss: 3.6962e-05 - val_accuracy: 0.9937 - val_AUC: 0.9997\n",
      "Epoch 193/1500\n",
      "7200/7200 [==============================] - 86s 12ms/sample - loss: 3.7457e-05 - accuracy: 0.9874 - AUC: 0.9981 - val_loss: 3.6813e-05 - val_accuracy: 0.9937 - val_AUC: 0.9997\n",
      "Epoch 194/1500\n",
      "7200/7200 [==============================] - 86s 12ms/sample - loss: 3.7375e-05 - accuracy: 0.9882 - AUC: 0.9981 - val_loss: 3.6658e-05 - val_accuracy: 0.9937 - val_AUC: 0.9997\n",
      "Epoch 195/1500\n",
      "7200/7200 [==============================] - 85s 12ms/sample - loss: 3.7177e-05 - accuracy: 0.9881 - AUC: 0.9981 - val_loss: 3.6512e-05 - val_accuracy: 0.9937 - val_AUC: 0.9997\n",
      "Epoch 196/1500\n",
      "7200/7200 [==============================] - 86s 12ms/sample - loss: 3.6997e-05 - accuracy: 0.9885 - AUC: 0.9982 - val_loss: 3.6366e-05 - val_accuracy: 0.9937 - val_AUC: 0.9998\n",
      "Epoch 197/1500\n",
      "7200/7200 [==============================] - 85s 12ms/sample - loss: 3.6976e-05 - accuracy: 0.9882 - AUC: 0.9981 - val_loss: 3.6209e-05 - val_accuracy: 0.9937 - val_AUC: 0.9998\n",
      "Epoch 198/1500\n",
      "7200/7200 [==============================] - 85s 12ms/sample - loss: 3.6593e-05 - accuracy: 0.9885 - AUC: 0.9983 - val_loss: 3.6068e-05 - val_accuracy: 0.9937 - val_AUC: 0.9998\n",
      "Epoch 199/1500\n",
      "7200/7200 [==============================] - 85s 12ms/sample - loss: 3.7040e-05 - accuracy: 0.9885 - AUC: 0.9981 - val_loss: 3.5911e-05 - val_accuracy: 0.9937 - val_AUC: 0.9998\n"
     ]
    }
   ],
   "source": [
    "batch_size = 300\n",
    "epochs = 1500\n",
    "num_classes = 2\n",
    "model = keras.models.load_model(\"Raw_Model\")\n",
    "ylabel = keras.utils.to_categorical(classid, num_classes)\n",
    "X_train,X_test,Y_train,Y_test = train_test_split(sorteddataset, ylabel,test_size = 0.2 , random_state=2)\n",
    "sgd = tf.keras.optimizers.SGD(\n",
    "    learning_rate=0.001, momentum=0.9, nesterov=True, name=\"SGD\"\n",
    ")\n",
    "model.compile(loss=\"binary_crossentropy\",optimizer=sgd,metrics=[\"accuracy\",\"AUC\"])\n",
    "callback = tf.keras.callbacks.EarlyStopping(monitor='accuracy', patience=3)\n",
    "\n",
    "class_weight = {0: w0, 1: w1}\n",
    "sortedmanual = model.fit(X_train, Y_train, batch_size=batch_size, epochs=epochs, validation_split=0.1,callbacks=[callback],class_weight=class_weight)\n"
   ]
  },
  {
   "cell_type": "code",
   "execution_count": 52,
   "metadata": {},
   "outputs": [
    {
     "name": "stdout",
     "output_type": "stream",
     "text": [
      "INFO:tensorflow:Assets written to: sortedmanual\\assets\n"
     ]
    }
   ],
   "source": [
    "model.save(\"sortedmanual\")"
   ]
  },
  {
   "cell_type": "code",
   "execution_count": 24,
   "metadata": {},
   "outputs": [
    {
     "ename": "NameError",
     "evalue": "name 'sortedmanual' is not defined",
     "output_type": "error",
     "traceback": [
      "\u001b[1;31m---------------------------------------------------------------------------\u001b[0m",
      "\u001b[1;31mNameError\u001b[0m                                 Traceback (most recent call last)",
      "\u001b[1;32m<ipython-input-24-3ec30b8a275f>\u001b[0m in \u001b[0;36m<module>\u001b[1;34m\u001b[0m\n\u001b[1;32m----> 1\u001b[1;33m \u001b[0msortedmanual\u001b[0m\u001b[1;33m.\u001b[0m\u001b[0mhistory\u001b[0m\u001b[1;33m.\u001b[0m\u001b[0mkeys\u001b[0m\u001b[1;33m(\u001b[0m\u001b[1;33m)\u001b[0m\u001b[1;33m\u001b[0m\u001b[1;33m\u001b[0m\u001b[0m\n\u001b[0m",
      "\u001b[1;31mNameError\u001b[0m: name 'sortedmanual' is not defined"
     ]
    }
   ],
   "source": [
    "sortedmanual.history.keys()"
   ]
  },
  {
   "cell_type": "raw",
   "metadata": {},
   "source": [
    "0x1a808ddd908"
   ]
  },
  {
   "cell_type": "code",
   "execution_count": 53,
   "metadata": {},
   "outputs": [],
   "source": [
    "with open(\"history\",\"rb\") as file:\n",
    "    histories = pickle.load(file)"
   ]
  },
  {
   "cell_type": "code",
   "execution_count": 52,
   "metadata": {},
   "outputs": [
    {
     "data": {
      "text/plain": [
       "Text(0.5, 0, 'Epoch Numbers')"
      ]
     },
     "execution_count": 52,
     "metadata": {},
     "output_type": "execute_result"
    },
    {
     "data": {
      "image/png": "[encoded data removed]",
      "text/plain": [
       "<Figure size 432x288 with 2 Axes>"
      ]
     },
     "metadata": {
      "needs_background": "light"
     },
     "output_type": "display_data"
    }
   ],
   "source": [
    "ax = plt.subplot(121)\n",
    "plt.plot(range(len(histories[1]['accuracy'])),histories[1]['accuracy'])\n",
    "ax.set_title(\"Fuzzy Ordered\")\n",
    "plt.xlabel(\"Epoch Numbers\")\n",
    "plt.ylabel(\"Accuracy\")\n",
    "ax2 = plt.subplot(122)\n",
    "plt.plot(range(len(histories[2]['accuracy'])),histories[2]['accuracy'])\n",
    "ax2.set_title(\"Raw Signals\")\n",
    "plt.xlabel(\"Epoch Numbers\")"
   ]
  },
  {
   "cell_type": "code",
   "execution_count": 54,
   "metadata": {},
   "outputs": [
    {
     "name": "stderr",
     "output_type": "stream",
     "text": [
      "C:\\eng_softs\\Anaconda3\\lib\\site-packages\\ipykernel_launcher.py:15: MatplotlibDeprecationWarning: Adding an axes using the same arguments as a previous axes currently reuses the earlier instance.  In a future version, a new instance will always be created and returned.  Meanwhile, this warning can be suppressed, and the future behavior ensured, by passing a unique label to each axes instance.\n",
      "  from ipykernel import kernelapp as app\n"
     ]
    },
    {
     "data": {
      "text/plain": [
       "<matplotlib.legend.Legend at 0x1b6d04bdd88>"
      ]
     },
     "execution_count": 54,
     "metadata": {},
     "output_type": "execute_result"
    },
    {
     "data": {
      "image/png": "[encoded data removed]",
      "text/plain": [
       "<Figure size 432x288 with 2 Axes>"
      ]
     },
     "metadata": {
      "needs_background": "light"
     },
     "output_type": "display_data"
    }
   ],
   "source": [
    "ax = plt.subplot(121)\n",
    "plt.plot(range(len(histories[1]['accuracy'])),histories[1]['accuracy'])\n",
    "plt.plot(range(len(histories[1]['AUC'])),histories[1]['AUC'])\n",
    "ax.set_title(\"Fuzzy Ordered\")\n",
    "plt.xlabel(\"Epoch Numbers\")\n",
    "plt.ylabel(\"Accuracy\")\n",
    "plt.legend([\"Accuracy\",\"AUC\"])\n",
    "ax2 = plt.subplot(122)\n",
    "plt.plot(range(len(histories[2]['accuracy'])),histories[2]['accuracy'])\n",
    "plt.plot(range(len(histories[2]['AUC'])),histories[2]['AUC'])\n",
    "ax2.set_title(\"Raw Signals\")\n",
    "plt.xlabel(\"Epoch Numbers\")\n",
    "plt.legend([\"Accuracy\",\"AUC\"])\n",
    "# Plotting AUC vs Epoch numbers\n",
    "ax2 = plt.subplot(121)\n",
    "plt.legend([\"Accuracy\",\"AUC\"])"
   ]
  }
 ],
 "metadata": {
  "kernelspec": {
   "display_name": "Python 3",
   "language": "python",
   "name": "python3"
  },
  "language_info": {
   "codemirror_mode": {
    "name": "ipython",
    "version": 3
   },
   "file_extension": ".py",
   "mimetype": "text/x-python",
   "name": "python",
   "nbconvert_exporter": "python",
   "pygments_lexer": "ipython3",
   "version": "3.7.4"
  }
 },
 "nbformat": 4,
 "nbformat_minor": 2
}
