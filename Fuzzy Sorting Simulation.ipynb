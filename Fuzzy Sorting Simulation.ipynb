{
 "cells": [
  {
   "cell_type": "markdown",
   "metadata": {},
   "source": [
    "# Simulation of soft computing course's project\n",
    "#### Author: Mahdi Tanbakuchi             \n"
   ]
  },
  {
   "cell_type": "markdown",
   "metadata": {},
   "source": [
    "<b> First required libraries are imported to the workspace </b>"
   ]
  },
  {
   "cell_type": "code",
   "execution_count": 1,
   "metadata": {},
   "outputs": [],
   "source": [
    "import numpy as np\n",
    "import random \n",
    "import matplotlib.pyplot as plt\n",
    "from itertools import permutations"
   ]
  },
  {
   "cell_type": "markdown",
   "metadata": {},
   "source": [
    "<i> Now lets define the model to generate our data which can be later used for evaluating the idea proposed in the abstract</i><br>\n",
    "Below the Fr represents the acceptable frequnecies for the normal case while the Fw is representetive for the abnormal case. scale is used to generate samples from the frequency ranges randomly"
   ]
  },
  {
   "cell_type": "code",
   "execution_count": 2,
   "metadata": {},
   "outputs": [],
   "source": [
    "Fr = np.linspace(0,7,30)\n",
    "Fr = np.concatenate((Fr,np.linspace(11,15,30)))\n",
    "Fw = np.linspace(8,10,30)\n",
    "Fr = np.random.permutation(Fr)\n",
    "Fw = np.random.permutation(Fw)\n",
    "scale = np.linspace(1,100,100)\n",
    "scale = np.random.permutation(scale)"
   ]
  },
  {
   "cell_type": "markdown",
   "metadata": {},
   "source": [
    "Now lets define experimental settings:\n"
   ]
  },
  {
   "cell_type": "code",
   "execution_count": 3,
   "metadata": {},
   "outputs": [],
   "source": [
    "fs = 32       # in hertz    \n",
    "duration=8   # in seconds\n",
    "ch = 8       # Number of channels"
   ]
  },
  {
   "cell_type": "markdown",
   "metadata": {},
   "source": [
    "Now that all the ingredients of the generator is made ready it is time to define the generator itself: <br>\n",
    "The generator works as follows:\n",
    "1. uses cosine function with the given frequency \n",
    "2. uses the wegith to superpose all the given frequencies \n",
    "<br>\n",
    "\n",
    "The sampling frequency should also be given to the code (fs=256 hz by default)"
   ]
  },
  {
   "cell_type": "code",
   "execution_count": 4,
   "metadata": {},
   "outputs": [],
   "source": [
    "def datagen(freq,coef,fs=32,duration=8):    \n",
    "    t = np.arange(0,duration,1/fs)\n",
    "    y = np.zeros(t.shape)\n",
    "    if(np.linalg.norm(coef)!=1):\n",
    "        coefnorm = coef/np.linalg.norm(coef)\n",
    "    for i,j in zip(freq,coefnorm):\n",
    "        y+=j*np.cos(2*np.pi*i*t)\n",
    "    return y\n",
    "        \n",
    "    "
   ]
  },
  {
   "cell_type": "markdown",
   "metadata": {},
   "source": [
    "Now parameter selection must be done in order to simulate the data for evaluation.<br> \n",
    "Here the following assumtions are made:\n",
    "1. Only 5 components for each signal are used no more and no less\n",
    "2. The two scenarios are assumed to be destinguishable in frequency bands \n",
    "3. The whole dataset size is set to 10000\n",
    "4. the class in the training data set is imbalanced as is the case in real scenarios (80% normal and 20% abnormal case)"
   ]
  },
  {
   "cell_type": "code",
   "execution_count": 5,
   "metadata": {},
   "outputs": [],
   "source": [
    "N = 5 \n",
    "datasetsize = 10000\n",
    "clr = 0.2\n",
    "t = np.arange(0,duration,1/fs)\n",
    "Frd = permutations(Fr,N)\n",
    "Fwd = permutations(Fw,N)\n",
    "scale1=permutations(scale,N)\n",
    "scale = np.random.permutation(scale)\n",
    "scale2=permutations(scale,N)\n",
    "posdatasize = np.int32(datasetsize*(1-clr))\n",
    "negdatasize = np.int32(datasetsize*clr)\n",
    "posdata = []\n",
    "negdata = []\n",
    "for i in range(posdatasize):\n",
    "    posdata.append(datagen(next(Frd),next(scale1)))\n",
    "for i in range(negdatasize):\n",
    "    negdata.append(datagen(next(Fwd),next(scale2)))\n"
   ]
  },
  {
   "cell_type": "markdown",
   "metadata": {},
   "source": [
    "Let's see one of our subject samples (one channel of a subject) "
   ]
  },
  {
   "cell_type": "code",
   "execution_count": 6,
   "metadata": {},
   "outputs": [
    {
     "data": {
      "text/plain": [
       "Text(0.5, 1.0, 'Abnormal case')"
      ]
     },
     "execution_count": 6,
     "metadata": {},
     "output_type": "execute_result"
    },
    {
     "data": {
      "image/png": "[encoded data removed]",
      "text/plain": [
       "<Figure size 432x288 with 2 Axes>"
      ]
     },
     "metadata": {
      "needs_background": "light"
     },
     "output_type": "display_data"
    }
   ],
   "source": [
    "a1 = plt.subplot(121)\n",
    "plt.plot(t,posdata[0])\n",
    "a1.set_title(\"Normal Case\")\n",
    "a2 = plt.subplot(122)\n",
    "plt.plot(t,negdata[0])\n",
    "a2.set_title(\"Abnormal case\")\n"
   ]
  },
  {
   "cell_type": "markdown",
   "metadata": {},
   "source": [
    "In order to simulate wake labelling procedure as that happens in the real scenarios, we use the data produced in the previous stpes and sample from each ch times to obtain a ch-channel EEG signal sample data of duration length. Samples having at least one data from negdata are considered as abnormal case in the new training dataset. <br>\n",
    "Below the normal EEG data is produced."
   ]
  },
  {
   "cell_type": "code",
   "execution_count": 58,
   "metadata": {},
   "outputs": [],
   "source": [
    "weakpositer = permutations(posdata,ch) \n",
    "posdataweak = np.zeros((posdatasize,ch,*t.shape))\n",
    "classid = np.zeros((posdatasize))\n",
    "for i in range(posdatasize):\n",
    "    posdataweak[i]=np.array(next(weakpositer))"
   ]
  },
  {
   "cell_type": "markdown",
   "metadata": {},
   "source": [
    "Below the abnormal EEG data is produced. First we decide how many channels are consistent with abnormal conditions afterwards we decide on which channel the abnormal EEG sample signal is to be appeared."
   ]
  },
  {
   "cell_type": "code",
   "execution_count": 59,
   "metadata": {},
   "outputs": [],
   "source": [
    "nums = random.choices(range(1,4),k=negdatasize)\n",
    "positions = [random.sample(range(0,8),k=i) for i in nums]\n",
    "posdata2 = iter(np.random.permutation(posdata))\n",
    "negdata2 = iter(np.random.permutation(negdata))\n",
    "negdataweak=[]\n",
    "negdata3=np.zeros((negdatasize,ch,*t.shape))\n",
    "classid = np.concatenate((classid,np.ones((negdatasize))))\n",
    "index = 0\n",
    "w0 = 1/posdatasize\n",
    "w1 = 1/negdatasize\n",
    "for pos in positions:\n",
    "    for i in range(8):\n",
    "        if(i in pos):\n",
    "            try:\n",
    "                negdata3[index,i,:] = next(negdata2)\n",
    "            except StopIteration:\n",
    "                negdata2 = iter(np.random.permutation(negdata))\n",
    "                negdata3[index,i,:] = next(negdata2)\n",
    "        else:\n",
    "            try:\n",
    "                negdata3[index,i,:] = next(posdata2)\n",
    "            except StopIteration:\n",
    "                posdata2 = iter(np.random.permutation(posdata))\n",
    "                negdata3[index,i,:] = next(posdata2)\n",
    "    index+=1\n",
    "            \n",
    "negdataweak = negdata3\n",
    "datasetweak = np.concatenate((posdataweak,negdataweak))\n",
    "datasetweak = np.expand_dims(datasetweak,-1)"
   ]
  },
  {
   "cell_type": "markdown",
   "metadata": {},
   "source": [
    "Now we have produced the synthetic data conforming with the weak labels as that mentioned in the article; its time to train the proposed deep FCN with the procedure outlined in the paper. "
   ]
  },
  {
   "cell_type": "code",
   "execution_count": 55,
   "metadata": {},
   "outputs": [],
   "source": [
    "import tensorflow as tf\n",
    "from tensorflow import keras\n",
    "from tensorflow.keras import layers\n",
    "from sklearn.model_selection import train_test_split"
   ]
  },
  {
   "cell_type": "code",
   "execution_count": 51,
   "metadata": {},
   "outputs": [
    {
     "name": "stdout",
     "output_type": "stream",
     "text": [
      "Model: \"sequential_3\"\n",
      "_________________________________________________________________\n",
      "Layer (type)                 Output Shape              Param #   \n",
      "=================================================================\n",
      "conv2d_30 (Conv2D)           (None, 8, 254, 32)        128       \n",
      "_________________________________________________________________\n",
      "conv2d_31 (Conv2D)           (None, 8, 252, 32)        3104      \n",
      "_________________________________________________________________\n",
      "conv2d_32 (Conv2D)           (None, 8, 250, 32)        3104      \n",
      "_________________________________________________________________\n",
      "batch_normalization_9 (Batch (None, 8, 250, 32)        128       \n",
      "_________________________________________________________________\n",
      "average_pooling2d_12 (Averag (None, 8, 83, 32)         0         \n",
      "_________________________________________________________________\n",
      "conv2d_33 (Conv2D)           (None, 8, 81, 32)         3104      \n",
      "_________________________________________________________________\n",
      "conv2d_34 (Conv2D)           (None, 8, 79, 32)         3104      \n",
      "_________________________________________________________________\n",
      "conv2d_35 (Conv2D)           (None, 8, 77, 32)         3104      \n",
      "_________________________________________________________________\n",
      "batch_normalization_10 (Batc (None, 8, 77, 32)         128       \n",
      "_________________________________________________________________\n",
      "average_pooling2d_13 (Averag (None, 8, 25, 32)         0         \n",
      "_________________________________________________________________\n",
      "conv2d_36 (Conv2D)           (None, 8, 23, 32)         3104      \n",
      "_________________________________________________________________\n",
      "conv2d_37 (Conv2D)           (None, 8, 21, 32)         3104      \n",
      "_________________________________________________________________\n",
      "conv2d_38 (Conv2D)           (None, 8, 19, 32)         3104      \n",
      "_________________________________________________________________\n",
      "batch_normalization_11 (Batc (None, 8, 19, 32)         128       \n",
      "_________________________________________________________________\n",
      "average_pooling2d_14 (Averag (None, 8, 6, 32)          0         \n",
      "_________________________________________________________________\n",
      "conv2d_39 (Conv2D)           (None, 8, 4, 2)           194       \n",
      "_________________________________________________________________\n",
      "average_pooling2d_15 (Averag (None, 8, 1, 2)           0         \n",
      "_________________________________________________________________\n",
      "max_pooling2d_3 (MaxPooling2 (None, 1, 1, 2)           0         \n",
      "_________________________________________________________________\n",
      "flatten_1 (Flatten)          (None, 2)                 0         \n",
      "_________________________________________________________________\n",
      "softmax_3 (Softmax)          (None, 2)                 0         \n",
      "=================================================================\n",
      "Total params: 25,538\n",
      "Trainable params: 25,346\n",
      "Non-trainable params: 192\n",
      "_________________________________________________________________\n"
     ]
    }
   ],
   "source": [
    "dummy = np.expand_dims(posdataweak,-1)\n",
    "input_shape = dummy.shape[1:]\n",
    "\n",
    "model = keras.Sequential(\n",
    "    [\n",
    "        # Feature extraction block\n",
    "        keras.Input(shape=input_shape),\n",
    "        layers.Conv2D(32, kernel_size=(1,3), activation=\"relu\"),\n",
    "        layers.Conv2D(32, kernel_size=(1,3), activation=\"relu\"),\n",
    "        layers.Conv2D(32, kernel_size=(1,3), activation=\"relu\"),\n",
    "        layers.BatchNormalization(),\n",
    "        layers.AveragePooling2D(pool_size=(1,4),strides=(1,3)),\n",
    "        layers.Conv2D(32, kernel_size=(1,3), activation=\"relu\"),\n",
    "        layers.Conv2D(32, kernel_size=(1,3), activation=\"relu\"),\n",
    "        layers.Conv2D(32, kernel_size=(1,3), activation=\"relu\"),\n",
    "        layers.BatchNormalization(),\n",
    "        layers.AveragePooling2D(pool_size=(1,4),strides=(1,3)),\n",
    "        layers.Conv2D(32, kernel_size=(1,3), activation=\"relu\"),\n",
    "        layers.Conv2D(32, kernel_size=(1,3), activation=\"relu\"),\n",
    "        layers.Conv2D(32, kernel_size=(1,3), activation=\"relu\"),\n",
    "        layers.BatchNormalization(),\n",
    "        layers.AveragePooling2D(pool_size=(1,4),strides=(1,3)),\n",
    "        # Classification Block\n",
    "        layers.Conv2D(2, kernel_size=(1,3), activation=\"relu\"),\n",
    "        layers.AveragePooling2D(pool_size=(1,4),strides=(1,3)),\n",
    "        layers.MaxPooling2D(pool_size=(ch,1)),\n",
    "        layers.Flatten(),\n",
    "        layers.Softmax()\n",
    "#         layers.MaxPooling2D(pool_size=(2, 2)),\n",
    "#         layers.Conv2D(64, kernel_size=(3, 3), activation=\"relu\"),\n",
    "#         layers.MaxPooling2D(pool_size=(2, 2)),\n",
    "#         layers.Flatten(),\n",
    "#         layers.Dropout(0.5),\n",
    "#         layers.Dense(num_classes, activation=\"softmax\"),\n",
    "    ]\n",
    ")\n",
    "model.summary()"
   ]
  },
  {
   "cell_type": "markdown",
   "metadata": {},
   "source": [
    "<b>Now that the model is created it should be trained using the training data</b>"
   ]
  },
  {
   "cell_type": "code",
   "execution_count": 102,
   "metadata": {},
   "outputs": [
    {
     "name": "stdout",
     "output_type": "stream",
     "text": [
      "WARNING:tensorflow:sample_weight modes were coerced from\n",
      "  ...\n",
      "    to  \n",
      "  ['...']\n",
      "WARNING:tensorflow:sample_weight modes were coerced from\n",
      "  ...\n",
      "    to  \n",
      "  ['...']\n",
      "Train on 7200 samples, validate on 800 samples\n",
      "Epoch 1/15\n",
      "7200/7200 [==============================] - 97s 13ms/sample - loss: 1.6330e-04 - accuracy: 0.7001 - AUC: 0.6395 - val_loss: 1.4675e-04 - val_accuracy: 0.7163 - val_AUC: 0.6627\n",
      "Epoch 2/15\n",
      "7200/7200 [==============================] - 97s 14ms/sample - loss: 1.6295e-04 - accuracy: 0.7026 - AUC: 0.6439 - val_loss: 1.4669e-04 - val_accuracy: 0.7188 - val_AUC: 0.6652\n",
      "Epoch 3/15\n",
      "7200/7200 [==============================] - 93s 13ms/sample - loss: 1.6251e-04 - accuracy: 0.7015 - AUC: 0.6458 - val_loss: 1.4656e-04 - val_accuracy: 0.7212 - val_AUC: 0.6741\n",
      "Epoch 4/15\n",
      "7200/7200 [==============================] - 105s 15ms/sample - loss: 1.6195e-04 - accuracy: 0.7049 - AUC: 0.6506 - val_loss: 1.4636e-04 - val_accuracy: 0.7250 - val_AUC: 0.6770\n"
     ]
    },
    {
     "data": {
      "text/plain": [
       "<tensorflow.python.keras.callbacks.History at 0x1ff0f97d488>"
      ]
     },
     "execution_count": 102,
     "metadata": {},
     "output_type": "execute_result"
    }
   ],
   "source": [
    "batch_size = 300\n",
    "epochs = 15\n",
    "num_classes = 2\n",
    "ylabel = keras.utils.to_categorical(classid, num_classes)\n",
    "X_train,X_test,Y_train,Y_test = train_test_split(datasetweak,ylabel,test_size = 0.2 , random_state=2)\n",
    "sgd = tf.keras.optimizers.SGD(\n",
    "    learning_rate=0.001, momentum=0.9, nesterov=True, name=\"SGD\"\n",
    ")\n",
    "model.compile(loss=\"binary_crossentropy\",optimizer=sgd,metrics=[\"accuracy\",\"AUC\"])\n",
    "callback = tf.keras.callbacks.EarlyStopping(monitor='AUC', patience=3)\n",
    "\n",
    "class_weight = {0: w0, 1: w1}\n",
    "model.fit(X_train, Y_train, batch_size=batch_size, epochs=epochs, validation_split=0.1,callbacks=[callback],class_weight=class_weight)"
   ]
  },
  {
   "cell_type": "code",
   "execution_count": 128,
   "metadata": {},
   "outputs": [
    {
     "data": {
      "text/plain": [
       "(8, 256)"
      ]
     },
     "execution_count": 128,
     "metadata": {},
     "output_type": "execute_result"
    }
   ],
   "source": [
    "# posdataweak = np.array(posdataweak)\n",
    "# negdataweakk = np.array(negdataweak)\n",
    "# np.all(negdataweak[1]==negdataweak[10])\n",
    "# np.all(posdataweak[2]==posdataweak[2])\n",
    "# negdataweak\n",
    "# posdataweak\n",
    "input_shape"
   ]
  },
  {
   "cell_type": "markdown",
   "metadata": {},
   "source": [
    "## Test section "
   ]
  },
  {
   "cell_type": "code",
   "execution_count": 122,
   "metadata": {},
   "outputs": [
    {
     "data": {
      "text/plain": [
       "7"
      ]
     },
     "execution_count": 122,
     "metadata": {},
     "output_type": "execute_result"
    }
   ],
   "source": [
    "class myclass:\n",
    "    def __init__(self,a=10,b=5):\n",
    "        self.a= a\n",
    "        self.b = b\n",
    "    def __call__(self):\n",
    "        return self.a+self.b\n",
    "        \n",
    "a = myclass(2)\n",
    "a()"
   ]
  },
  {
   "cell_type": "code",
   "execution_count": 79,
   "metadata": {},
   "outputs": [
    {
     "data": {
      "text/plain": [
       "array([[1., 1., 1.]])"
      ]
     },
     "execution_count": 79,
     "metadata": {},
     "output_type": "execute_result"
    }
   ],
   "source": [
    "a = np.ones((1,3))\n",
    "b = np.ones((3,))*2\n",
    "c = np.ones((3,))*3\n",
    "d = [a,b,c]\n",
    "dd = np.array(d)\n",
    "a\n",
    "np.all()"
   ]
  },
  {
   "cell_type": "code",
   "execution_count": 65,
   "metadata": {},
   "outputs": [
    {
     "name": "stdout",
     "output_type": "stream",
     "text": [
      "[[1 2]\n",
      " [2 3]\n",
      " [3 4]]\n",
      "(3, 2)\n",
      "[[[1]\n",
      "  [2]]\n",
      "\n",
      " [[2]\n",
      "  [3]]\n",
      "\n",
      " [[3]\n",
      "  [4]]]\n",
      "(3, 2, 1)\n"
     ]
    },
    {
     "data": {
      "text/plain": [
       "array([6405., 1595.], dtype=float32)"
      ]
     },
     "execution_count": 65,
     "metadata": {},
     "output_type": "execute_result"
    }
   ],
   "source": [
    "a=np.array([[1,2],[2,3],[3,4]])\n",
    "print(a)\n",
    "print(a.shape)\n",
    "a=np.expand_dims(a,-1)\n",
    "print(a)\n",
    "print(a.shape)\n",
    "# input_shape[::-1]\n",
    "# np.expand_dims()\n",
    "dummy.shape\n",
    "# yy = keras.utils.to_categorical([1,0,1,1,0,0],num_classes=2)\n",
    "# yy\n",
    "Y_train.sum(0)\n"
   ]
  },
  {
   "cell_type": "code",
   "execution_count": 168,
   "metadata": {},
   "outputs": [],
   "source": [
    "import skfuzzy as fuzz\n",
    "from skfuzzy import control as ctrl\n",
    "\n",
    "# New Antecedent/Consequent objects hold universe variables and membership\n",
    "# functions\n",
    "freq = ctrl.Antecedent(np.arange(0, 16, 1/100), 'freq')\n",
    "Siezure=ctrl.Consequent(np.arange(0, 2, 1/100), 'Siezure')\n",
    "\n",
    "freq[\"Low\"] = fuzz.gaussmf(freq.universe,0,5)\n",
    "freq[\"Mid\"] = fuzz.gaussmf(freq.universe,9,0.5)\n",
    "freq[\"High\"] = fuzz.gaussmf(freq.universe,15,2.5)\n",
    "Siezure[\"Low\"] = fuzz.gaussmf(Siezure.universe,0,0.1)\n",
    "Siezure[\"High\"] = fuzz.gaussmf(Siezure.universe,1,0.1)\n",
    "# Auto-membership function population is possible with .automf(3, 5, or 7)\n",
    "# quality.automf(3)\n",
    "# service.automf(3)\n",
    "\n",
    "# # Custom membership functions can be built interactively with a familiar,\n",
    "# # Pythonic API\n",
    "# tip['low'] = fuzz.trimf(tip.universe, [0, 0, 13])\n",
    "# tip['medium'] = fuzz.trimf(tip.universe, [0, 13, 25])\n",
    "# tip['high'] = fuzz.trimf(tip.universe, [13, 25, 25])"
   ]
  },
  {
   "cell_type": "code",
   "execution_count": 90,
   "metadata": {},
   "outputs": [
    {
     "data": {
      "text/plain": [
       "[<matplotlib.lines.Line2D at 0x1ff3ca05388>]"
      ]
     },
     "execution_count": 90,
     "metadata": {},
     "output_type": "execute_result"
    },
    {
     "data": {
      "image/png": "[encoded data removed]",
      "text/plain": [
       "<Figure size 432x288 with 1 Axes>"
      ]
     },
     "metadata": {
      "needs_background": "light"
     },
     "output_type": "display_data"
    }
   ],
   "source": [
    "fftdata = np.fft.fft(posdataweak[0,1,:],n=16*fs)\n",
    "plt.plot(np.arange(0,16,1/fs),np.abs(fftdata))"
   ]
  },
  {
   "cell_type": "code",
   "execution_count": 177,
   "metadata": {},
   "outputs": [
    {
     "name": "stdout",
     "output_type": "stream",
     "text": [
      "0.08625218293889549\n"
     ]
    },
    {
     "name": "stderr",
     "output_type": "stream",
     "text": [
      "C:\\eng_softs\\Anaconda3\\lib\\site-packages\\skfuzzy\\control\\fuzzyvariable.py:122: UserWarning: Matplotlib is currently using module://ipykernel.pylab.backend_inline, which is a non-GUI backend, so cannot show the figure.\n",
      "  fig.show()\n"
     ]
    },
    {
     "data": {
      "image/png": "[encoded data removed]",
      "text/plain": [
       "<Figure size 432x288 with 1 Axes>"
      ]
     },
     "metadata": {
      "needs_background": "light"
     },
     "output_type": "display_data"
    }
   ],
   "source": [
    "rule1 = ctrl.Rule(freq['Low'] | freq['High'], Siezure['Low'])\n",
    "rule2 = ctrl.Rule(freq['Mid'], Siezure['High'])\n",
    "Siezureness_ctrl = ctrl.ControlSystem([rule1,rule2])\n",
    "Siezureness = ctrl.ControlSystemSimulation(Siezureness_ctrl)\n",
    "Siezureness.input['freq']=13\n",
    "Siezureness.compute()\n",
    "print(Siezureness.output['Siezure'])\n",
    "tip.view(sim=Siezureness)"
   ]
  },
  {
   "cell_type": "code",
   "execution_count": 169,
   "metadata": {},
   "outputs": [
    {
     "name": "stderr",
     "output_type": "stream",
     "text": [
      "C:\\eng_softs\\Anaconda3\\lib\\site-packages\\skfuzzy\\control\\fuzzyvariable.py:122: UserWarning: Matplotlib is currently using module://ipykernel.pylab.backend_inline, which is a non-GUI backend, so cannot show the figure.\n",
      "  fig.show()\n"
     ]
    },
    {
     "data": {
      "image/png": "[encoded data removed]",
      "text/plain": [
       "<Figure size 432x288 with 1 Axes>"
      ]
     },
     "metadata": {
      "needs_background": "light"
     },
     "output_type": "display_data"
    }
   ],
   "source": [
    "freq.view()"
   ]
  },
  {
   "cell_type": "code",
   "execution_count": 182,
   "metadata": {},
   "outputs": [
    {
     "name": "stderr",
     "output_type": "stream",
     "text": [
      "C:\\eng_softs\\Anaconda3\\lib\\site-packages\\skfuzzy\\control\\fuzzyvariable.py:122: UserWarning: Matplotlib is currently using module://ipykernel.pylab.backend_inline, which is a non-GUI backend, so cannot show the figure.\n",
      "  fig.show()\n"
     ]
    },
    {
     "data": {
      "image/png": "[encoded data removed]",
      "text/plain": [
       "<Figure size 432x288 with 1 Axes>"
      ]
     },
     "metadata": {
      "needs_background": "light"
     },
     "output_type": "display_data"
    }
   ],
   "source": [
    "ax = Siezure.view()\n"
   ]
  }
 ],
 "metadata": {
  "kernelspec": {
   "display_name": "Python 3",
   "language": "python",
   "name": "python3"
  },
  "language_info": {
   "codemirror_mode": {
    "name": "ipython",
    "version": 3
   },
   "file_extension": ".py",
   "mimetype": "text/x-python",
   "name": "python",
   "nbconvert_exporter": "python",
   "pygments_lexer": "ipython3",
   "version": "3.7.4"
  }
 },
 "nbformat": 4,
 "nbformat_minor": 2
}
