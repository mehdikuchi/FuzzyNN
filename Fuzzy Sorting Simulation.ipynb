{
 "cells": [
  {
   "cell_type": "markdown",
   "metadata": {},
   "source": [
    "# Simulation of soft computing course's project\n",
    "#### Author: Mahdi Tanbakuchi              SID: 9816408046\n"
   ]
  },
  {
   "cell_type": "markdown",
   "metadata": {},
   "source": [
    "<b> First required libraries are imported to the workspace </b>"
   ]
  },
  {
   "cell_type": "code",
   "execution_count": 74,
   "metadata": {},
   "outputs": [],
   "source": [
    "import numpy as np\n",
    "import random \n",
    "import matplotlib.pyplot as plt\n",
    "from itertools import permutations"
   ]
  },
  {
   "cell_type": "markdown",
   "metadata": {},
   "source": [
    "<i> Now lets define the model to generate our data which can be later used for evaluating the idea proposed in the abstract</i><br>\n",
    "Below the Fr represents the acceptable frequnecies for the normal case while the Fw is representetive for the abnormal case. scale is used to generate samples from the frequency ranges randomly"
   ]
  },
  {
   "cell_type": "code",
   "execution_count": 102,
   "metadata": {},
   "outputs": [],
   "source": [
    "Fr = np.linspace(0,10,30)\n",
    "Fr = np.concatenate((Fr,np.linspace(15,30,30)))\n",
    "Fw = np.linspace(10.1,14.9,30)\n",
    "Fr = np.random.permutation(Fr)\n",
    "Fw = np.random.permutation(Fw)\n",
    "scale = np.linspace(1,100,100)\n",
    "scale = np.random.permutation(scale)"
   ]
  },
  {
   "cell_type": "markdown",
   "metadata": {},
   "source": [
    "Now parameter selection must be done in order to simulate the data for evaluation "
   ]
  },
  {
   "cell_type": "code",
   "execution_count": null,
   "metadata": {},
   "outputs": [],
   "source": [
    "N = 5 \n",
    "trainsize = 1000\n",
    "clr = 0.2\n",
    "Fr = permutations(Fr,N)\n",
    "Fw = permutations(Fw,N)\n",
    "scale1=permutations(scale,N)\n",
    "scale = np.random.permutation(scale)\n",
    "scale2=permutations(scale,N)\n",
    "posdatasize = trainsize*(1-clr)\n",
    "negdatasize = trainsize*clr\n",
    "posdata = list()\n",
    "negdata = list()\n",
    "for i in range(posdatasize):\n",
    "    posdata.append(datagen(next(Fr),next(scale1)))\n",
    "for i in range(negdatasize):\n",
    "    negdata.append(datagen(next(Fw),next(scale2)))\n"
   ]
  },
  {
   "cell_type": "markdown",
   "metadata": {},
   "source": [
    "Now that all the ingredients of the generator is made ready it is time to define the generator itself: <br>\n",
    "The generator works as follows:\n",
    "<list>\n",
    "    <li> uses cosine function with the given frequency </li>\n",
    "    <li> uses the wegith to superpose all the given frequencies </li>\n",
    "</list>\n",
    "The sampling frequency should also be given to the code (fs=256 hz by default)"
   ]
  },
  {
   "cell_type": "code",
   "execution_count": 82,
   "metadata": {},
   "outputs": [],
   "source": [
    "def datagen(freq,coef,fs=256,duration=10):    \n",
    "    t = np.arange(0,duration-1,1/fs)\n",
    "    y = np.zeros(t.shape)\n",
    "    if(np.linalg.norm(coef)!=1):\n",
    "        coefnorm = coef/np.linalg.norm(coef)\n",
    "    for i,j in zip(freq,coefnorm):\n",
    "        y+=j*np.cos(2*np.pi*i*t)\n",
    "    return y\n",
    "        \n",
    "    "
   ]
  },
  {
   "cell_type": "code",
   "execution_count": 83,
   "metadata": {},
   "outputs": [
    {
     "data": {
      "text/plain": [
       "[<matplotlib.lines.Line2D at 0x17c49096c18>]"
      ]
     },
     "execution_count": 83,
     "metadata": {},
     "output_type": "execute_result"
    },
    {
     "data": {
      "image/png": "[encoded data removed]",
      "text/plain": [
       "<Figure size 432x288 with 1 Axes>"
      ]
     },
     "metadata": {
      "needs_background": "light"
     },
     "output_type": "display_data"
    }
   ],
   "source": [
    "a = datagen([1,20,3],[2,1,1])\n",
    "plt.plot(a)"
   ]
  },
  {
   "cell_type": "code",
   "execution_count": 97,
   "metadata": {},
   "outputs": [],
   "source": [
    "a = np.arange(1,3,1)\n",
    "b = np.arange(-10,-7,1)\n"
   ]
  },
  {
   "cell_type": "code",
   "execution_count": 98,
   "metadata": {},
   "outputs": [],
   "source": [
    "aa = permutations(a,2)\n",
    "bb = permutations(b,2)\n"
   ]
  },
  {
   "cell_type": "code",
   "execution_count": 99,
   "metadata": {},
   "outputs": [
    {
     "name": "stdout",
     "output_type": "stream",
     "text": [
      "(1, 2) * (-10, -9)\n",
      "(2, 1) * (-10, -8)\n"
     ]
    }
   ],
   "source": [
    "for aaa,bbb in zip(aa,bb):\n",
    "    print(aaa,\"*\",bbb)"
   ]
  },
  {
   "cell_type": "code",
   "execution_count": 90,
   "metadata": {},
   "outputs": [
    {
     "data": {
      "text/plain": [
       "(1, 4)"
      ]
     },
     "execution_count": 90,
     "metadata": {},
     "output_type": "execute_result"
    }
   ],
   "source": [
    "h"
   ]
  },
  {
   "cell_type": "code",
   "execution_count": null,
   "metadata": {},
   "outputs": [],
   "source": []
  }
 ],
 "metadata": {
  "kernelspec": {
   "display_name": "Python 3",
   "language": "python",
   "name": "python3"
  },
  "language_info": {
   "codemirror_mode": {
    "name": "ipython",
    "version": 3
   },
   "file_extension": ".py",
   "mimetype": "text/x-python",
   "name": "python",
   "nbconvert_exporter": "python",
   "pygments_lexer": "ipython3",
   "version": "3.6.6"
  }
 },
 "nbformat": 4,
 "nbformat_minor": 2
}
